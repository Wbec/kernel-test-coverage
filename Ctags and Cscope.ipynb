{
 "cells": [
  {
   "cell_type": "markdown",
   "metadata": {},
   "source": [
    "Analysis pinned to Kernel version 5.10"
   ]
  },
  {
   "cell_type": "markdown",
   "metadata": {},
   "source": [
    "Outdated, no longer using ctags/cscope"
   ]
  },
  {
   "cell_type": "code",
   "execution_count": 1,
   "metadata": {},
   "outputs": [],
   "source": [
    "#todo: make the regexes more strict."
   ]
  },
  {
   "cell_type": "code",
   "execution_count": 2,
   "metadata": {},
   "outputs": [],
   "source": [
    "import re\n",
    "import itertools\n",
    "from itertools import islice\n",
    "from subprocess import run\n",
    "\n",
    "from pathlib import Path\n",
    "import sqlite3\n",
    "\n",
    "from locations import *\n",
    "\n",
    "\n",
    "connection = sqlite3.connect(OUTDIR/\"function_survey.db\")\n",
    "cursor = connection.cursor()"
   ]
  },
  {
   "cell_type": "code",
   "execution_count": 3,
   "metadata": {},
   "outputs": [],
   "source": [
    "def parse(filename, expression):\n",
    "    with open(filename) as f:\n",
    "        return [re.match(expression, line) for line in f]\n",
    "    \n",
    "def head(iterable, n=10):\n",
    "    return list(islice(iterable, n))"
   ]
  },
  {
   "cell_type": "markdown",
   "metadata": {},
   "source": [
    "## Ctags"
   ]
  },
  {
   "cell_type": "code",
   "execution_count": 4,
   "metadata": {},
   "outputs": [],
   "source": [
    "def reset_ctags_db():\n",
    "    cursor.execute(\"CREATE TABLE IF NOT EXISTS ctags (file, name, line, token_type, text)\")\n",
    "    cursor.execute(\"DELETE FROM ctags\")\n",
    "    \n",
    "def parse_ctags(filename):\n",
    "    expression = r\"(?P<name>^[^ ]+)\\s+(?P<token_type>[^ ]+)\\s+(?P<linenum>\\d+) (?P<path>[^ ]+) (?P<text>.*)\"\n",
    "    return parse(filename, expression)"
   ]
  },
  {
   "cell_type": "code",
   "execution_count": 6,
   "metadata": {},
   "outputs": [
    {
     "data": {
      "text/plain": [
       "[]"
      ]
     },
     "execution_count": 6,
     "metadata": {},
     "output_type": "execute_result"
    }
   ],
   "source": [
    "list(cursor.execute(\"SELECT * FROM ctags LIMIT 10\"))"
   ]
  },
  {
   "cell_type": "code",
   "execution_count": null,
   "metadata": {},
   "outputs": [],
   "source": [
    "# List all c and header files\n",
    "!find -name *.c -o -name *.h > {all_c_code}\n",
    "# get all tokens in the kernel.\n",
    "!ctags -x -L {all_c_code} > {kernel_tags}"
   ]
  },
  {
   "cell_type": "code",
   "execution_count": null,
   "metadata": {},
   "outputs": [],
   "source": [
    "# sort ctags output by line number, give contents of each function. (C does not allow nested functions)\n",
    "# assume one function per line.\n",
    "\n",
    "#the --languages=C flag causes headers to be excluded by ctags\n",
    "#running ctags with no settings results in python files being included"
   ]
  },
  {
   "cell_type": "code",
   "execution_count": 12,
   "metadata": {},
   "outputs": [
    {
     "data": {
      "text/plain": [
       "<sqlite3.Cursor at 0x7fe0a17ff880>"
      ]
     },
     "execution_count": 12,
     "metadata": {},
     "output_type": "execute_result"
    }
   ],
   "source": [
    "reset_ctags_db()\n",
    "cursor.executemany(\"INSERT INTO ctags VALUES (?,?,?,?,?)\", (\n",
    "    (m[\"path\"][len(\"./\"):],\n",
    "     m[\"name\"], m[\"linenum\"], m[\"token_type\"], m[\"text\"])\n",
    "    for m in parse_ctags(kernel_tags)))"
   ]
  },
  {
   "cell_type": "code",
   "execution_count": 13,
   "metadata": {
    "collapsed": true
   },
   "outputs": [
    {
     "data": {
      "text/plain": [
       "[('drivers/gpu/drm/msm/adreno/a2xx.xml.h',\n",
       "  'A2XX_A220_VSC_BIN_SIZE_HEIGHT',\n",
       "  '1419',\n",
       "  'function',\n",
       "  'static inline uint32_t A2XX_A220_VSC_BIN_SIZE_HEIGHT(uint32_t val)'),\n",
       " ('drivers/gpu/drm/msm/adreno/a2xx.xml.h',\n",
       "  'A2XX_A220_VSC_BIN_SIZE_WIDTH',\n",
       "  '1413',\n",
       "  'function',\n",
       "  'static inline uint32_t A2XX_A220_VSC_BIN_SIZE_WIDTH(uint32_t val)'),\n",
       " ('drivers/gpu/drm/msm/adreno/a2xx.xml.h',\n",
       "  'A2XX_CLEAR_COLOR_ALPHA',\n",
       "  '2397',\n",
       "  'function',\n",
       "  'static inline uint32_t A2XX_CLEAR_COLOR_ALPHA(uint32_t val)'),\n",
       " ('drivers/gpu/drm/msm/adreno/a2xx.xml.h',\n",
       "  'A2XX_CLEAR_COLOR_BLUE',\n",
       "  '2391',\n",
       "  'function',\n",
       "  'static inline uint32_t A2XX_CLEAR_COLOR_BLUE(uint32_t val)'),\n",
       " ('drivers/gpu/drm/msm/adreno/a2xx.xml.h',\n",
       "  'A2XX_CLEAR_COLOR_GREEN',\n",
       "  '2385',\n",
       "  'function',\n",
       "  'static inline uint32_t A2XX_CLEAR_COLOR_GREEN(uint32_t val)'),\n",
       " ('drivers/gpu/drm/msm/adreno/a2xx.xml.h',\n",
       "  'A2XX_CLEAR_COLOR_RED',\n",
       "  '2379',\n",
       "  'function',\n",
       "  'static inline uint32_t A2XX_CLEAR_COLOR_RED(uint32_t val)'),\n",
       " ('drivers/gpu/drm/msm/adreno/a2xx.xml.h',\n",
       "  'A2XX_MH_ARBITER_CONFIG_IN_FLIGHT_LIMIT',\n",
       "  '1387',\n",
       "  'function',\n",
       "  'static inline uint32_t A2XX_MH_ARBITER_CONFIG_IN_FLIGHT_LIMIT(uint32_t val)'),\n",
       " ('drivers/gpu/drm/msm/adreno/a2xx.xml.h',\n",
       "  'A2XX_MH_ARBITER_CONFIG_PAGE_SIZE',\n",
       "  '1378',\n",
       "  'function',\n",
       "  'static inline uint32_t A2XX_MH_ARBITER_CONFIG_PAGE_SIZE(uint32_t val)'),\n",
       " ('drivers/gpu/drm/msm/adreno/a2xx.xml.h',\n",
       "  'A2XX_MH_ARBITER_CONFIG_SAME_PAGE_LIMIT',\n",
       "  '1368',\n",
       "  'function',\n",
       "  'static inline uint32_t A2XX_MH_ARBITER_CONFIG_SAME_PAGE_LIMIT(uint32_t val)'),\n",
       " ('drivers/gpu/drm/msm/adreno/a2xx.xml.h',\n",
       "  'A2XX_MH_MMU_CONFIG_CP_R0_CLNT_BEHAVIOR',\n",
       "  '1178',\n",
       "  'function',\n",
       "  'static inline uint32_t A2XX_MH_MMU_CONFIG_CP_R0_CLNT_BEHAVIOR(enum adreno_mmu_clnt_beh val)')]"
      ]
     },
     "execution_count": 13,
     "metadata": {},
     "output_type": "execute_result"
    }
   ],
   "source": [
    "head(cursor.execute(\"SELECT * FROM ctags WHERE token_type = 'function'\"))"
   ]
  },
  {
   "cell_type": "code",
   "execution_count": null,
   "metadata": {},
   "outputs": [],
   "source": [
    "# files = {}\n",
    "# test_functions = set()\n",
    "# for m in parse_ctags(kernel_tags):\n",
    "#     # name token_type linenum path text\n",
    "#     files[m[\"path\"]] = files.get(m[\"path\"],[]) + [m]\n",
    "#     if m[\"token_type\"] == \"function\" and \"test\" in m[\"name\"]:\n",
    "#         test_functions.add(m)"
   ]
  },
  {
   "cell_type": "code",
   "execution_count": null,
   "metadata": {},
   "outputs": [],
   "source": [
    "# {k: \n",
    "#  [(int(m[\"linenum\"]), m[\"token_type\"],\n",
    "#    m[\"name\"], m[\"text\"])\n",
    "#   for m in sorted(v, key=lambda m:int(m[\"linenum\"]))]\n",
    "#  for k,v in islice(files.items(), 1, 2)}"
   ]
  },
  {
   "cell_type": "code",
   "execution_count": null,
   "metadata": {},
   "outputs": [],
   "source": [
    "# [(int(m[\"linenum\"]), m[\"token_type\"],\n",
    "#    m[\"name\"], m[\"text\"])\n",
    "#   for m in sorted(files[\"./fs/9p/fid.c\"],\n",
    "#                   key=lambda m:int(m[\"linenum\"]))]"
   ]
  },
  {
   "cell_type": "code",
   "execution_count": null,
   "metadata": {},
   "outputs": [],
   "source": [
    "# !grep -v variable {kernel_tags} | head -n 50 "
   ]
  },
  {
   "cell_type": "markdown",
   "metadata": {},
   "source": [
    "## Cscope"
   ]
  },
  {
   "cell_type": "code",
   "execution_count": null,
   "metadata": {},
   "outputs": [],
   "source": [
    "def parse_cscope(filename):\n",
    "    expression = r\"(?P<path>^[^ ]+) (?P<funcname>[^ ]+) (?P<linenum>\\d+) (?P<usage_line>.*)\"\n",
    "    return parse(filename, expression)"
   ]
  },
  {
   "cell_type": "code",
   "execution_count": null,
   "metadata": {},
   "outputs": [],
   "source": [
    "# get all function calls\n",
    "!cscope -RL2 \".*\" > {all_calls}\n",
    "# get all calls from a function with test in the name\n",
    "!cscope -RL2 \".*test.*\" > {test_targets}"
   ]
  },
  {
   "cell_type": "raw",
   "metadata": {},
   "source": [
    "Run cscope from root of kernel\n",
    "Use -2 \".*\" to find all functions called by any other function.\n",
    "Use -2 \".*test.*\" to find all functions called by any function with test in the name.\n",
    "Parse the names of these functions.\n",
    "\n",
    "# !cscope -RL1 \".*\" > {all_symbols}"
   ]
  },
  {
   "cell_type": "code",
   "execution_count": null,
   "metadata": {},
   "outputs": [],
   "source": [
    "called_functions = set()\n",
    "called_function_names = set()\n",
    "for m in parse_cscope(all_calls):\n",
    "    called_functions.add((m[\"funcname\"], m[\"path\"]))\n",
    "    called_function_names.add(m[\"funcname\"])"
   ]
  },
  {
   "cell_type": "code",
   "execution_count": null,
   "metadata": {},
   "outputs": [],
   "source": [
    "tested_functions = set()\n",
    "tested_function_names = set()     \n",
    "for m in parse_cscope(test_targets):\n",
    "    tested_functions.add((m[\"funcname\"], m[\"path\"]))\n",
    "    tested_function_names.add(m[\"funcname\"])"
   ]
  },
  {
   "cell_type": "code",
   "execution_count": null,
   "metadata": {},
   "outputs": [],
   "source": [
    "len(tested_function_names - called_function_names), tested_function_names - called_function_names\n",
    "# before the math.c fix, there were 187 functions in this set"
   ]
  },
  {
   "cell_type": "code",
   "execution_count": null,
   "metadata": {},
   "outputs": [],
   "source": [
    "# functions detected by cscope (getting called by the tests) but not by ctags\n",
    "len(tested_function_names - func_names), len(tested_functions - functions)"
   ]
  },
  {
   "cell_type": "code",
   "execution_count": null,
   "metadata": {},
   "outputs": [],
   "source": [
    "target = KERNEL\n",
    "\n",
    "!(cd {target}; cscope -RL0 \".*\")"
   ]
  },
  {
   "cell_type": "code",
   "execution_count": null,
   "metadata": {},
   "outputs": [],
   "source": []
  },
  {
   "cell_type": "code",
   "execution_count": null,
   "metadata": {},
   "outputs": [],
   "source": [
    "# the results of this cell seem to indicate that a single directory (arch/sh/math-emu) is tripping up cscope.\n",
    "# removeing that file lets cscope run unimpeded,\n",
    "def test_cscope(path):\n",
    "    if not path.is_dir():\n",
    "        print(\"fail on file:\",path)\n",
    "        return\n",
    "    for p in path.iterdir():\n",
    "        if p.is_dir():\n",
    "            print(p)\n",
    "            result = run('cscope -RL0 \".*\"',cwd=p, capture_output=True, shell=True)\n",
    "            # return code is a better way to identify if errors\n",
    "            # could just list all dirs/files in kernel, and echo stderr to each\n",
    "            # find -d (gives list of directories)\n",
    "            if result.stderr not in {b'', b'cscope: no source files found\\n'}:\n",
    "                print(p, repr(result.stderr))\n",
    "                test_cscope(p)\n",
    "\n",
    "test_cscope(KERNEL)"
   ]
  },
  {
   "cell_type": "code",
   "execution_count": null,
   "metadata": {},
   "outputs": [],
   "source": [
    "result = run('cscope -RL0 \".*\"', capture_output=True, shell=True)\n",
    "result"
   ]
  },
  {
   "cell_type": "raw",
   "metadata": {},
   "source": [
    "Check standard for function declarations, semicolon at the end indicates.\n",
    "\n",
    "Look for function names in the bodies of other functions.\n",
    "Track duplicated identifiers, ignore them for now."
   ]
  }
 ],
 "metadata": {
  "kernelspec": {
   "display_name": "Python 3",
   "language": "python",
   "name": "python3"
  },
  "language_info": {
   "codemirror_mode": {
    "name": "ipython",
    "version": 3
   },
   "file_extension": ".py",
   "mimetype": "text/x-python",
   "name": "python",
   "nbconvert_exporter": "python",
   "pygments_lexer": "ipython3",
   "version": "3.8.5"
  }
 },
 "nbformat": 4,
 "nbformat_minor": 4
}
