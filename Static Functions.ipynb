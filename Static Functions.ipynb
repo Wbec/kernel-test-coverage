{
 "cells": [
  {
   "cell_type": "code",
   "execution_count": 1,
   "metadata": {},
   "outputs": [],
   "source": [
    "def sql(query):\n",
    "    !sqlite3 function_survey/output/function_survey.db \"{query}\""
   ]
  },
  {
   "cell_type": "code",
   "execution_count": 2,
   "metadata": {
    "scrolled": true
   },
   "outputs": [
    {
     "name": "stdout",
     "output_type": "stream",
     "text": [
      "CREATE VIEW used_func_names(file, outer_function, name) AS\r\n",
      "SELECT \r\n",
      "  cregit_names.file AS file, cregit_names.function_name AS outer_function,\r\n",
      "  cregit_names.token_name AS name\r\n",
      "FROM cregit_names INNER JOIN cregit_functions ON cregit_names.token_name = cregit_functions.name;\r\n",
      "CREATE VIEW test_funcs AS SELECT * from cregit_functions WHERE name LIKE '%test%'\r\n",
      "/* test_funcs(file,name) */;\r\n",
      "CREATE VIEW tested_funcs AS SELECT * FROM test_funcs JOIN cregit_calls ON cregit_calls.caller = test_funcs.name\r\n",
      "/* tested_funcs(file,name,\"file:1\",caller,callee) */;\r\n",
      "CREATE TABLE cregit_functions (file,name);\r\n",
      "CREATE INDEX idx_functions ON cregit_functions (file, name);\r\n",
      "CREATE TABLE cregit_calls (file,caller,callee);\r\n",
      "CREATE INDEX idx_calls ON cregit_calls (file,caller,callee);\r\n",
      "CREATE TABLE cregit_includes (file,include);\r\n",
      "CREATE TABLE cregit_specifiers (file,name,specifier);\r\n",
      "CREATE TABLE cregit_identifiers (file,function,identifier);\r\n",
      "CREATE INDEX idx_identifiers ON cregit_identifiers (file,function,identifier);\r\n",
      "CREATE TABLE cregit_macros (file,name);\r\n",
      "CREATE VIEW functions AS\r\n",
      "    WITH definitions AS (\r\n",
      "        SELECT *, COUNT(*) AS times_defined FROM cregit_functions\r\n",
      "        GROUP BY file, name\r\n",
      "    ), specifiers AS (\r\n",
      "        SELECT file,name, COUNT(*) AS specifier_count FROM cregit_specifiers\r\n",
      "        WHERE specifier = 'static'\r\n",
      "        GROUP BY file, name\r\n",
      "    ), pairs AS (SELECT definitions.file, definitions.name, times_defined,\r\n",
      "        IFNULL(specifier_count, 0) AS specifier_count \r\n",
      "        FROM definitions LEFT JOIN specifiers\r\n",
      "        ON definitions.file = specifiers.file AND definitions.name = specifiers.name\r\n",
      "    )\r\n",
      "SELECT file,name,times_defined, specifier_count,\r\n",
      "    CASE\r\n",
      "        WHEN times_defined = specifier_count THEN 'static'\r\n",
      "        WHEN specifier_count = 0 THEN 'non-static'\r\n",
      "        ELSE 'varies' END\r\n",
      "    AS is_static\r\n",
      "FROM pairs\r\n",
      "/* functions(file,name,times_defined,specifier_count,is_static) */;\r\n"
     ]
    }
   ],
   "source": [
    "sql(\".schema\")"
   ]
  },
  {
   "cell_type": "code",
   "execution_count": 3,
   "metadata": {},
   "outputs": [],
   "source": [
    "#sql(\"\"\"DROP VIEW functions;\"\"\")"
   ]
  },
  {
   "cell_type": "code",
   "execution_count": 4,
   "metadata": {},
   "outputs": [],
   "source": [
    "sql(\"\"\"\n",
    "CREATE VIEW IF NOT EXISTS functions AS\n",
    "    WITH definitions AS (\n",
    "        SELECT *, COUNT(*) AS times_defined FROM cregit_functions\n",
    "        GROUP BY file, name\n",
    "    ), specifiers AS (\n",
    "        SELECT file,name, COUNT(*) AS specifier_count FROM cregit_specifiers\n",
    "        WHERE specifier = 'static'\n",
    "        GROUP BY file, name\n",
    "    ), pairs AS (SELECT definitions.file, definitions.name, times_defined,\n",
    "        IFNULL(specifier_count, 0) AS specifier_count \n",
    "        FROM definitions LEFT JOIN specifiers\n",
    "        ON definitions.file = specifiers.file AND definitions.name = specifiers.name\n",
    "    )\n",
    "SELECT file, name, times_defined, specifier_count,\n",
    "    CASE\n",
    "        WHEN times_defined = specifier_count THEN 'static'\n",
    "        WHEN specifier_count = 0 THEN 'non-static'\n",
    "        ELSE 'varies' END\n",
    "    AS is_static\n",
    "FROM pairs\n",
    ";\"\"\")"
   ]
  },
  {
   "cell_type": "code",
   "execution_count": 5,
   "metadata": {},
   "outputs": [
    {
     "name": "stdout",
     "output_type": "stream",
     "text": [
      "arch/arm/mach-omap2/board-n8x0.c|n8x0_mmc_init|2|1|varies\n",
      "arch/csky/kernel/stacktrace.c|walk_stackframe|2|1|varies\n",
      "arch/h8300/kernel/irq.c|setup_vector|2|1|varies\n",
      "arch/ia64/kernel/topology.c|arch_register_cpu|2|1|varies\n",
      "arch/mips/kvm/mmu.c||2|1|varies\n",
      "arch/powerpc/kernel/fadump.c|fadump_cma_init|2|1|varies\n",
      "arch/powerpc/mm/book3s64/hash_utils.c|get_paca_psize|2|1|varies\n",
      "arch/powerpc/platforms/cell/axon_msi.c|axon_msi_debug_setup|2|1|varies\n",
      "arch/x86/kernel/topology.c|arch_register_cpu|2|1|varies\n",
      "arch/x86/pci/xen.c|xen_setup_pci_msi|2|1|varies\n",
      "block/bfq-cgroup.c|bfqg_and_blkg_get|2|1|varies\n",
      "drivers/acpi/acpica/evxface.c||12|1|varies\n",
      "drivers/acpi/acpica/nsxfeval.c||7|2|varies\n",
      "drivers/acpi/acpica/nsxfname.c||3|1|varies\n",
      "drivers/acpi/acpica/rsxface.c||8|1|varies\n",
      "drivers/bus/mips_cdmm.c||2|1|varies\n",
      "drivers/gpu/drm/drm_mm.c||3|2|varies\n",
      "drivers/infiniband/hw/qib/qib_debugfs.c||3|2|varies\n",
      "drivers/mmc/host/sdhci-pltfm.c|sdhci_get_compatibility|2|1|varies\n",
      "drivers/pci/pci-sysfs.c|pci_create_resource_files|2|1|varies\n",
      "drivers/pci/pci-sysfs.c|pci_remove_resource_files|2|1|varies\n",
      "drivers/scsi/dpt_i2o.c|adpt_delay|1|2|varies\n",
      "drivers/staging/rtl8192u/r8192U_core.c|rtl8192_usb_deleteendpoints|2|1|varies\n",
      "drivers/video/fbdev/skeletonfb.c|xxxfb_init|2|1|varies\n",
      "mm/mempolicy.c|change_prot_numa|2|1|varies\n",
      "mm/sparse.c|populate_section_memmap|2|1|varies\n",
      "mm/sparse.c|sparse_index_init|2|1|varies\n",
      "net/ceph/osdmap.c||4|2|varies\n"
     ]
    }
   ],
   "source": [
    "# Finds the problematic functions that are marked as both static and not static\n",
    "sql(\"\"\"SELECT * FROM functions WHERE is_static = 'varies';\"\"\")"
   ]
  },
  {
   "cell_type": "code",
   "execution_count": 13,
   "metadata": {},
   "outputs": [
    {
     "name": "stdout",
     "output_type": "stream",
     "text": [
      "|170|3\r\n",
      "usage|84|2\r\n",
      "f|71|2\r\n",
      "platform_init|41|2\r\n",
      "prom_init|33|2\r\n",
      "paging_init|32|2\r\n",
      "run_test|30|2\r\n",
      "die|29|2\r\n",
      "pcibios_map_irq|28|2\r\n",
      "machine_restart|27|2\r\n",
      "vidioc_s_input|26|2\r\n",
      "vidioc_g_input|26|2\r\n",
      "machine_power_off|26|2\r\n",
      "machine_halt|26|2\r\n",
      "vidioc_g_fmt_vid_cap|25|2\r\n",
      "get_sigframe|25|2\r\n",
      "vidioc_try_fmt_vid_cap|24|2\r\n",
      "vidioc_s_fmt_vid_cap|24|2\r\n",
      "vidioc_enum_input|24|2\r\n",
      "handle_signal|24|2\r\n",
      "do_signal|23|2\r\n",
      "test|21|2\r\n",
      "vidioc_g_std|20|2\r\n",
      "parse_opts|20|2\r\n",
      "sig_handler|19|2\r\n",
      "show_cpuinfo|19|2\r\n",
      "smp_prepare_cpus|18|2\r\n",
      "parse_options|18|2\r\n",
      "do_page_fault|18|2\r\n",
      "timer_interrupt|17|2\r\n"
     ]
    }
   ],
   "source": [
    "sql(\"\"\"SELECT name, COUNT (DISTINCT file) AS num_files, COUNT (DISTINCT is_static) FROM functions\n",
    "GROUP BY name\n",
    "HAVING num_files > 1 AND (is_static = 'varies' or COUNT(DISTINCT is_static) > 1)\n",
    "ORDER BY num_files DESC\n",
    "LIMIT 30;\"\"\")"
   ]
  },
  {
   "cell_type": "code",
   "execution_count": null,
   "metadata": {},
   "outputs": [],
   "source": []
  }
 ],
 "metadata": {
  "kernelspec": {
   "display_name": "Python 3",
   "language": "python",
   "name": "python3"
  },
  "language_info": {
   "codemirror_mode": {
    "name": "ipython",
    "version": 3
   },
   "file_extension": ".py",
   "mimetype": "text/x-python",
   "name": "python",
   "nbconvert_exporter": "python",
   "pygments_lexer": "ipython3",
   "version": "3.8.5"
  }
 },
 "nbformat": 4,
 "nbformat_minor": 4
}
