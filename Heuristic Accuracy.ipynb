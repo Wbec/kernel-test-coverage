{
 "cells": [
  {
   "cell_type": "code",
   "execution_count": 1,
   "metadata": {},
   "outputs": [],
   "source": [
    "def sql(query):\n",
    "    !sqlite3 function_survey/output/function_survey.db \"{query}\""
   ]
  },
  {
   "cell_type": "code",
   "execution_count": 2,
   "metadata": {
    "scrolled": true
   },
   "outputs": [
    {
     "name": "stdout",
     "output_type": "stream",
     "text": [
      "CREATE VIEW used_func_names(file, outer_function, name) AS\r\n",
      "SELECT \r\n",
      "  cregit_names.file AS file, cregit_names.function_name AS outer_function,\r\n",
      "  cregit_names.token_name AS name\r\n",
      "FROM cregit_names INNER JOIN cregit_functions ON cregit_names.token_name = cregit_functions.name;\r\n",
      "CREATE VIEW test_funcs AS SELECT * from cregit_functions WHERE name LIKE '%test%'\r\n",
      "/* test_funcs(file,name) */;\r\n",
      "CREATE VIEW tested_funcs AS SELECT * FROM test_funcs JOIN cregit_calls ON cregit_calls.caller = test_funcs.name\r\n",
      "/* tested_funcs(file,name,\"file:1\",caller,callee) */;\r\n",
      "CREATE TABLE cregit_includes (file,include);\r\n",
      "CREATE TABLE cregit_specifiers (file,name,specifier);\r\n",
      "CREATE TABLE cregit_identifiers (file,function,identifier);\r\n",
      "CREATE TABLE cregit_macros (file,name);\r\n",
      "CREATE INDEX idx_identifiers ON cregit_identifiers (file,function,identifier);\r\n",
      "CREATE TABLE cregit_functions (file,name);\r\n",
      "CREATE INDEX idx_functions ON cregit_functions (file, name);\r\n",
      "CREATE TABLE cregit_calls (file,caller,callee);\r\n"
     ]
    }
   ],
   "source": [
    "sql(\".schema\")"
   ]
  },
  {
   "cell_type": "code",
   "execution_count": 6,
   "metadata": {
    "collapsed": true
   },
   "outputs": [
    {
     "name": "stdout",
     "output_type": "stream",
     "text": [
      "drivers/gpu/drm/amd/amdgpu/amdgpu_vce.c|amdgpu_vce_ring_test_ring\r\n",
      "drivers/block/paride/friq.c|friq_test_proto\r\n",
      "tools/testing/selftests/bpf/prog_tests/btf.c|do_test_dedup\r\n",
      "fs/btrfs/tests/inode-tests.c|test_btrfs_get_extent\r\n",
      "drivers/dma/dmatest.c|dmatest_match_device\r\n",
      "tools/perf/tests/unit_number__scnprintf.c|test__unit_number__scnprint\r\n",
      "tools/testing/selftests/powerpc/alignment/alignment_handler.c|test_memcpy\r\n",
      "net/bluetooth/hci_sock.c|hci_test_bit\r\n",
      "arch/arm/probes/kprobes/test-core.c|test_before_pre_handler\r\n",
      "tools/testing/selftests/bpf/test_lru_map.c|do_test_lru_sanity5\r\n",
      "tools/perf/tests/parse-events.c|test__checkevent_tracepoint_multi\r\n",
      "drivers/gpu/drm/selftests/test-drm_cmdline_parser.c|drm_cmdline_test_res_rblank\r\n",
      "drivers/gpu/drm/radeon/radeon_fence.c|radeon_test_signaled\r\n",
      "tools/testing/selftests/bpf/test_verifier.c|do_test_single\r\n",
      "drivers/net/ethernet/intel/ice/ice_ethtool.c|ice_intr_test\r\n",
      "lib/test_lockup.c|test_kernel_ptr\r\n",
      "mm/debug_vm_pgtable.c|pmd_basic_tests\r\n",
      "tools/testing/selftests/bpf/prog_tests/fexit_bpf2bpf.c|test_fexit_bpf2bpf_common\r\n",
      "drivers/net/ethernet/sfc/falcon/falcon.c|falcon_test_nvram\r\n",
      "tools/testing/selftests/powerpc/math/vmx_syscall.c|test_vmx_syscall\r\n",
      "drivers/net/ethernet/stmicro/stmmac/stmmac_selftests.c|stmmac_test_reg_sar\r\n",
      "arch/powerpc/lib/feature-fixups.c|test_prefix_word_alt_patching\r\n",
      "drivers/gpu/drm/amd/amdgpu/gfx_v7_0.c|gfx_v7_0_ring_test_ring\r\n",
      "crypto/testmgr.c|build_cipher_test_sglists\r\n",
      "drivers/net/ethernet/intel/igc/igc_diag.c|igc_eeprom_test\r\n",
      "lib/test_min_heap.c|test_heap_pop_push\r\n",
      "arch/powerpc/lib/code-patching.c|test_branch_iform\r\n",
      "mm/debug_vm_pgtable.c|pud_populate_tests\r\n",
      "drivers/net/ethernet/stmicro/stmmac/stmmac_selftests.c|stmmac_test_phy_loopback\r\n",
      "drivers/misc/habanalabs/common/firmware_if.c|hl_fw_test_cpu_queue\r\n",
      "tools/lib/traceevent/parse-filter.c|test_op\r\n",
      "drivers/mtd/mtdsuper.c|mtd_test_super\r\n",
      "drivers/misc/habanalabs/goya/goya.c|goya_test_queue\r\n",
      "drivers/staging/comedi/drivers/ni_mio_common.c|test_route\r\n",
      "lib/test_kmod.c|misc_dev_to_test_dev\r\n",
      "tools/testing/selftests/x86/ptrace_syscall.c|test_sys32_regs\r\n",
      "mm/compaction.c|test_and_set_skip\r\n",
      "tools/testing/selftests/bpf/test_sock_addr.c|run_test_case\r\n",
      "lib/kunit/kunit-test.c|kunit_resource_test_mark_order\r\n",
      "lib/locking-selftest.c|ww_test_spin_context\r\n"
     ]
    }
   ],
   "source": [
    "sql(\"\"\"\n",
    "PRAGMA case_sensitive_like = 1;\n",
    "SELECT * \n",
    "FROM cregit_functions\n",
    "WHERE name LIKE '%test%'\n",
    "ORDER BY RANDOM()\n",
    "LIMIT 40\n",
    ";\"\"\")"
   ]
  },
  {
   "cell_type": "raw",
   "metadata": {},
   "source": [
    "drivers/gpu/drm/amd/amdgpu/amdgpu_vce.c|amdgpu_vce_ring_test_ring\n",
    "drivers/block/paride/friq.c|friq_test_proto\n",
    "tools/testing/selftests/bpf/prog_tests/btf.c|do_test_dedup\n",
    "fs/btrfs/tests/inode-tests.c|test_btrfs_get_extent\n",
    "drivers/dma/dmatest.c|dmatest_match_device\n",
    "tools/perf/tests/unit_number__scnprintf.c|test__unit_number__scnprint\n",
    "tools/testing/selftests/powerpc/alignment/alignment_handler.c|test_memcpy\n",
    "net/bluetooth/hci_sock.c|hci_test_bit\n",
    "arch/arm/probes/kprobes/test-core.c|test_before_pre_handler\n",
    "tools/testing/selftests/bpf/test_lru_map.c|do_test_lru_sanity5\n",
    "tools/perf/tests/parse-events.c|test__checkevent_tracepoint_multi\n",
    "drivers/gpu/drm/selftests/test-drm_cmdline_parser.c|drm_cmdline_test_res_rblank\n",
    "drivers/gpu/drm/radeon/radeon_fence.c|radeon_test_signaled\n",
    "tools/testing/selftests/bpf/test_verifier.c|do_test_single\n",
    "drivers/net/ethernet/intel/ice/ice_ethtool.c|ice_intr_test\n",
    "lib/test_lockup.c|test_kernel_ptr\n",
    "mm/debug_vm_pgtable.c|pmd_basic_tests\n",
    "tools/testing/selftests/bpf/prog_tests/fexit_bpf2bpf.c|test_fexit_bpf2bpf_common\n",
    "drivers/net/ethernet/sfc/falcon/falcon.c|falcon_test_nvram\n",
    "tools/testing/selftests/powerpc/math/vmx_syscall.c|test_vmx_syscall\n",
    "drivers/net/ethernet/stmicro/stmmac/stmmac_selftests.c|stmmac_test_reg_sar\n",
    "arch/powerpc/lib/feature-fixups.c|test_prefix_word_alt_patching\n",
    "drivers/gpu/drm/amd/amdgpu/gfx_v7_0.c|gfx_v7_0_ring_test_ring\n",
    "crypto/testmgr.c|build_cipher_test_sglists\n",
    "drivers/net/ethernet/intel/igc/igc_diag.c|igc_eeprom_test\n",
    "lib/test_min_heap.c|test_heap_pop_push\n",
    "arch/powerpc/lib/code-patching.c|test_branch_iform\n",
    "mm/debug_vm_pgtable.c|pud_populate_tests\n",
    "drivers/net/ethernet/stmicro/stmmac/stmmac_selftests.c|stmmac_test_phy_loopback\n",
    "drivers/misc/habanalabs/common/firmware_if.c|hl_fw_test_cpu_queue\n",
    "tools/lib/traceevent/parse-filter.c|test_op\n",
    "drivers/mtd/mtdsuper.c|mtd_test_super\n",
    "drivers/misc/habanalabs/goya/goya.c|goya_test_queue\n",
    "drivers/staging/comedi/drivers/ni_mio_common.c|test_route\n",
    "lib/test_kmod.c|misc_dev_to_test_dev\n",
    "tools/testing/selftests/x86/ptrace_syscall.c|test_sys32_regs\n",
    "mm/compaction.c|test_and_set_skip\n",
    "tools/testing/selftests/bpf/test_sock_addr.c|run_test_case\n",
    "lib/kunit/kunit-test.c|kunit_resource_test_mark_order\n",
    "lib/locking-selftest.c|ww_test_spin_context"
   ]
  },
  {
   "cell_type": "code",
   "execution_count": 3,
   "metadata": {},
   "outputs": [
    {
     "name": "stdout",
     "output_type": "stream",
     "text": [
      "lib/locking-selftest.c|locking_selftest\r\n",
      "kernel/locking/test-ww_mutex.c|test_abba\r\n",
      "drivers/gpu/drm/i915/selftests/i915_selftest.c|i915_mock_selftests\r\n",
      "drivers/gpu/drm/i915/selftests/i915_request.c|mock_breadcrumbs_smoketest\r\n",
      "lib/test-string_helpers.c|test_string_escape\r\n",
      "drivers/gpu/drm/selftests/test-drm_cmdline_parser.c|drm_cmdline_test_force_D_only_dvi\r\n",
      "lib/list-test.c|list_test_list_for_each_entry_reverse\r\n",
      "samples/connector/cn_test.c|cn_test_fini\r\n",
      "tools/testing/selftests/breakpoints/breakpoint_test.c|launch_tests\r\n",
      "kernel/trace/trace_selftest.c|trace_selftest_startup_irqsoff\r\n",
      "tools/testing/selftests/wireguard/qemu/init.c|launch_tests\r\n",
      "arch/powerpc/lib/test_emulate_step.c|test_ld\r\n",
      "crypto/testmgr.c|alg_test_hash\r\n",
      "tools/perf/tests/parse-events.c|test__checkevent_precise_max_modifier\r\n",
      "tools/testing/selftests/powerpc/tm/tm-tmspr.c|test_tmspr\r\n",
      "crypto/testmgr.c|test_hash_vec\r\n",
      "tools/testing/selftests/bpf/prog_tests/sk_lookup.c|tcp_echo_test\r\n",
      "security/apparmor/policy_unpack_test.c|policy_unpack_test_unpack_u32_out_of_bounds\r\n",
      "tools/testing/selftests/bpf/test_stub.c|bpf_prog_test_load\r\n",
      "tools/testing/selftests/clone3/clone3_set_tid.c|test_clone3_set_tid\r\n",
      "tools/testing/selftests/powerpc/mm/hugetlb_vs_thp_test.c|test_body\r\n",
      "drivers/misc/pci_endpoint_test.c|pci_endpoint_test_free_irq_vectors\r\n",
      "drivers/mtd/tests/mtd_test.c|mtdtest_read\r\n",
      "kernel/kcsan/kcsan-test.c|test_assert_exclusive_bits_change\r\n",
      "tools/testing/selftests/bpf/prog_tests/modify_return.c|run_test\r\n",
      "kernel/backtracetest.c|backtrace_test_saved\r\n",
      "tools/perf/tests/python-use.c|test__python_use\r\n",
      "drivers/net/ethernet/stmicro/stmmac/stmmac_selftests.c|stmmac_test_l4filt_da_udp\r\n",
      "kernel/kcsan/kcsan-test.c|test_assert_exclusive_access_scoped\r\n",
      "tools/testing/selftests/bpf/prog_tests/flow_dissector_reattach.c|test_link_update_invalid_prog\r\n",
      "tools/testing/selftests/net/psock_tpacket.c|test_payload\r\n",
      "lib/test-string_helpers.c|test_string_get_size_check\r\n",
      "kernel/test_kprobes.c|test_kprobe\r\n",
      "crypto/testmgr.c|generate_random_testvec_config\r\n",
      "lib/test_linear_ranges.c|range_test_get_value_amount\r\n",
      "tools/testing/selftests/bpf/test_progs.c|test__fail\r\n",
      "drivers/of/unittest.c|unittest_i2c_mux_select_chan\r\n",
      "tools/testing/selftests/bpf/prog_tests/btf.c|test_get_finfo\r\n",
      "net/bpf/test_run.c|bpf_fentry_test8\r\n",
      "drivers/mmc/core/mmc_test.c|mmc_test_weird_read\r\n"
     ]
    }
   ],
   "source": [
    "sql(\"\"\"\n",
    "PRAGMA case_sensitive_like = 1;\n",
    "SELECT * \n",
    "FROM cregit_functions\n",
    "WHERE name LIKE '%test%' AND file LIKE '%test%'\n",
    "ORDER BY RANDOM()\n",
    "LIMIT 40\n",
    ";\"\"\")"
   ]
  },
  {
   "cell_type": "code",
   "execution_count": null,
   "metadata": {},
   "outputs": [],
   "source": [
    "lib/locking-selftest.c|locking_selftest\n",
    "kernel/locking/test-ww_mutex.c|test_abba\n",
    "drivers/gpu/drm/i915/selftests/i915_selftest.c|i915_mock_selftests\n",
    "drivers/gpu/drm/i915/selftests/i915_request.c|mock_breadcrumbs_smoketest\n",
    "lib/test-string_helpers.c|test_string_escape\n",
    "drivers/gpu/drm/selftests/test-drm_cmdline_parser.c|drm_cmdline_test_force_D_only_dvi\n",
    "lib/list-test.c|list_test_list_for_each_entry_reverse\n",
    "samples/connector/cn_test.c|cn_test_fini\n",
    "tools/testing/selftests/breakpoints/breakpoint_test.c|launch_tests\n",
    "kernel/trace/trace_selftest.c|trace_selftest_startup_irqsoff\n",
    "tools/testing/selftests/wireguard/qemu/init.c|launch_tests\n",
    "arch/powerpc/lib/test_emulate_step.c|test_ld\n",
    "crypto/testmgr.c|alg_test_hash\n",
    "tools/perf/tests/parse-events.c|test__checkevent_precise_max_modifier\n",
    "tools/testing/selftests/powerpc/tm/tm-tmspr.c|test_tmspr\n",
    "crypto/testmgr.c|test_hash_vec\n",
    "tools/testing/selftests/bpf/prog_tests/sk_lookup.c|tcp_echo_test\n",
    "security/apparmor/policy_unpack_test.c|policy_unpack_test_unpack_u32_out_of_bounds\n",
    "tools/testing/selftests/bpf/test_stub.c|bpf_prog_test_load\n",
    "tools/testing/selftests/clone3/clone3_set_tid.c|test_clone3_set_tid\n",
    "tools/testing/selftests/powerpc/mm/hugetlb_vs_thp_test.c|test_body\n",
    "drivers/misc/pci_endpoint_test.c|pci_endpoint_test_free_irq_vectors\n",
    "drivers/mtd/tests/mtd_test.c|mtdtest_read\n",
    "kernel/kcsan/kcsan-test.c|test_assert_exclusive_bits_change\n",
    "tools/testing/selftests/bpf/prog_tests/modify_return.c|run_test\n",
    "kernel/backtracetest.c|backtrace_test_saved\n",
    "tools/perf/tests/python-use.c|test__python_use\n",
    "drivers/net/ethernet/stmicro/stmmac/stmmac_selftests.c|stmmac_test_l4filt_da_udp\n",
    "kernel/kcsan/kcsan-test.c|test_assert_exclusive_access_scoped\n",
    "tools/testing/selftests/bpf/prog_tests/flow_dissector_reattach.c|test_link_update_invalid_prog\n",
    "tools/testing/selftests/net/psock_tpacket.c|test_payload\n",
    "lib/test-string_helpers.c|test_string_get_size_check\n",
    "kernel/test_kprobes.c|test_kprobe\n",
    "crypto/testmgr.c|generate_random_testvec_config\n",
    "lib/test_linear_ranges.c|range_test_get_value_amount\n",
    "tools/testing/selftests/bpf/test_progs.c|test__fail\n",
    "drivers/of/unittest.c|unittest_i2c_mux_select_chan\n",
    "tools/testing/selftests/bpf/prog_tests/btf.c|test_get_finfo\n",
    "net/bpf/test_run.c|bpf_fentry_test8\n",
    "drivers/mmc/core/mmc_test.c|mmc_test_weird_read"
   ]
  },
  {
   "cell_type": "code",
   "execution_count": null,
   "metadata": {},
   "outputs": [],
   "source": []
  }
 ],
 "metadata": {
  "kernelspec": {
   "display_name": "Python 3",
   "language": "python",
   "name": "python3"
  },
  "language_info": {
   "codemirror_mode": {
    "name": "ipython",
    "version": 3
   },
   "file_extension": ".py",
   "mimetype": "text/x-python",
   "name": "python",
   "nbconvert_exporter": "python",
   "pygments_lexer": "ipython3",
   "version": "3.8.5"
  }
 },
 "nbformat": 4,
 "nbformat_minor": 4
}
