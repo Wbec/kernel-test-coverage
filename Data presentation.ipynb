{
 "cells": [
  {
   "cell_type": "code",
   "execution_count": 1,
   "metadata": {},
   "outputs": [],
   "source": [
    "import pandas as pd\n",
    "from pathlib import Path\n",
    "import re\n",
    "import subprocess\n",
    "import numpy as np\n",
    "\n",
    "import locations\n",
    "from runner import tags\n",
    "\n",
    "from ipywidgets import widgets, Layout, fixed\n",
    "import plotly.express as px"
   ]
  },
  {
   "cell_type": "code",
   "execution_count": 2,
   "metadata": {},
   "outputs": [
    {
     "data": {
      "text/html": [
       "<div>\n",
       "<style scoped>\n",
       "    .dataframe tbody tr th:only-of-type {\n",
       "        vertical-align: middle;\n",
       "    }\n",
       "\n",
       "    .dataframe tbody tr th {\n",
       "        vertical-align: top;\n",
       "    }\n",
       "\n",
       "    .dataframe thead th {\n",
       "        text-align: right;\n",
       "    }\n",
       "</style>\n",
       "<table border=\"1\" class=\"dataframe\">\n",
       "  <thead>\n",
       "    <tr style=\"text-align: right;\">\n",
       "      <th></th>\n",
       "      <th>directory</th>\n",
       "      <th>non_static</th>\n",
       "      <th>tested</th>\n",
       "      <th>tag</th>\n",
       "      <th>ratio</th>\n",
       "    </tr>\n",
       "  </thead>\n",
       "  <tbody>\n",
       "    <tr>\n",
       "      <th>0</th>\n",
       "      <td></td>\n",
       "      <td>68674</td>\n",
       "      <td>460</td>\n",
       "      <td>v3.0</td>\n",
       "      <td>0.006698</td>\n",
       "    </tr>\n",
       "    <tr>\n",
       "      <th>1</th>\n",
       "      <td>Documentation</td>\n",
       "      <td>51</td>\n",
       "      <td>1</td>\n",
       "      <td>v3.0</td>\n",
       "      <td>0.019608</td>\n",
       "    </tr>\n",
       "    <tr>\n",
       "      <th>2</th>\n",
       "      <td>arch</td>\n",
       "      <td>16307</td>\n",
       "      <td>171</td>\n",
       "      <td>v3.0</td>\n",
       "      <td>0.010486</td>\n",
       "    </tr>\n",
       "    <tr>\n",
       "      <th>3</th>\n",
       "      <td>block</td>\n",
       "      <td>260</td>\n",
       "      <td>0</td>\n",
       "      <td>v3.0</td>\n",
       "      <td>0.000000</td>\n",
       "    </tr>\n",
       "    <tr>\n",
       "      <th>4</th>\n",
       "      <td>crypto</td>\n",
       "      <td>165</td>\n",
       "      <td>11</td>\n",
       "      <td>v3.0</td>\n",
       "      <td>0.066667</td>\n",
       "    </tr>\n",
       "    <tr>\n",
       "      <th>...</th>\n",
       "      <td>...</td>\n",
       "      <td>...</td>\n",
       "      <td>...</td>\n",
       "      <td>...</td>\n",
       "      <td>...</td>\n",
       "    </tr>\n",
       "    <tr>\n",
       "      <th>105390</th>\n",
       "      <td>drivers/staging/media/atomisp/pci/isp/kernels/...</td>\n",
       "      <td>3</td>\n",
       "      <td>0</td>\n",
       "      <td>v5.11</td>\n",
       "      <td>0.000000</td>\n",
       "    </tr>\n",
       "    <tr>\n",
       "      <th>105391</th>\n",
       "      <td>drivers/staging/media/atomisp/pci/isp/kernels/...</td>\n",
       "      <td>5</td>\n",
       "      <td>0</td>\n",
       "      <td>v5.11</td>\n",
       "      <td>0.000000</td>\n",
       "    </tr>\n",
       "    <tr>\n",
       "      <th>105392</th>\n",
       "      <td>drivers/staging/media/atomisp/pci/isp/kernels/...</td>\n",
       "      <td>3</td>\n",
       "      <td>0</td>\n",
       "      <td>v5.11</td>\n",
       "      <td>0.000000</td>\n",
       "    </tr>\n",
       "    <tr>\n",
       "      <th>105393</th>\n",
       "      <td>drivers/staging/media/atomisp/pci/isp/kernels/...</td>\n",
       "      <td>7</td>\n",
       "      <td>0</td>\n",
       "      <td>v5.11</td>\n",
       "      <td>0.000000</td>\n",
       "    </tr>\n",
       "    <tr>\n",
       "      <th>105394</th>\n",
       "      <td>drivers/staging/media/atomisp/pci/isp/kernels/...</td>\n",
       "      <td>4</td>\n",
       "      <td>0</td>\n",
       "      <td>v5.11</td>\n",
       "      <td>0.000000</td>\n",
       "    </tr>\n",
       "  </tbody>\n",
       "</table>\n",
       "<p>105395 rows × 5 columns</p>\n",
       "</div>"
      ],
      "text/plain": [
       "                                                directory  non_static  tested  \\\n",
       "0                                                               68674     460   \n",
       "1                                           Documentation          51       1   \n",
       "2                                                    arch       16307     171   \n",
       "3                                                   block         260       0   \n",
       "4                                                  crypto         165      11   \n",
       "...                                                   ...         ...     ...   \n",
       "105390  drivers/staging/media/atomisp/pci/isp/kernels/...           3       0   \n",
       "105391  drivers/staging/media/atomisp/pci/isp/kernels/...           5       0   \n",
       "105392  drivers/staging/media/atomisp/pci/isp/kernels/...           3       0   \n",
       "105393  drivers/staging/media/atomisp/pci/isp/kernels/...           7       0   \n",
       "105394  drivers/staging/media/atomisp/pci/isp/kernels/...           4       0   \n",
       "\n",
       "          tag     ratio  \n",
       "0        v3.0  0.006698  \n",
       "1        v3.0  0.019608  \n",
       "2        v3.0  0.010486  \n",
       "3        v3.0  0.000000  \n",
       "4        v3.0  0.066667  \n",
       "...       ...       ...  \n",
       "105390  v5.11  0.000000  \n",
       "105391  v5.11  0.000000  \n",
       "105392  v5.11  0.000000  \n",
       "105393  v5.11  0.000000  \n",
       "105394  v5.11  0.000000  \n",
       "\n",
       "[105395 rows x 5 columns]"
      ]
     },
     "execution_count": 2,
     "metadata": {},
     "output_type": "execute_result"
    }
   ],
   "source": [
    "non_static_df = pd.read_csv(locations.OUTDIR/\"coverage_by_tag_ns_nt_i.csv\")\n",
    "static_df = pd.read_csv(locations.OUTDIR/\"coverage_by_tag_s_nt_i.csv\")\n",
    "df = non_static_df\n",
    "df[\"ratio\"] = df[\"tested\"]/df[\"non_static\"]\n",
    "df[\"directory\"].fillna('', inplace=True)\n",
    "df"
   ]
  },
  {
   "cell_type": "code",
   "execution_count": 21,
   "metadata": {},
   "outputs": [],
   "source": [
    "def make_plot(df, directory):\n",
    "    directory=directory.rstrip(\"/\")\n",
    "    ax = df[df[\"directory\"] == directory].plot(\n",
    "        x=\"tag\", y=[\"non_static\", \"tested\", \"ratio\"], secondary_y=\"ratio\", title=directory or 'whole kernel',\n",
    "        figsize=(10, 10), fontsize=16\n",
    "    )\n",
    "    ax.set_xlabel(\"Version Number\", fontdict={'fontsize':16})\n",
    "    ax.set_ylabel(\"Number of Functions\", fontdict={'fontsize':16})\n",
    "    ax.right_ax.set_ylabel(\"Coverage Ratio\", fontdict={'fontsize':16})\n",
    "    bottom, top = ax.get_ylim()\n",
    "    ax.set_ylim(0, top)\n",
    "    bottom, top = ax.right_ax.get_ylim()\n",
    "    ax.right_ax.set_ylim(0, top)"
   ]
  },
  {
   "cell_type": "code",
   "execution_count": 16,
   "metadata": {},
   "outputs": [],
   "source": [
    "# top_level = ['','Documentation','arch','block','crypto','drivers','firmware','fs',\n",
    "# 'init','ipc','kernel','lib','mm','net','samples','scripts','security','sound','tools','usr','virt']\n",
    "\n",
    "\n",
    "# for directory in top_level:\n",
    "#     make_plot(df, directory)"
   ]
  },
  {
   "cell_type": "code",
   "execution_count": 5,
   "metadata": {},
   "outputs": [],
   "source": [
    "pd.set_option('display.max_rows', 200)"
   ]
  },
  {
   "cell_type": "code",
   "execution_count": 7,
   "metadata": {},
   "outputs": [],
   "source": [
    "def interactive_plot(df):\n",
    "    selector = widgets.Combobox(options=list(set(df[\"directory\"])), description=\"directory\",\n",
    "                        layout=Layout(width=\"500px\"))\n",
    "    plot = widgets.interactive_output(make_plot, {'df': fixed(df), 'directory':selector})\n",
    "    display(plot, selector)"
   ]
  },
  {
   "cell_type": "code",
   "execution_count": 8,
   "metadata": {},
   "outputs": [],
   "source": [
    "# todo try log scale"
   ]
  },
  {
   "cell_type": "code",
   "execution_count": 22,
   "metadata": {},
   "outputs": [
    {
     "data": {
      "application/vnd.jupyter.widget-view+json": {
       "model_id": "620bfa9a011b4e09b048c8a6af7430b9",
       "version_major": 2,
       "version_minor": 0
      },
      "text/plain": [
       "Output()"
      ]
     },
     "metadata": {},
     "output_type": "display_data"
    },
    {
     "data": {
      "application/vnd.jupyter.widget-view+json": {
       "model_id": "8e324ed510c44d1bb9ae7bab34ec9f4b",
       "version_major": 2,
       "version_minor": 0
      },
      "text/plain": [
       "Combobox(value='', description='directory', layout=Layout(width='500px'), options=('', 'drivers/nfc/fdp', 'dri…"
      ]
     },
     "metadata": {},
     "output_type": "display_data"
    }
   ],
   "source": [
    "interactive_plot(df)"
   ]
  },
  {
   "cell_type": "code",
   "execution_count": 10,
   "metadata": {},
   "outputs": [],
   "source": [
    "nonzero_filter = df.groupby(\"directory\").sum()[\"tested\"] > 0\n",
    "nonzero_test_dirs = list(nonzero_filter[nonzero_filter].index)\n",
    "nonzero_tests = df[df[\"directory\"].apply(lambda d: d in nonzero_test_dirs)]"
   ]
  },
  {
   "cell_type": "code",
   "execution_count": 11,
   "metadata": {
    "collapsed": true
   },
   "outputs": [
    {
     "data": {
      "application/vnd.jupyter.widget-view+json": {
       "model_id": "5cff9ba2b66d4b1dae51557a740950bd",
       "version_major": 2,
       "version_minor": 0
      },
      "text/plain": [
       "Output()"
      ]
     },
     "metadata": {},
     "output_type": "display_data"
    },
    {
     "data": {
      "application/vnd.jupyter.widget-view+json": {
       "model_id": "274673f828264b0d88550c7cc50e4ff6",
       "version_major": 2,
       "version_minor": 0
      },
      "text/plain": [
       "Combobox(value='', description='directory', layout=Layout(width='500px'), options=('', 'arch/x86/purgatory', '…"
      ]
     },
     "metadata": {},
     "output_type": "display_data"
    }
   ],
   "source": [
    "interactive_plot(nonzero_tests)"
   ]
  },
  {
   "cell_type": "code",
   "execution_count": 24,
   "metadata": {},
   "outputs": [],
   "source": [
    "def prep_treedf(df, version):\n",
    "    treedf = df.copy()\n",
    "    treedf = treedf[treedf.tag == version]\n",
    "    treedf[\"directory\"].replace(\"\", \"kernel root\", inplace=True)\n",
    "\n",
    "    treedf[\"parent\"] = treedf[\"directory\"].apply(get_parent)\n",
    "    treedf[\"count excluding subdirectories\"] = treedf[\"non_static\"]\n",
    "\n",
    "    rows = treedf.copy().iterrows()\n",
    "    for parent,value in treedf.groupby(\"parent\")[\"non_static\"].sum().iteritems():\n",
    "        treedf.loc[treedf[\"directory\"] == parent,[\"count excluding subdirectories\"]] -= value\n",
    "\n",
    "    assert len(treedf[treedf[\"count excluding subdirectories\"] < 0]) == 0\n",
    "    return treedf\n",
    "\n",
    "def treemap(df, version):\n",
    "    treedf = prep_treedf(df, version)\n",
    "    color = treedf[\"ratio\"].replace(0, np.nan)\n",
    "    fig = px.treemap(treedf, names=\"directory\", parents=\"parent\",\n",
    "                     values=\"count excluding subdirectories\", color=color,\n",
    "                     color_continuous_scale=[\"red\", \"yellow\", \"green\"],\n",
    "                     height=600,\n",
    "                     range_color=(0,0.1), # we can cap the max ratio colour\n",
    "                     hover_data=[\"ratio\", \"non_static\"]\n",
    "                    )\n",
    "    return fig\n",
    "\n",
    "def show_treemap(df, version):\n",
    "    treemap(df, version).show()\n",
    "    \n",
    "def get_parent(p):\n",
    "    if p == \"kernel root\":\n",
    "        return \"\"\n",
    "    if \"/\" not in p:\n",
    "        return \"kernel root\"\n",
    "    return \"/\".join(p.split(\"/\")[:-1])\n",
    "\n",
    "\n",
    "def treemap_with_selector(df):\n",
    "    selector = widgets.Dropdown(options=[x for x,_,_ in tags()], description=\"Kernel Version\")\n",
    "    plot = widgets.interactive_output(show_treemap, {'df': fixed(df), 'version':selector})\n",
    "    return (selector, plot)"
   ]
  },
  {
   "cell_type": "code",
   "execution_count": 14,
   "metadata": {},
   "outputs": [
    {
     "data": {
      "application/vnd.jupyter.widget-view+json": {
       "model_id": "1aed71a7a7e54a4e983af69d97c5615f",
       "version_major": 2,
       "version_minor": 0
      },
      "text/plain": [
       "Dropdown(description='Kernel Version', options=('v3.0', 'v3.1', 'v3.2', 'v3.3', 'v3.4', 'v3.5', 'v3.6', 'v3.7'…"
      ]
     },
     "metadata": {},
     "output_type": "display_data"
    },
    {
     "data": {
      "application/vnd.jupyter.widget-view+json": {
       "model_id": "29ac41bc320c40218fe47525cde203b9",
       "version_major": 2,
       "version_minor": 0
      },
      "text/plain": [
       "Output()"
      ]
     },
     "metadata": {},
     "output_type": "display_data"
    }
   ],
   "source": [
    "display(*treemap_with_selector(df))"
   ]
  },
  {
   "cell_type": "code",
   "execution_count": 15,
   "metadata": {},
   "outputs": [
    {
     "data": {
      "application/vnd.jupyter.widget-view+json": {
       "model_id": "216b46b180a64c27ae6a1612aa9089b0",
       "version_major": 2,
       "version_minor": 0
      },
      "text/plain": [
       "Dropdown(description='Kernel Version', options=('v3.0', 'v3.1', 'v3.2', 'v3.3', 'v3.4', 'v3.5', 'v3.6', 'v3.7'…"
      ]
     },
     "metadata": {},
     "output_type": "display_data"
    },
    {
     "data": {
      "application/vnd.jupyter.widget-view+json": {
       "model_id": "e18c4c7931a8426c9a2d6fc5f1876951",
       "version_major": 2,
       "version_minor": 0
      },
      "text/plain": [
       "Output()"
      ]
     },
     "metadata": {},
     "output_type": "display_data"
    }
   ],
   "source": [
    "display(*treemap_with_selector(df))"
   ]
  },
  {
   "cell_type": "markdown",
   "metadata": {},
   "source": [
    "# TODO: URL"
   ]
  },
  {
   "cell_type": "code",
   "execution_count": null,
   "metadata": {},
   "outputs": [],
   "source": []
  }
 ],
 "metadata": {
  "kernelspec": {
   "display_name": "venv",
   "language": "python",
   "name": "venv"
  },
  "language_info": {
   "codemirror_mode": {
    "name": "ipython",
    "version": 3
   },
   "file_extension": ".py",
   "mimetype": "text/x-python",
   "name": "python",
   "nbconvert_exporter": "python",
   "pygments_lexer": "ipython3",
   "version": "3.8.5"
  }
 },
 "nbformat": 4,
 "nbformat_minor": 4
}
