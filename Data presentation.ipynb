{
 "cells": [
  {
   "cell_type": "code",
   "execution_count": 2,
   "metadata": {},
   "outputs": [],
   "source": [
    "import pandas as pd\n",
    "from pathlib import Path\n",
    "import re\n",
    "import subprocess\n",
    "import numpy as np\n",
    "\n",
    "import locations\n",
    "from runner import tags\n",
    "\n",
    "from ipywidgets import widgets, Layout, fixed\n",
    "import plotly.express as px"
   ]
  },
  {
   "cell_type": "code",
   "execution_count": 34,
   "metadata": {},
   "outputs": [
    {
     "data": {
      "text/html": [
       "<div>\n",
       "<style scoped>\n",
       "    .dataframe tbody tr th:only-of-type {\n",
       "        vertical-align: middle;\n",
       "    }\n",
       "\n",
       "    .dataframe tbody tr th {\n",
       "        vertical-align: top;\n",
       "    }\n",
       "\n",
       "    .dataframe thead th {\n",
       "        text-align: right;\n",
       "    }\n",
       "</style>\n",
       "<table border=\"1\" class=\"dataframe\">\n",
       "  <thead>\n",
       "    <tr style=\"text-align: right;\">\n",
       "      <th></th>\n",
       "      <th>directory</th>\n",
       "      <th>functions</th>\n",
       "      <th>tested</th>\n",
       "      <th>tag</th>\n",
       "      <th>ratio</th>\n",
       "    </tr>\n",
       "  </thead>\n",
       "  <tbody>\n",
       "    <tr>\n",
       "      <th>0</th>\n",
       "      <td></td>\n",
       "      <td>275215</td>\n",
       "      <td>994</td>\n",
       "      <td>v3.0</td>\n",
       "      <td>0.003612</td>\n",
       "    </tr>\n",
       "    <tr>\n",
       "      <th>1</th>\n",
       "      <td>Documentation</td>\n",
       "      <td>263</td>\n",
       "      <td>5</td>\n",
       "      <td>v3.0</td>\n",
       "      <td>0.019011</td>\n",
       "    </tr>\n",
       "    <tr>\n",
       "      <th>2</th>\n",
       "      <td>arch</td>\n",
       "      <td>42320</td>\n",
       "      <td>214</td>\n",
       "      <td>v3.0</td>\n",
       "      <td>0.005057</td>\n",
       "    </tr>\n",
       "    <tr>\n",
       "      <th>3</th>\n",
       "      <td>block</td>\n",
       "      <td>768</td>\n",
       "      <td>0</td>\n",
       "      <td>v3.0</td>\n",
       "      <td>0.000000</td>\n",
       "    </tr>\n",
       "    <tr>\n",
       "      <th>4</th>\n",
       "      <td>crypto</td>\n",
       "      <td>1111</td>\n",
       "      <td>36</td>\n",
       "      <td>v3.0</td>\n",
       "      <td>0.032403</td>\n",
       "    </tr>\n",
       "    <tr>\n",
       "      <th>...</th>\n",
       "      <td>...</td>\n",
       "      <td>...</td>\n",
       "      <td>...</td>\n",
       "      <td>...</td>\n",
       "      <td>...</td>\n",
       "    </tr>\n",
       "    <tr>\n",
       "      <th>118227</th>\n",
       "      <td>drivers/staging/media/atomisp/pci/isp/kernels/...</td>\n",
       "      <td>3</td>\n",
       "      <td>0</td>\n",
       "      <td>v5.11</td>\n",
       "      <td>0.000000</td>\n",
       "    </tr>\n",
       "    <tr>\n",
       "      <th>118228</th>\n",
       "      <td>drivers/staging/media/atomisp/pci/isp/kernels/...</td>\n",
       "      <td>5</td>\n",
       "      <td>0</td>\n",
       "      <td>v5.11</td>\n",
       "      <td>0.000000</td>\n",
       "    </tr>\n",
       "    <tr>\n",
       "      <th>118229</th>\n",
       "      <td>drivers/staging/media/atomisp/pci/isp/kernels/...</td>\n",
       "      <td>6</td>\n",
       "      <td>0</td>\n",
       "      <td>v5.11</td>\n",
       "      <td>0.000000</td>\n",
       "    </tr>\n",
       "    <tr>\n",
       "      <th>118230</th>\n",
       "      <td>drivers/staging/media/atomisp/pci/isp/kernels/...</td>\n",
       "      <td>7</td>\n",
       "      <td>0</td>\n",
       "      <td>v5.11</td>\n",
       "      <td>0.000000</td>\n",
       "    </tr>\n",
       "    <tr>\n",
       "      <th>118231</th>\n",
       "      <td>drivers/staging/media/atomisp/pci/isp/kernels/...</td>\n",
       "      <td>4</td>\n",
       "      <td>0</td>\n",
       "      <td>v5.11</td>\n",
       "      <td>0.000000</td>\n",
       "    </tr>\n",
       "  </tbody>\n",
       "</table>\n",
       "<p>118232 rows × 5 columns</p>\n",
       "</div>"
      ],
      "text/plain": [
       "                                                directory  functions  tested  \\\n",
       "0                                                             275215     994   \n",
       "1                                           Documentation        263       5   \n",
       "2                                                    arch      42320     214   \n",
       "3                                                   block        768       0   \n",
       "4                                                  crypto       1111      36   \n",
       "...                                                   ...        ...     ...   \n",
       "118227  drivers/staging/media/atomisp/pci/isp/kernels/...          3       0   \n",
       "118228  drivers/staging/media/atomisp/pci/isp/kernels/...          5       0   \n",
       "118229  drivers/staging/media/atomisp/pci/isp/kernels/...          6       0   \n",
       "118230  drivers/staging/media/atomisp/pci/isp/kernels/...          7       0   \n",
       "118231  drivers/staging/media/atomisp/pci/isp/kernels/...          4       0   \n",
       "\n",
       "          tag     ratio  \n",
       "0        v3.0  0.003612  \n",
       "1        v3.0  0.019011  \n",
       "2        v3.0  0.005057  \n",
       "3        v3.0  0.000000  \n",
       "4        v3.0  0.032403  \n",
       "...       ...       ...  \n",
       "118227  v5.11  0.000000  \n",
       "118228  v5.11  0.000000  \n",
       "118229  v5.11  0.000000  \n",
       "118230  v5.11  0.000000  \n",
       "118231  v5.11  0.000000  \n",
       "\n",
       "[118232 rows x 5 columns]"
      ]
     },
     "execution_count": 34,
     "metadata": {},
     "output_type": "execute_result"
    }
   ],
   "source": [
    "non_static_df = pd.read_csv(locations.OUTDIR/\"coverage_by_tag_ns_nt_i.csv\").rename(columns={\"non_static\": \"functions\"})\n",
    "static_df = pd.read_csv(locations.OUTDIR/\"coverage_by_tag_s_nt_i.csv\")\n",
    "df = static_df\n",
    "df[\"ratio\"] = df[\"tested\"]/df[\"functions\"]\n",
    "df[\"directory\"].fillna('', inplace=True)\n",
    "df"
   ]
  },
  {
   "cell_type": "code",
   "execution_count": 17,
   "metadata": {},
   "outputs": [],
   "source": [
    "def make_plot(df, directory):\n",
    "    directory=directory.rstrip(\"/\")\n",
    "    ax = df[df[\"directory\"] == directory].plot(\n",
    "        x=\"tag\", y=[\"functions\", \"tested\", \"ratio\"], secondary_y=\"ratio\", title=directory or 'whole kernel',\n",
    "        figsize=(10, 10), fontsize=16\n",
    "    )\n",
    "    ax.set_xlabel(\"Version Number\", fontdict={'fontsize':16})\n",
    "    ax.set_ylabel(\"Number of Functions\", fontdict={'fontsize':16})\n",
    "    ax.right_ax.set_ylabel(\"Coverage Ratio\", fontdict={'fontsize':16})\n",
    "    bottom, top = ax.get_ylim()\n",
    "    ax.set_ylim(0, top)\n",
    "    bottom, top = ax.right_ax.get_ylim()\n",
    "    ax.right_ax.set_ylim(0, top)"
   ]
  },
  {
   "cell_type": "code",
   "execution_count": 18,
   "metadata": {},
   "outputs": [],
   "source": [
    "# top_level = ['','Documentation','arch','block','crypto','drivers','firmware','fs',\n",
    "# 'init','ipc','kernel','lib','mm','net','samples','scripts','security','sound','tools','usr','virt']\n",
    "\n",
    "\n",
    "# for directory in top_level:\n",
    "#     make_plot(df, directory)"
   ]
  },
  {
   "cell_type": "code",
   "execution_count": 19,
   "metadata": {},
   "outputs": [],
   "source": [
    "def interactive_plot(df):\n",
    "    selector = widgets.Combobox(options=list(set(df[\"directory\"])), description=\"directory\",\n",
    "                        layout=Layout(width=\"500px\"))\n",
    "    plot = widgets.interactive_output(make_plot, {'df': fixed(df), 'directory':selector})\n",
    "    display(plot, selector)"
   ]
  },
  {
   "cell_type": "code",
   "execution_count": 20,
   "metadata": {},
   "outputs": [],
   "source": [
    "# todo try log scale"
   ]
  },
  {
   "cell_type": "code",
   "execution_count": 21,
   "metadata": {},
   "outputs": [
    {
     "data": {
      "application/vnd.jupyter.widget-view+json": {
       "model_id": "a869d6d722cc49db8b1bc55ad247f125",
       "version_major": 2,
       "version_minor": 0
      },
      "text/plain": [
       "Output()"
      ]
     },
     "metadata": {},
     "output_type": "display_data"
    },
    {
     "data": {
      "application/vnd.jupyter.widget-view+json": {
       "model_id": "2b8f8fae8a09406786774e0867bf210b",
       "version_major": 2,
       "version_minor": 0
      },
      "text/plain": [
       "Combobox(value='', description='directory', layout=Layout(width='500px'), options=('', 'arch/microblaze/mm', '…"
      ]
     },
     "metadata": {},
     "output_type": "display_data"
    }
   ],
   "source": [
    "interactive_plot(df)"
   ]
  },
  {
   "cell_type": "code",
   "execution_count": 22,
   "metadata": {},
   "outputs": [],
   "source": [
    "nonzero_filter = df.groupby(\"directory\").sum()[\"tested\"] > 0\n",
    "nonzero_test_dirs = list(nonzero_filter[nonzero_filter].index)\n",
    "nonzero_tests = df[df[\"directory\"].apply(lambda d: d in nonzero_test_dirs)]"
   ]
  },
  {
   "cell_type": "code",
   "execution_count": 23,
   "metadata": {},
   "outputs": [
    {
     "data": {
      "application/vnd.jupyter.widget-view+json": {
       "model_id": "1845a4baf29a487cb3d7c2ac9fcb73ae",
       "version_major": 2,
       "version_minor": 0
      },
      "text/plain": [
       "Output()"
      ]
     },
     "metadata": {},
     "output_type": "display_data"
    },
    {
     "data": {
      "application/vnd.jupyter.widget-view+json": {
       "model_id": "cdd5bb864eca4282b367886942242b8a",
       "version_major": 2,
       "version_minor": 0
      },
      "text/plain": [
       "Combobox(value='', description='directory', layout=Layout(width='500px'), options=('', 'arch/microblaze/mm', '…"
      ]
     },
     "metadata": {},
     "output_type": "display_data"
    }
   ],
   "source": [
    "interactive_plot(nonzero_tests)"
   ]
  },
  {
   "cell_type": "code",
   "execution_count": 31,
   "metadata": {},
   "outputs": [],
   "source": [
    "def prep_treedf(df, version):\n",
    "    treedf = df.copy()\n",
    "    treedf = treedf[treedf.tag == version]\n",
    "    treedf[\"directory\"].replace(\"\", \"kernel root\", inplace=True)\n",
    "\n",
    "    treedf[\"parent\"] = treedf[\"directory\"].apply(get_parent)\n",
    "    treedf[\"count excluding subdirectories\"] = treedf[\"functions\"]\n",
    "\n",
    "    rows = treedf.copy().iterrows()\n",
    "    for parent,value in treedf.groupby(\"parent\")[\"functions\"].sum().iteritems():\n",
    "        treedf.loc[treedf[\"directory\"] == parent,[\"count excluding subdirectories\"]] -= value\n",
    "\n",
    "    assert len(treedf[treedf[\"count excluding subdirectories\"] < 0]) == 0\n",
    "    return treedf\n",
    "\n",
    "def treemap(df, version):\n",
    "    treedf = prep_treedf(df, version)\n",
    "    color = treedf[\"ratio\"].replace(0, np.nan)\n",
    "    fig = px.treemap(treedf, names=\"directory\", parents=\"parent\",\n",
    "                     values=\"count excluding subdirectories\", color=color,\n",
    "                     color_continuous_scale=[\"red\", \"yellow\", \"green\"],\n",
    "                     height=600,\n",
    "                     range_color=(0,0.1), # we can cap the max ratio colour\n",
    "                     hover_data=[\"ratio\", \"functions\"]\n",
    "                    )\n",
    "    return fig\n",
    "\n",
    "def show_treemap(df, version):\n",
    "    treemap(df, version).show()\n",
    "    \n",
    "def get_parent(p):\n",
    "    if p == \"kernel root\":\n",
    "        return \"\"\n",
    "    if \"/\" not in p:\n",
    "        return \"kernel root\"\n",
    "    return \"/\".join(p.split(\"/\")[:-1])\n",
    "\n",
    "\n",
    "def treemap_with_selector(df):\n",
    "    selector = widgets.Dropdown(options=[x for x,_,_ in tags()], description=\"Kernel Version\")\n",
    "    plot = widgets.interactive_output(show_treemap, {'df': fixed(df), 'version':selector})\n",
    "    return (selector, plot)"
   ]
  },
  {
   "cell_type": "code",
   "execution_count": 32,
   "metadata": {},
   "outputs": [
    {
     "data": {
      "application/vnd.jupyter.widget-view+json": {
       "model_id": "7cb6b4a500c54e65ab2e0648e5f1a9ff",
       "version_major": 2,
       "version_minor": 0
      },
      "text/plain": [
       "Dropdown(description='Kernel Version', options=('v3.0', 'v3.1', 'v3.2', 'v3.3', 'v3.4', 'v3.5', 'v3.6', 'v3.7'…"
      ]
     },
     "metadata": {},
     "output_type": "display_data"
    },
    {
     "data": {
      "application/vnd.jupyter.widget-view+json": {
       "model_id": "ca815d3e0d95462fa008a692eb98c28c",
       "version_major": 2,
       "version_minor": 0
      },
      "text/plain": [
       "Output()"
      ]
     },
     "metadata": {},
     "output_type": "display_data"
    }
   ],
   "source": [
    "display(*treemap_with_selector(df))"
   ]
  },
  {
   "cell_type": "code",
   "execution_count": 33,
   "metadata": {},
   "outputs": [
    {
     "data": {
      "application/vnd.jupyter.widget-view+json": {
       "model_id": "eb0af681c55848a28b9ed6e5d12ec6ea",
       "version_major": 2,
       "version_minor": 0
      },
      "text/plain": [
       "Dropdown(description='Kernel Version', options=('v3.0', 'v3.1', 'v3.2', 'v3.3', 'v3.4', 'v3.5', 'v3.6', 'v3.7'…"
      ]
     },
     "metadata": {},
     "output_type": "display_data"
    },
    {
     "data": {
      "application/vnd.jupyter.widget-view+json": {
       "model_id": "a0489f7ed24949418888674ea9834e03",
       "version_major": 2,
       "version_minor": 0
      },
      "text/plain": [
       "Output()"
      ]
     },
     "metadata": {},
     "output_type": "display_data"
    }
   ],
   "source": [
    "display(*treemap_with_selector(df))"
   ]
  },
  {
   "cell_type": "markdown",
   "metadata": {},
   "source": [
    "# TODO: URL"
   ]
  },
  {
   "cell_type": "code",
   "execution_count": null,
   "metadata": {},
   "outputs": [],
   "source": []
  }
 ],
 "metadata": {
  "kernelspec": {
   "display_name": "venv",
   "language": "python",
   "name": "venv"
  },
  "language_info": {
   "codemirror_mode": {
    "name": "ipython",
    "version": 3
   },
   "file_extension": ".py",
   "mimetype": "text/x-python",
   "name": "python",
   "nbconvert_exporter": "python",
   "pygments_lexer": "ipython3",
   "version": "3.8.5"
  }
 },
 "nbformat": 4,
 "nbformat_minor": 4
}
