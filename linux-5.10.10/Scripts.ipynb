{
 "cells": [
  {
   "cell_type": "markdown",
   "metadata": {},
   "source": [
    "Analysis pinned to Kernel version 5.10"
   ]
  },
  {
   "cell_type": "code",
   "execution_count": 1,
   "metadata": {},
   "outputs": [],
   "source": [
    "#todo: make the regexes more strict."
   ]
  },
  {
   "cell_type": "code",
   "execution_count": 2,
   "metadata": {},
   "outputs": [],
   "source": [
    "import re\n",
    "import itertools\n",
    "from itertools import islice\n",
    "from subprocess import run\n",
    "\n",
    "from pathlib import Path\n",
    "import sqlite3\n",
    "\n",
    "KERNEL = Path(\".\")\n",
    "OUTDIR = Path(\"../function_survey/output/\")\n",
    "all_calls = OUTDIR/\"cscope_all_calls.txt\"\n",
    "kernel_tags = OUTDIR/\"kernel_tags\"\n",
    "test_targets = OUTDIR/\"cscope_test_targets\"\n",
    "all_c_code = OUTDIR/\"all_c_code.txt\"\n",
    "blame_files = Path(\"../blame\")\n",
    "\n",
    "\n",
    "connection = sqlite3.connect(OUTDIR/\"function_survey.db\")\n",
    "cursor = connection.cursor()"
   ]
  },
  {
   "cell_type": "code",
   "execution_count": 3,
   "metadata": {},
   "outputs": [],
   "source": [
    "def parse(filename, expression):\n",
    "    with open(filename) as f:\n",
    "        return [re.match(expression, line) for line in f]\n",
    "    \n",
    "def head(iterable, n=10):\n",
    "    return list(islice(iterable, n))"
   ]
  },
  {
   "cell_type": "markdown",
   "metadata": {},
   "source": [
    "## Ctags"
   ]
  },
  {
   "cell_type": "code",
   "execution_count": 4,
   "metadata": {},
   "outputs": [],
   "source": [
    "def reset_ctags_db():\n",
    "    cursor.execute(\"CREATE TABLE IF NOT EXISTS ctags (file, name, line, token_type, text)\")\n",
    "    cursor.execute(\"DELETE FROM ctags\")\n",
    "    \n",
    "def parse_ctags(filename):\n",
    "    expression = r\"(?P<name>^[^ ]+)\\s+(?P<token_type>[^ ]+)\\s+(?P<linenum>\\d+) (?P<path>[^ ]+) (?P<text>.*)\"\n",
    "    return parse(filename, expression)"
   ]
  },
  {
   "cell_type": "code",
   "execution_count": 5,
   "metadata": {},
   "outputs": [],
   "source": [
    "# List all c and header files\n",
    "!find -name *.c -o -name *.h > {all_c_code}\n",
    "# get all tokens in the kernel.\n",
    "!ctags -x -L {all_c_code} > {kernel_tags}"
   ]
  },
  {
   "cell_type": "code",
   "execution_count": 6,
   "metadata": {},
   "outputs": [],
   "source": [
    "# sort ctags output by line number, give contents of each function. (C does not allow nested functions)\n",
    "# assume one function per line.\n",
    "\n",
    "#the --languages=C flag causes headers to be excluded by ctags\n",
    "#running ctags with no settings results in python files being included"
   ]
  },
  {
   "cell_type": "code",
   "execution_count": 7,
   "metadata": {},
   "outputs": [
    {
     "data": {
      "text/plain": [
       "<sqlite3.Cursor at 0x7f2f94822880>"
      ]
     },
     "execution_count": 7,
     "metadata": {},
     "output_type": "execute_result"
    }
   ],
   "source": [
    "reset_ctags_db()\n",
    "cursor.executemany(\"INSERT INTO ctags VALUES (?,?,?,?,?)\", (\n",
    "    (m[\"path\"][len(\"./\"):],\n",
    "     m[\"name\"], m[\"linenum\"], m[\"token_type\"], m[\"text\"])\n",
    "    for m in parse_ctags(kernel_tags)))"
   ]
  },
  {
   "cell_type": "code",
   "execution_count": 8,
   "metadata": {
    "scrolled": true
   },
   "outputs": [
    {
     "data": {
      "text/plain": [
       "[('drivers/gpu/drm/msm/adreno/a2xx.xml.h',\n",
       "  'A2XX_A220_VSC_BIN_SIZE_HEIGHT',\n",
       "  '1419',\n",
       "  'function',\n",
       "  'static inline uint32_t A2XX_A220_VSC_BIN_SIZE_HEIGHT(uint32_t val)'),\n",
       " ('drivers/gpu/drm/msm/adreno/a2xx.xml.h',\n",
       "  'A2XX_A220_VSC_BIN_SIZE_WIDTH',\n",
       "  '1413',\n",
       "  'function',\n",
       "  'static inline uint32_t A2XX_A220_VSC_BIN_SIZE_WIDTH(uint32_t val)'),\n",
       " ('drivers/gpu/drm/msm/adreno/a2xx.xml.h',\n",
       "  'A2XX_CLEAR_COLOR_ALPHA',\n",
       "  '2397',\n",
       "  'function',\n",
       "  'static inline uint32_t A2XX_CLEAR_COLOR_ALPHA(uint32_t val)'),\n",
       " ('drivers/gpu/drm/msm/adreno/a2xx.xml.h',\n",
       "  'A2XX_CLEAR_COLOR_BLUE',\n",
       "  '2391',\n",
       "  'function',\n",
       "  'static inline uint32_t A2XX_CLEAR_COLOR_BLUE(uint32_t val)'),\n",
       " ('drivers/gpu/drm/msm/adreno/a2xx.xml.h',\n",
       "  'A2XX_CLEAR_COLOR_GREEN',\n",
       "  '2385',\n",
       "  'function',\n",
       "  'static inline uint32_t A2XX_CLEAR_COLOR_GREEN(uint32_t val)'),\n",
       " ('drivers/gpu/drm/msm/adreno/a2xx.xml.h',\n",
       "  'A2XX_CLEAR_COLOR_RED',\n",
       "  '2379',\n",
       "  'function',\n",
       "  'static inline uint32_t A2XX_CLEAR_COLOR_RED(uint32_t val)'),\n",
       " ('drivers/gpu/drm/msm/adreno/a2xx.xml.h',\n",
       "  'A2XX_MH_ARBITER_CONFIG_IN_FLIGHT_LIMIT',\n",
       "  '1387',\n",
       "  'function',\n",
       "  'static inline uint32_t A2XX_MH_ARBITER_CONFIG_IN_FLIGHT_LIMIT(uint32_t val)'),\n",
       " ('drivers/gpu/drm/msm/adreno/a2xx.xml.h',\n",
       "  'A2XX_MH_ARBITER_CONFIG_PAGE_SIZE',\n",
       "  '1378',\n",
       "  'function',\n",
       "  'static inline uint32_t A2XX_MH_ARBITER_CONFIG_PAGE_SIZE(uint32_t val)'),\n",
       " ('drivers/gpu/drm/msm/adreno/a2xx.xml.h',\n",
       "  'A2XX_MH_ARBITER_CONFIG_SAME_PAGE_LIMIT',\n",
       "  '1368',\n",
       "  'function',\n",
       "  'static inline uint32_t A2XX_MH_ARBITER_CONFIG_SAME_PAGE_LIMIT(uint32_t val)'),\n",
       " ('drivers/gpu/drm/msm/adreno/a2xx.xml.h',\n",
       "  'A2XX_MH_MMU_CONFIG_CP_R0_CLNT_BEHAVIOR',\n",
       "  '1178',\n",
       "  'function',\n",
       "  'static inline uint32_t A2XX_MH_MMU_CONFIG_CP_R0_CLNT_BEHAVIOR(enum adreno_mmu_clnt_beh val)')]"
      ]
     },
     "execution_count": 8,
     "metadata": {},
     "output_type": "execute_result"
    }
   ],
   "source": [
    "head(cursor.execute(\"SELECT * FROM ctags WHERE token_type = 'function'\"))"
   ]
  },
  {
   "cell_type": "code",
   "execution_count": 9,
   "metadata": {},
   "outputs": [],
   "source": [
    "# files = {}\n",
    "# test_functions = set()\n",
    "# for m in parse_ctags(kernel_tags):\n",
    "#     # name token_type linenum path text\n",
    "#     files[m[\"path\"]] = files.get(m[\"path\"],[]) + [m]\n",
    "#     if m[\"token_type\"] == \"function\" and \"test\" in m[\"name\"]:\n",
    "#         test_functions.add(m)"
   ]
  },
  {
   "cell_type": "code",
   "execution_count": 10,
   "metadata": {},
   "outputs": [],
   "source": [
    "# {k: \n",
    "#  [(int(m[\"linenum\"]), m[\"token_type\"],\n",
    "#    m[\"name\"], m[\"text\"])\n",
    "#   for m in sorted(v, key=lambda m:int(m[\"linenum\"]))]\n",
    "#  for k,v in islice(files.items(), 1, 2)}"
   ]
  },
  {
   "cell_type": "code",
   "execution_count": 11,
   "metadata": {},
   "outputs": [],
   "source": [
    "# [(int(m[\"linenum\"]), m[\"token_type\"],\n",
    "#    m[\"name\"], m[\"text\"])\n",
    "#   for m in sorted(files[\"./fs/9p/fid.c\"],\n",
    "#                   key=lambda m:int(m[\"linenum\"]))]"
   ]
  },
  {
   "cell_type": "code",
   "execution_count": 12,
   "metadata": {},
   "outputs": [],
   "source": [
    "# !grep -v variable {kernel_tags} | head -n 50 "
   ]
  },
  {
   "cell_type": "markdown",
   "metadata": {},
   "source": [
    "## Blame-Parser"
   ]
  },
  {
   "cell_type": "code",
   "execution_count": 13,
   "metadata": {},
   "outputs": [],
   "source": [
    "def strict_match(pattern, line, flags=0):\n",
    "    m = re.match(pattern, line, flags=0)\n",
    "    if m:\n",
    "        return m\n",
    "    raise(ValueError, f\"{pattern} did not match {line}\")\n",
    "\n",
    "def blame_contents(match):\n",
    "    return match[\"contents\"].split(\"|\")\n",
    "\n",
    "def parse_blame_file(filename):\n",
    "    expression = (r\"^(?P<hash>\\w{40});\"\n",
    "                  r\"(?P<previous_file_name>[^\\s;]*);\"\n",
    "                  r\"\\t(?P<contents>.*)$\"\n",
    "                 )\n",
    "    with open(filename) as f:\n",
    "        yield from (blame_contents(strict_match(expression, line)) for line in f)"
   ]
  },
  {
   "cell_type": "code",
   "execution_count": 14,
   "metadata": {},
   "outputs": [],
   "source": [
    "def parse_file(filename):\n",
    "    functions = {}\n",
    "    state = \"Not in function\" # switch to enum\n",
    "    for i,contents in enumerate(\n",
    "        parse_blame_file(filename)\n",
    "    ):\n",
    "        if state == \"Not in function\":\n",
    "            if contents[0] == \"begin_function\":\n",
    "                contained_names = []\n",
    "                called_functions = []\n",
    "                function_name = None\n",
    "                state = \"Function declaration\"\n",
    "            # else: ignore current line\n",
    "        elif state == \"Function declaration\":\n",
    "            if (contents[0] == \"DECL\"\n",
    "                and contents[1] == \"function\"\n",
    "               ):\n",
    "                function_name = contents[2].split()[0]\n",
    "                state = \"Function declaration breakdown\"\n",
    "            # else: some functions have specifiers/names on the line(s) before the declaration\n",
    "            # for example find_pa in arch/alpha/boot/bootp.c, line 41\n",
    "        elif state == \"Function declaration breakdown\":\n",
    "            if contents[0] == \"block\":\n",
    "                state = \"Function Body\"\n",
    "            # else: ignore specifiers/arguments\n",
    "        elif state == \"Function Body\":\n",
    "            if contents[0] == \"end_function\":\n",
    "                functions[function_name] = called_functions#, contained_names\n",
    "                state = \"Not in function\"\n",
    "            elif contents[0] == \"name\":\n",
    "                contained_names.append(contents[1])\n",
    "                current_name = contents[1]\n",
    "                state = \"Identifying Name\"\n",
    "            # else: ignore anything that is not a call/end of function\n",
    "        elif state == \"Identifying Name\":\n",
    "            # this state is the most likely to be incorrect.\n",
    "            # TODO: figure out what can be after a name token\n",
    "            if contents[0] == \"argument_list\" and contents[1] == \"(\": #this will probably break on no arg functions\n",
    "                # assume that the name is a function\n",
    "                called_functions.append(current_name)\n",
    "                current_name = None\n",
    "                state = \"Function Body\"\n",
    "            elif contents[0] == \"name\":\n",
    "                contained_names.append(contents[1])\n",
    "                current_name = contents[1]\n",
    "                state = \"Identifying Name\"\n",
    "            else:\n",
    "                # assume name is not a function\n",
    "                current_name = None\n",
    "                state = \"Function Body\"\n",
    "        else:\n",
    "            assert False, f\"invalid state {state}\"\n",
    "        \n",
    "    return functions\n",
    "\n",
    "def parse_kernel():\n",
    "    kernel_files = {}\n",
    "    for filename in blame_files.rglob(\"*.c.blame\"):\n",
    "        kernel_files[filename] = parse_file(filename)\n",
    "    return kernel_files"
   ]
  },
  {
   "cell_type": "code",
   "execution_count": 15,
   "metadata": {},
   "outputs": [],
   "source": [
    "# How does cregit handle ifdefs in functions?"
   ]
  },
  {
   "cell_type": "code",
   "execution_count": 24,
   "metadata": {},
   "outputs": [],
   "source": [
    "# file (path), item_type (function/include/ifdef/etc), name\n",
    "\n",
    "# Call table\n",
    "# caller_id, callee_name\n",
    "\n",
    "# Functions table\n",
    "# function_id, function_name\n",
    "\n",
    "# file contents\n",
    "# file, item_type, item_id\n",
    "\n",
    "\n",
    "def parse_whole(filename):\n",
    "    lines = parse_blame_file(filename)\n",
    "        \n",
    "    for start, *rest in lines:\n",
    "        if (start in (\"begin_unit\", \"end_unit\", \"\")):\n",
    "            pass\n",
    "        elif start.startswith(\"begin_\"):\n",
    "            item = start[len(\"begin_\"):]\n",
    "            if item == \"function\":\n",
    "                yield (\"function\", *parse_function(lines_in_item(lines, item)))\n",
    "            elif item == \"include\":\n",
    "                yield (\"include\", *parse_include(lines_in_item(lines, item)))\n",
    "            else:\n",
    "                yield skip(lines, item)\n",
    "\n",
    "def parse_function(lines):\n",
    "    lines = iter(lines)\n",
    "    function_name, specifiers = parse_function_decl(lines)\n",
    "    callees = parse_function_body(lines)\n",
    "    return (function_name, specifiers, callees)\n",
    "\n",
    "def parse_function_decl(lines):\n",
    "    specifiers = []\n",
    "    function_name = None\n",
    "    for start, *rest in lines:\n",
    "        if start == \"specifier\":\n",
    "            assert len(rest) == 1\n",
    "            specifiers += rest\n",
    "            # are there other specifiers than static\n",
    "        elif start == \"DECL\":\n",
    "            assert rest[0] == \"function\", (start, rest)\n",
    "            function_name = rest[1].split()[0]\n",
    "        elif start == \"name\":\n",
    "            pass # we may be able to weed out the function name, and get the types if that is usefull\n",
    "        elif start == \"parameter_list\" and rest == [\")\"]:\n",
    "            break  # this marks the end of the function header\n",
    "        else:\n",
    "            pass # TODO: check what other declaration parts end up here\n",
    "    assert function_name is not None\n",
    "    return function_name, specifiers\n",
    "\n",
    "def parse_function_body(lines):\n",
    "    names = []\n",
    "    callees = []\n",
    "    \n",
    "    contents = next(lines)\n",
    "    # check if this holds for empty blocks\n",
    "    assert (contents == [\"block\", \"{\"]), \"function body must start with block\"\n",
    "    \n",
    "    prev_name = None\n",
    "    for start, *rest in lines:\n",
    "        if start == \"name\":\n",
    "            assert len(rest) == 1\n",
    "            names += rest\n",
    "            prev_name = rest[0]\n",
    "        elif start == \"argument_list\":\n",
    "            if rest in [[\"(\"], [\"()\"]]:\n",
    "                callees.append(prev_name)\n",
    "            prev_name = None\n",
    "        else:\n",
    "            prev_name = None # assume that argument lists always follow function names directly\n",
    "    return callees\n",
    "            \n",
    "def parse_include(lines):\n",
    "    assert len(lines) == 3, lines\n",
    "    lines = iter(lines)\n",
    "    assert next(lines) == [\"include\", \"#\"]\n",
    "    assert next(lines) == [\"directive\", \"include\"]\n",
    "    start, *rest = next(lines)\n",
    "    assert start == \"file\" and len(rest) == 1\n",
    "    return rest\n",
    "    \n",
    "def skip(lines, item):\n",
    "    \"\"\"Skips to the end of a begin/end pair\"\"\"\n",
    "    lines_in_item(lines, item)\n",
    "    return (item, \"skipped\")\n",
    "        \n",
    "def lines_in_item(lines, item):\n",
    "    \"\"\"Returns a list of all lines between the begin_? and end_? markers\"\"\"\n",
    "    result = []\n",
    "    \n",
    "    start, *rest = contents = next(lines)\n",
    "    while start != f\"end_{item}\":\n",
    "        assert not start.startswith(\"end_\"), \"end of different item found\"\n",
    "        assert not start.startswith(\"begin_\"), \"start of different item found\"\n",
    "        result.append(contents)\n",
    "        start, *rest = contents = next(lines)\n",
    "    return result\n",
    "            \n",
    "\n",
    "def parse_kernel_2():\n",
    "    for filename in blame_files.rglob(\"*.c.blame\"):\n",
    "        yield filename, parse_file(filename)"
   ]
  },
  {
   "cell_type": "code",
   "execution_count": 23,
   "metadata": {
    "collapsed": true
   },
   "outputs": [
    {
     "data": {
      "text/plain": [
       "[('include', '<asm/hwrpb.h>'),\n",
       " ('include', '<linux/device.h>'),\n",
       " ('ifdef', 'skipped'),\n",
       " ('function', 'cpu_is_ev6_or_later', ['static'], []),\n",
       " ('function',\n",
       "  'cpu_show_meltdown',\n",
       "  [],\n",
       "  ['cpu_is_ev6_or_later', 'sprintf', 'sprintf']),\n",
       " ('function',\n",
       "  'cpu_show_spectre_v1',\n",
       "  [],\n",
       "  ['cpu_is_ev6_or_later', 'sprintf', 'sprintf']),\n",
       " ('function',\n",
       "  'cpu_show_spectre_v2',\n",
       "  [],\n",
       "  ['cpu_is_ev6_or_later', 'sprintf', 'sprintf']),\n",
       " ('endif', 'skipped')]"
      ]
     },
     "execution_count": 23,
     "metadata": {},
     "output_type": "execute_result"
    }
   ],
   "source": [
    "list(parse_whole(\n",
    "    blame_files/\"arch/alpha/kernel/bugs.c.blame\")\n",
    ")"
   ]
  },
  {
   "cell_type": "code",
   "execution_count": 34,
   "metadata": {
    "scrolled": true
   },
   "outputs": [
    {
     "data": {
      "text/plain": [
       "{PosixPath('../blame/drivers/uio/uio_mf624.c.blame'): {'mf624_disable_interrupt': ['iowrite32',\n",
       "   'ioread32',\n",
       "   'iowrite32',\n",
       "   'ioread32',\n",
       "   'iowrite32',\n",
       "   'ioread32'],\n",
       "  'mf624_enable_interrupt': ['iowrite32',\n",
       "   'ioread32',\n",
       "   'iowrite32',\n",
       "   'ioread32',\n",
       "   'iowrite32',\n",
       "   'ioread32'],\n",
       "  'mf624_irq_handler': ['ioread32',\n",
       "   'ioread32',\n",
       "   'mf624_disable_interrupt',\n",
       "   'ioread32',\n",
       "   'ioread32',\n",
       "   'mf624_disable_interrupt'],\n",
       "  'mf624_irqcontrol': ['mf624_disable_interrupt', 'mf624_enable_interrupt'],\n",
       "  'mf624_setup_mem': ['pci_resource_start',\n",
       "   'pci_resource_len',\n",
       "   'pci_ioremap_bar'],\n",
       "  'mf624_pci_probe': ['kzalloc',\n",
       "   'pci_enable_device',\n",
       "   'pci_request_regions',\n",
       "   'mf624_setup_mem',\n",
       "   'mf624_setup_mem',\n",
       "   'mf624_setup_mem',\n",
       "   'uio_register_device',\n",
       "   'pci_set_drvdata',\n",
       "   'iounmap',\n",
       "   'iounmap',\n",
       "   'iounmap',\n",
       "   'pci_release_regions',\n",
       "   'pci_disable_device',\n",
       "   'kfree'],\n",
       "  'mf624_pci_remove': ['pci_get_drvdata',\n",
       "   'mf624_disable_interrupt',\n",
       "   'uio_unregister_device',\n",
       "   'pci_release_regions',\n",
       "   'pci_disable_device',\n",
       "   'iounmap',\n",
       "   'iounmap',\n",
       "   'iounmap',\n",
       "   'kfree']},\n",
       " PosixPath('../blame/drivers/uio/uio_hv_generic.c.blame'): {'hv_uio_irqcontrol': [],\n",
       "  'hv_uio_channel_cb': ['hv_get_drvdata', 'uio_event_notify'],\n",
       "  'hv_uio_rescind': ['hv_get_drvdata', 'uio_event_notify'],\n",
       "  'hv_uio_ring_mmap': ['container_of',\n",
       "   'page_address',\n",
       "   'vm_iomap_memory',\n",
       "   'virt_to_phys'],\n",
       "  'hv_uio_new_channel': ['vmbus_open',\n",
       "   'dev_err',\n",
       "   'set_channel_read_mode',\n",
       "   'sysfs_create_bin_file',\n",
       "   'dev_err',\n",
       "   'vmbus_close'],\n",
       "  'hv_uio_cleanup': ['vmbus_teardown_gpadl',\n",
       "   'vfree',\n",
       "   'vmbus_teardown_gpadl',\n",
       "   'vfree'],\n",
       "  'hv_uio_open': ['container_of',\n",
       "   'atomic_inc_return',\n",
       "   'vmbus_set_chn_rescind_callback',\n",
       "   'vmbus_set_sc_create_callback',\n",
       "   'vmbus_connect_ring',\n",
       "   'atomic_dec'],\n",
       "  'hv_uio_release': ['container_of',\n",
       "   'atomic_dec_and_test',\n",
       "   'vmbus_disconnect_ring'],\n",
       "  'hv_uio_probe': ['dev_err',\n",
       "   'kzalloc',\n",
       "   'vmbus_alloc_ring',\n",
       "   'set_channel_read_mode',\n",
       "   'atomic_set',\n",
       "   'page_address',\n",
       "   'virt_to_phys',\n",
       "   'vzalloc',\n",
       "   'vmbus_establish_gpadl',\n",
       "   'snprintf',\n",
       "   'vzalloc',\n",
       "   'vmbus_establish_gpadl',\n",
       "   'snprintf',\n",
       "   'uio_register_device',\n",
       "   'dev_err',\n",
       "   'sysfs_create_bin_file',\n",
       "   'dev_notice',\n",
       "   'hv_set_drvdata',\n",
       "   'hv_uio_cleanup',\n",
       "   'kfree'],\n",
       "  'hv_uio_remove': ['hv_get_drvdata',\n",
       "   'sysfs_remove_bin_file',\n",
       "   'uio_unregister_device',\n",
       "   'hv_uio_cleanup',\n",
       "   'hv_set_drvdata',\n",
       "   'vmbus_free_ring',\n",
       "   'kfree'],\n",
       "  'hyperv_module_init': ['vmbus_driver_register'],\n",
       "  'hyperv_module_exit': ['vmbus_driver_unregister']},\n",
       " PosixPath('../blame/drivers/uio/uio.c.blame'): {'map_name_show': ['unlikely',\n",
       "   'sprintf'],\n",
       "  'map_addr_show': ['sprintf'],\n",
       "  'map_size_show': ['sprintf'],\n",
       "  'map_offset_show': ['sprintf'],\n",
       "  'map_release': ['to_map', 'kfree'],\n",
       "  'map_type_show': ['to_map', 'container_of', 'show'],\n",
       "  'portio_name_show': ['unlikely', 'sprintf'],\n",
       "  'portio_start_show': ['sprintf'],\n",
       "  'portio_size_show': ['sprintf'],\n",
       "  'portio_porttype_show': ['sprintf'],\n",
       "  'portio_release': ['to_portio', 'kfree'],\n",
       "  'portio_type_show': ['to_portio', 'container_of', 'show'],\n",
       "  'name_show': ['dev_get_drvdata',\n",
       "   'mutex_lock',\n",
       "   'dev_err',\n",
       "   'sprintf',\n",
       "   'mutex_unlock'],\n",
       "  'version_show': ['dev_get_drvdata',\n",
       "   'mutex_lock',\n",
       "   'dev_err',\n",
       "   'sprintf',\n",
       "   'mutex_unlock'],\n",
       "  'event_show': ['dev_get_drvdata', 'sprintf', 'atomic_read'],\n",
       "  'uio_dev_add_attributes': ['kobject_create_and_add',\n",
       "   'kzalloc',\n",
       "   'kobject_init',\n",
       "   'kobject_add',\n",
       "   'kobject_uevent',\n",
       "   'kobject_create_and_add',\n",
       "   'kzalloc',\n",
       "   'kobject_init',\n",
       "   'kobject_add',\n",
       "   'kobject_uevent',\n",
       "   'kobject_put',\n",
       "   'kobject_put',\n",
       "   'kobject_put',\n",
       "   'kobject_put',\n",
       "   'dev_err'],\n",
       "  'uio_dev_del_attributes': ['kobject_put',\n",
       "   'kobject_put',\n",
       "   'kobject_put',\n",
       "   'kobject_put'],\n",
       "  'uio_get_minor': ['mutex_lock', 'idr_alloc', 'dev_err', 'mutex_unlock'],\n",
       "  'uio_free_minor': ['mutex_lock', 'idr_remove', 'mutex_unlock'],\n",
       "  'uio_event_notify': ['atomic_inc', 'wake_up_interruptible', 'kill_fasync'],\n",
       "  'uio_interrupt': ['handler', 'uio_event_notify'],\n",
       "  'uio_open': ['mutex_lock',\n",
       "   'idr_find',\n",
       "   'iminor',\n",
       "   'mutex_unlock',\n",
       "   'get_device',\n",
       "   'try_module_get',\n",
       "   'kmalloc',\n",
       "   'atomic_read',\n",
       "   'mutex_lock',\n",
       "   'mutex_unlock',\n",
       "   'open',\n",
       "   'mutex_unlock',\n",
       "   'kfree',\n",
       "   'module_put',\n",
       "   'put_device'],\n",
       "  'uio_fasync': ['fasync_helper'],\n",
       "  'uio_release': ['mutex_lock',\n",
       "   'release',\n",
       "   'mutex_unlock',\n",
       "   'module_put',\n",
       "   'kfree',\n",
       "   'put_device'],\n",
       "  'uio_poll': ['mutex_lock', 'mutex_unlock', 'poll_wait', 'atomic_read'],\n",
       "  'uio_read': ['DECLARE_WAITQUEUE',\n",
       "   'add_wait_queue',\n",
       "   'mutex_lock',\n",
       "   'mutex_unlock',\n",
       "   'mutex_unlock',\n",
       "   'set_current_state',\n",
       "   'atomic_read',\n",
       "   '__set_current_state',\n",
       "   'copy_to_user',\n",
       "   'signal_pending',\n",
       "   '__set_current_state',\n",
       "   'remove_wait_queue'],\n",
       "  'uio_write': ['copy_from_user', 'mutex_lock', 'irqcontrol', 'mutex_unlock'],\n",
       "  'uio_find_mem_index': [],\n",
       "  'uio_vma_fault': ['mutex_lock',\n",
       "   'uio_find_mem_index',\n",
       "   'virt_to_page',\n",
       "   'vmalloc_to_page',\n",
       "   'get_page',\n",
       "   'mutex_unlock'],\n",
       "  'uio_mmap_logical': [],\n",
       "  'uio_mmap_physical': ['uio_find_mem_index',\n",
       "   'pgprot_noncached',\n",
       "   'remap_pfn_range'],\n",
       "  'uio_mmap': ['mutex_lock',\n",
       "   'uio_find_mem_index',\n",
       "   'vma_pages',\n",
       "   'mmap',\n",
       "   'uio_mmap_physical',\n",
       "   'uio_mmap_logical',\n",
       "   'mutex_unlock'],\n",
       "  'uio_major_init': ['alloc_chrdev_region',\n",
       "   'kobject_set_name',\n",
       "   'cdev_add',\n",
       "   'MAJOR',\n",
       "   'kobject_put',\n",
       "   'unregister_chrdev_region'],\n",
       "  'uio_major_cleanup': ['unregister_chrdev_region', 'MKDEV', 'cdev_del'],\n",
       "  'init_uio_class': ['class_register', 'printk'],\n",
       "  'release_uio_class': ['class_unregister'],\n",
       "  'uio_device_release': ['dev_get_drvdata', 'kfree'],\n",
       "  '__uio_register_device': ['kzalloc',\n",
       "   'mutex_init',\n",
       "   'init_waitqueue_head',\n",
       "   'atomic_set',\n",
       "   'uio_get_minor',\n",
       "   'kfree',\n",
       "   'device_initialize',\n",
       "   'MKDEV',\n",
       "   'dev_set_drvdata',\n",
       "   'dev_set_name',\n",
       "   'device_add',\n",
       "   'uio_dev_add_attributes',\n",
       "   'request_irq',\n",
       "   'uio_dev_del_attributes',\n",
       "   'device_del',\n",
       "   'uio_free_minor',\n",
       "   'put_device'],\n",
       "  'devm_uio_unregister_device': ['uio_unregister_device'],\n",
       "  '__devm_uio_register_device': ['devres_alloc',\n",
       "   '__uio_register_device',\n",
       "   'devres_free',\n",
       "   'devres_add'],\n",
       "  'uio_unregister_device': ['mutex_lock',\n",
       "   'uio_dev_del_attributes',\n",
       "   'free_irq',\n",
       "   'mutex_unlock',\n",
       "   'wake_up_interruptible',\n",
       "   'kill_fasync',\n",
       "   'device_unregister',\n",
       "   'uio_free_minor'],\n",
       "  'uio_init': [],\n",
       "  'uio_exit': ['idr_destroy']},\n",
       " PosixPath('../blame/drivers/uio/uio_pruss.c.blame'): {'pruss_handler': ['ioread32',\n",
       "   'ioread32',\n",
       "   'iowrite32'],\n",
       "  'pruss_cleanup': ['uio_unregister_device',\n",
       "   'kfree',\n",
       "   'iounmap',\n",
       "   'dma_free_coherent',\n",
       "   'gen_pool_free',\n",
       "   'kfree',\n",
       "   'clk_disable',\n",
       "   'clk_put',\n",
       "   'kfree'],\n",
       "  'pruss_probe': ['dev_get_platdata',\n",
       "   'kzalloc',\n",
       "   'kcalloc',\n",
       "   'clk_get',\n",
       "   'IS_ERR',\n",
       "   'dev_err',\n",
       "   'PTR_ERR',\n",
       "   'clk_enable',\n",
       "   'dev_err',\n",
       "   'platform_get_resource',\n",
       "   'dev_err',\n",
       "   'dev_err',\n",
       "   'gen_pool_dma_alloc',\n",
       "   'dev_err',\n",
       "   'dma_alloc_coherent',\n",
       "   'dev_err',\n",
       "   'resource_size',\n",
       "   'ioremap',\n",
       "   'dev_err',\n",
       "   'platform_get_irq',\n",
       "   'resource_size',\n",
       "   'kasprintf',\n",
       "   'uio_register_device',\n",
       "   'kfree',\n",
       "   'platform_set_drvdata',\n",
       "   'uio_unregister_device',\n",
       "   'kfree',\n",
       "   'iounmap',\n",
       "   'dma_free_coherent',\n",
       "   'gen_pool_free',\n",
       "   'clk_disable',\n",
       "   'clk_put',\n",
       "   'kfree',\n",
       "   'kfree'],\n",
       "  'pruss_remove': ['platform_get_drvdata', 'pruss_cleanup']},\n",
       " PosixPath('../blame/drivers/uio/uio_sercos3.c.blame'): {'sercos3_disable_interrupts': ['ioread32',\n",
       "   'iowrite32'],\n",
       "  'sercos3_enable_interrupts': ['iowrite32', 'ioread32'],\n",
       "  'sercos3_handler': ['ioread32',\n",
       "   'ioread32',\n",
       "   'spin_lock',\n",
       "   'sercos3_disable_interrupts',\n",
       "   'spin_unlock'],\n",
       "  'sercos3_irqcontrol': ['spin_lock_irq',\n",
       "   'sercos3_enable_interrupts',\n",
       "   'sercos3_disable_interrupts',\n",
       "   'spin_unlock_irq'],\n",
       "  'sercos3_setup_iomem': ['pci_resource_start',\n",
       "   'ioremap',\n",
       "   'pci_resource_start',\n",
       "   'pci_resource_len',\n",
       "   'pci_resource_len'],\n",
       "  'sercos3_pci_probe': ['kzalloc',\n",
       "   'kzalloc',\n",
       "   'pci_enable_device',\n",
       "   'pci_request_regions',\n",
       "   'sercos3_setup_iomem',\n",
       "   'sercos3_setup_iomem',\n",
       "   'sercos3_setup_iomem',\n",
       "   'sercos3_setup_iomem',\n",
       "   'sercos3_setup_iomem',\n",
       "   'spin_lock_init',\n",
       "   'pci_set_drvdata',\n",
       "   'uio_register_device',\n",
       "   'iounmap',\n",
       "   'pci_release_regions',\n",
       "   'pci_disable_device',\n",
       "   'kfree',\n",
       "   'kfree'],\n",
       "  'sercos3_pci_remove': ['pci_get_drvdata',\n",
       "   'uio_unregister_device',\n",
       "   'pci_release_regions',\n",
       "   'pci_disable_device',\n",
       "   'iounmap',\n",
       "   'kfree',\n",
       "   'kfree']},\n",
       " PosixPath('../blame/drivers/uio/uio_pdrv_genirq.c.blame'): {'uio_pdrv_genirq_open': ['pm_runtime_get_sync'],\n",
       "  'uio_pdrv_genirq_release': ['pm_runtime_put_sync'],\n",
       "  'uio_pdrv_genirq_handler': ['spin_lock',\n",
       "   '__test_and_set_bit',\n",
       "   'disable_irq_nosync',\n",
       "   'spin_unlock'],\n",
       "  'uio_pdrv_genirq_irqcontrol': ['spin_lock_irqsave',\n",
       "   '__test_and_clear_bit',\n",
       "   'enable_irq',\n",
       "   '__test_and_set_bit',\n",
       "   'disable_irq_nosync',\n",
       "   'spin_unlock_irqrestore'],\n",
       "  'uio_pdrv_genirq_cleanup': ['pm_runtime_disable'],\n",
       "  'uio_pdrv_genirq_probe': ['dev_get_platdata',\n",
       "   'devm_kzalloc',\n",
       "   'dev_err',\n",
       "   'of_property_read_string',\n",
       "   'devm_kstrdup',\n",
       "   'devm_kasprintf',\n",
       "   'dev_err',\n",
       "   'dev_err',\n",
       "   'devm_kzalloc',\n",
       "   'dev_err',\n",
       "   'spin_lock_init',\n",
       "   'platform_get_irq_optional',\n",
       "   'dev_err',\n",
       "   'irq_get_irq_data',\n",
       "   'irqd_get_trigger_type',\n",
       "   'dev_dbg',\n",
       "   'irq_set_status_flags',\n",
       "   'dev_warn',\n",
       "   '__stringify',\n",
       "   'resource_size',\n",
       "   'pm_runtime_enable',\n",
       "   'devm_add_action_or_reset',\n",
       "   'devm_uio_register_device',\n",
       "   'dev_err'],\n",
       "  'uio_pdrv_genirq_runtime_nop': []},\n",
       " PosixPath('../blame/drivers/uio/uio_fsl_elbc_gpcm.c.blame'): {'reg_show': ['dev_get_drvdata',\n",
       "   'scnprintf',\n",
       "   'in_be32',\n",
       "   'scnprintf',\n",
       "   'in_be32'],\n",
       "  'reg_store': ['dev_get_drvdata',\n",
       "   'kstrtoul',\n",
       "   'in_be32',\n",
       "   'in_be32',\n",
       "   'out_be32',\n",
       "   'out_be32'],\n",
       "  'netx5152_irq_handler': ['ioread32', 'ioread32', 'iowrite32', 'ioread32'],\n",
       "  'netx5152_init': ['of_get_property', 'of_read_ulong', 'iowrite32'],\n",
       "  'netx5152_shutdown': ['iowrite32'],\n",
       "  'setup_periph': ['strcmp'],\n",
       "  'check_of_data': ['dev_err',\n",
       "   'dev_err',\n",
       "   'resource_size',\n",
       "   'dev_err',\n",
       "   'fsl_lbc_addr',\n",
       "   'dev_err'],\n",
       "  'get_of_data': ['of_address_to_resource',\n",
       "   'dev_err',\n",
       "   'of_property_read_u32',\n",
       "   'dev_err',\n",
       "   'of_property_read_u32',\n",
       "   'dev_err',\n",
       "   'of_property_read_u32',\n",
       "   'dev_err',\n",
       "   'of_property_read_string',\n",
       "   'setup_periph',\n",
       "   'irq_of_parse_and_map',\n",
       "   'check_of_data',\n",
       "   'of_property_read_string',\n",
       "   'kstrdup'],\n",
       "  'uio_fsl_elbc_gpcm_probe': ['kzalloc',\n",
       "   'get_of_data',\n",
       "   'kzalloc',\n",
       "   'in_be32',\n",
       "   'in_be32',\n",
       "   'fsl_lbc_addr',\n",
       "   'dev_err',\n",
       "   'dev_warn',\n",
       "   'dev_warn',\n",
       "   'fsl_lbc_addr',\n",
       "   'out_be32',\n",
       "   'out_be32',\n",
       "   'ioremap',\n",
       "   'resource_size',\n",
       "   'dev_err',\n",
       "   'kasprintf',\n",
       "   'resource_size',\n",
       "   'dev_warn',\n",
       "   'init',\n",
       "   'uio_register_device',\n",
       "   'dev_err',\n",
       "   'platform_set_drvdata',\n",
       "   'dev_info',\n",
       "   'shutdown',\n",
       "   'iounmap',\n",
       "   'kfree',\n",
       "   'kfree',\n",
       "   'kfree',\n",
       "   'kfree'],\n",
       "  'uio_fsl_elbc_gpcm_remove': ['platform_get_drvdata',\n",
       "   'platform_set_drvdata',\n",
       "   'uio_unregister_device',\n",
       "   'shutdown',\n",
       "   'iounmap',\n",
       "   'kfree',\n",
       "   'kfree',\n",
       "   'kfree',\n",
       "   'kfree']},\n",
       " PosixPath('../blame/drivers/uio/uio_cif.c.blame'): {'hilscher_handler': ['ioread8',\n",
       "   'iowrite8',\n",
       "   'ioread8'],\n",
       "  'hilscher_pci_probe': ['kzalloc',\n",
       "   'pci_enable_device',\n",
       "   'pci_request_regions',\n",
       "   'pci_resource_start',\n",
       "   'pci_ioremap_bar',\n",
       "   'pci_resource_len',\n",
       "   'pci_resource_start',\n",
       "   'pci_resource_len',\n",
       "   'uio_register_device',\n",
       "   'pci_set_drvdata',\n",
       "   'iounmap',\n",
       "   'pci_release_regions',\n",
       "   'pci_disable_device',\n",
       "   'kfree'],\n",
       "  'hilscher_pci_remove': ['pci_get_drvdata',\n",
       "   'uio_unregister_device',\n",
       "   'pci_release_regions',\n",
       "   'pci_disable_device',\n",
       "   'iounmap',\n",
       "   'kfree']},\n",
       " PosixPath('../blame/drivers/uio/uio_pci_generic.c.blame'): {'to_uio_pci_generic_dev': ['container_of'],\n",
       "  'release': ['to_uio_pci_generic_dev', 'pci_clear_master'],\n",
       "  'irqhandler': ['to_uio_pci_generic_dev', 'pci_check_and_mask_intx'],\n",
       "  'probe': ['pci_enable_device',\n",
       "   'dev_err',\n",
       "   'pci_intx_mask_supported',\n",
       "   'kzalloc',\n",
       "   'dev_warn',\n",
       "   'uio_register_device',\n",
       "   'pci_set_drvdata',\n",
       "   'kfree',\n",
       "   'pci_disable_device'],\n",
       "  'remove': ['pci_get_drvdata',\n",
       "   'uio_unregister_device',\n",
       "   'pci_disable_device',\n",
       "   'kfree']},\n",
       " PosixPath('../blame/drivers/uio/uio_netx.c.blame'): {'netx_handler': ['ioread32',\n",
       "   'ioread32',\n",
       "   'iowrite32',\n",
       "   'ioread32'],\n",
       "  'netx_pci_probe': ['kzalloc',\n",
       "   'pci_enable_device',\n",
       "   'pci_request_regions',\n",
       "   'pci_resource_start',\n",
       "   'ioremap',\n",
       "   'pci_resource_start',\n",
       "   'pci_resource_len',\n",
       "   'pci_resource_len',\n",
       "   'iowrite32',\n",
       "   'uio_register_device',\n",
       "   'pci_set_drvdata',\n",
       "   'dev_info',\n",
       "   'iounmap',\n",
       "   'pci_release_regions',\n",
       "   'pci_disable_device',\n",
       "   'kfree'],\n",
       "  'netx_pci_remove': ['pci_get_drvdata',\n",
       "   'iowrite32',\n",
       "   'uio_unregister_device',\n",
       "   'pci_release_regions',\n",
       "   'pci_disable_device',\n",
       "   'iounmap',\n",
       "   'kfree']}}"
      ]
     },
     "execution_count": 34,
     "metadata": {},
     "output_type": "execute_result"
    }
   ],
   "source": [
    "kernel_files_2 = dict(parse_kernel_2())\n",
    "dict(islice(kernel_files.items(), 10))"
   ]
  },
  {
   "cell_type": "code",
   "execution_count": 37,
   "metadata": {},
   "outputs": [
    {
     "data": {
      "text/plain": [
       "29473"
      ]
     },
     "execution_count": 37,
     "metadata": {},
     "output_type": "execute_result"
    }
   ],
   "source": [
    "len(kernel_files_2)"
   ]
  },
  {
   "cell_type": "code",
   "execution_count": 47,
   "metadata": {},
   "outputs": [
    {
     "data": {
      "text/plain": [
       "529075"
      ]
     },
     "execution_count": 47,
     "metadata": {},
     "output_type": "execute_result"
    }
   ],
   "source": [
    "len([func for file in kernel_files_2.values() for func in file]) #529075 same number of functions found"
   ]
  },
  {
   "cell_type": "code",
   "execution_count": 38,
   "metadata": {},
   "outputs": [],
   "source": [
    "def reset_cregit_db():\n",
    "    # all functions\n",
    "    cursor.execute(\"CREATE TABLE IF NOT EXISTS cregit_functions (file, name)\")\n",
    "    # all calls from one function to annother\n",
    "    cursor.execute(\"CREATE TABLE IF NOT EXISTS cregit_calls (file, caller, callee)\")\n",
    "    # clear tables\n",
    "    cursor.execute(\"DELETE FROM cregit_functions\")\n",
    "    cursor.execute(\"DELETE FROM cregit_calls\")"
   ]
  },
  {
   "cell_type": "code",
   "execution_count": 39,
   "metadata": {},
   "outputs": [
    {
     "data": {
      "text/plain": [
       "<sqlite3.Cursor at 0x7f2f94822880>"
      ]
     },
     "execution_count": 39,
     "metadata": {},
     "output_type": "execute_result"
    }
   ],
   "source": [
    "kernel_files = parse_kernel()\n",
    "reset_cregit_db()\n",
    "# trim ../blame/ and .blame from ends of path so that paths can be compared between methods\n",
    "cursor.executemany(\"INSERT INTO cregit_calls VALUES (?,?,?)\", (\n",
    "    (str(file)[len(\"../blame/\"):-len(\".blame\")], caller, callee)\n",
    "    for file, functions in kernel_files.items()\n",
    "    for caller, callees in functions.items()\n",
    "    for callee in set(callees))\n",
    ")\n",
    "cursor.executemany(\"INSERT INTO cregit_functions VALUES (?,?)\", (\n",
    "    (str(file)[len(\"../blame/\"):-len(\".blame\")], function_name)\n",
    "    for file, file_functions in kernel_files.items()\n",
    "    for function_name in file_functions\n",
    "))"
   ]
  },
  {
   "cell_type": "code",
   "execution_count": 40,
   "metadata": {},
   "outputs": [
    {
     "name": "stdout",
     "output_type": "stream",
     "text": [
      "[('test_8',), ('test_8',), ('test_16',), ('test_16',), ('test_32',), ('test_32',), ('tx4939ide_dma_test_irq',), ('tx4939ide_dma_test_irq',), ('tx4939ide_dma_test_irq',), ('tx4939ide_dma_test_irq',)]\n"
     ]
    },
    {
     "data": {
      "text/plain": [
       "[(7480,)]"
      ]
     },
     "execution_count": 40,
     "metadata": {},
     "output_type": "execute_result"
    }
   ],
   "source": [
    "# get test functions (based on name, case insensitive)\n",
    "print(head(cursor.execute(\"SELECT caller FROM cregit_calls WHERE caller LIKE '%test%'\")))\n",
    "# get tested functions\n",
    "head(cursor.execute(\"SELECT COUNT(DISTINCT callee) FROM cregit_calls WHERE caller LIKE '%test%'\"))"
   ]
  },
  {
   "cell_type": "code",
   "execution_count": 41,
   "metadata": {},
   "outputs": [],
   "source": [
    "tested_functions = set(x[0] for x in cursor.execute(\"SELECT callee FROM cregit_calls WHERE caller LIKE '%test%'\"))"
   ]
  },
  {
   "cell_type": "code",
   "execution_count": 42,
   "metadata": {},
   "outputs": [
    {
     "name": "stdout",
     "output_type": "stream",
     "text": [
      "[(529075,)]\n"
     ]
    }
   ],
   "source": [
    "# Total number of functions\n",
    "print(head(cursor.execute(\"SELECT COUNT(*) FROM cregit_functions\")))"
   ]
  },
  {
   "cell_type": "code",
   "execution_count": 43,
   "metadata": {},
   "outputs": [
    {
     "name": "stdout",
     "output_type": "stream",
     "text": [
      "[(0.9484817842460899,)]\n"
     ]
    }
   ],
   "source": [
    "print(head(cursor.execute(\"SELECT COUNT(DISTINCT name)*1.0/COUNT(*) FROM cregit_functions\")))"
   ]
  },
  {
   "cell_type": "code",
   "execution_count": 44,
   "metadata": {},
   "outputs": [
    {
     "data": {
      "text/plain": [
       "[(1933,)]"
      ]
     },
     "execution_count": 44,
     "metadata": {},
     "output_type": "execute_result"
    }
   ],
   "source": [
    "list(cursor.execute(\n",
    "    \"WITH A AS (SELECT name FROM cregit_functions GROUP BY name HAVING COUNT(name)>3) SELECT COUNT(*) FROM A\"))"
   ]
  },
  {
   "cell_type": "code",
   "execution_count": 45,
   "metadata": {},
   "outputs": [
    {
     "data": {
      "text/plain": [
       "[('main', 717),\n",
       " ('usage', 85),\n",
       " ('f', 71),\n",
       " ('name_show', 61),\n",
       " ('uni2char', 52),\n",
       " ('char2uni', 52),\n",
       " ('sd_probe', 49),\n",
       " ('sd_init', 47),\n",
       " ('sd_config', 46),\n",
       " ('vidioc_querycap', 45),\n",
       " ('sd_start', 44),\n",
       " ('modalias_show', 42),\n",
       " ('platform_init', 41),\n",
       " ('sd_pkt_scan', 40),\n",
       " ('temp_show', 39),\n",
       " ('sd_init_controls', 38),\n",
       " ('plat_mem_setup', 38),\n",
       " ('to_state', 37),\n",
       " ('sd_stopN', 36),\n",
       " ('sd_s_ctrl', 36)]"
      ]
     },
     "execution_count": 45,
     "metadata": {},
     "output_type": "execute_result"
    }
   ],
   "source": [
    "list(cursor.execute(\n",
    "    \"SELECT name, COUNT(name) FROM cregit_functions GROUP BY name ORDER BY COUNT(name) DESC LIMIT 20\"))"
   ]
  },
  {
   "cell_type": "code",
   "execution_count": null,
   "metadata": {},
   "outputs": [],
   "source": [
    "connection.commit()"
   ]
  },
  {
   "cell_type": "markdown",
   "metadata": {},
   "source": [
    "# Comparing Ctags and Cregit"
   ]
  },
  {
   "cell_type": "code",
   "execution_count": 82,
   "metadata": {},
   "outputs": [
    {
     "data": {
      "text/plain": [
       "[('ctags', ['file', 'name', 'line', 'token_type', 'text']),\n",
       " ('cregit_functions', ['file', 'name']),\n",
       " ('cregit_calls', ['file', 'caller', 'callee'])]"
      ]
     },
     "execution_count": 82,
     "metadata": {},
     "output_type": "execute_result"
    }
   ],
   "source": [
    "[(table_name, [x[1] for x in cursor.execute(\"PRAGMA table_info([%s])\" % table_name)])\n",
    " for table_name in (\"ctags\", \"cregit_functions\", \"cregit_calls\")]"
   ]
  },
  {
   "cell_type": "code",
   "execution_count": 87,
   "metadata": {},
   "outputs": [
    {
     "data": {
      "text/plain": [
       "[(590237,)]"
      ]
     },
     "execution_count": 87,
     "metadata": {},
     "output_type": "execute_result"
    }
   ],
   "source": [
    "head(cursor.execute(\"SELECT COUNT(*) FROM ctags WHERE token_type='function'\")) # includes variables, macros etc."
   ]
  },
  {
   "cell_type": "code",
   "execution_count": 84,
   "metadata": {},
   "outputs": [
    {
     "data": {
      "text/plain": [
       "[(529075,)]"
      ]
     },
     "execution_count": 84,
     "metadata": {},
     "output_type": "execute_result"
    }
   ],
   "source": [
    "head(cursor.execute(\"SELECT COUNT(*) FROM cregit_functions\"))"
   ]
  },
  {
   "cell_type": "code",
   "execution_count": 85,
   "metadata": {},
   "outputs": [
    {
     "data": {
      "text/plain": [
       "[(572355,)]"
      ]
     },
     "execution_count": 85,
     "metadata": {},
     "output_type": "execute_result"
    }
   ],
   "source": [
    "head(cursor.execute(\"\"\"\n",
    "SELECT COUNT(*) FROM ctags JOIN cregit_functions ON\n",
    "ctags.file = cregit_functions.file\n",
    "AND ctags.name = cregit_functions.name\n",
    "\"\"\"))"
   ]
  },
  {
   "cell_type": "code",
   "execution_count": 86,
   "metadata": {},
   "outputs": [
    {
     "data": {
      "text/plain": [
       "[('arch/arm/mach-omap2/powerdomain.c', 'pwrdm_lock'),\n",
       " ('arch/powerpc/kernel/irq.c', 'decrementer_check_overflow'),\n",
       " ('arch/riscv/kernel/ftrace.c', 'ftrace_arch_code_modify_prepare'),\n",
       " ('arch/s390/kvm/vsie.c', 'do_vsie_run'),\n",
       " ('arch/um/drivers/random.c', 'rng_dev_open'),\n",
       " ('arch/um/drivers/ubd_kern.c', 'queue_rw_req'),\n",
       " ('arch/um/drivers/ubd_kern.c', 'ubd_queue_one_vec'),\n",
       " ('arch/x86/kernel/cpu/mtrr/generic.c', 'post_set'),\n",
       " ('arch/x86/kernel/cpu/mtrr/generic.c', 'prepare_set'),\n",
       " ('arch/x86/kernel/cpu/resctrl/rdtgroup.c', 'move_myself')]"
      ]
     },
     "execution_count": 86,
     "metadata": {},
     "output_type": "execute_result"
    }
   ],
   "source": [
    "head(cursor.execute(\"\"\"\n",
    "SELECT file, name FROM cregit_functions\n",
    "EXCEPT SELECT file, name FROM ctags\"\"\"))"
   ]
  },
  {
   "cell_type": "code",
   "execution_count": 90,
   "metadata": {
    "scrolled": true
   },
   "outputs": [
    {
     "data": {
      "text/plain": [
       "[('drivers/uio/uio_mf624.c', 'mf624_disable_interrupt'),\n",
       " ('drivers/uio/uio_mf624.c', 'mf624_enable_interrupt'),\n",
       " ('drivers/uio/uio_mf624.c', 'mf624_irq_handler'),\n",
       " ('drivers/uio/uio_mf624.c', 'mf624_irqcontrol'),\n",
       " ('drivers/uio/uio_mf624.c', 'mf624_setup_mem'),\n",
       " ('drivers/uio/uio_mf624.c', 'mf624_pci_probe'),\n",
       " ('drivers/uio/uio_mf624.c', 'mf624_pci_remove'),\n",
       " ('drivers/uio/uio_hv_generic.c', 'hv_uio_irqcontrol'),\n",
       " ('drivers/uio/uio_hv_generic.c', 'hv_uio_channel_cb'),\n",
       " ('drivers/uio/uio_hv_generic.c', 'hv_uio_rescind')]"
      ]
     },
     "execution_count": 90,
     "metadata": {},
     "output_type": "execute_result"
    }
   ],
   "source": [
    "head(cursor.execute(\n",
    "    \"SELECT file, name FROM cregit_functions\"))"
   ]
  },
  {
   "cell_type": "code",
   "execution_count": 92,
   "metadata": {},
   "outputs": [
    {
     "data": {
      "text/plain": [
       "[('Documentation/scheduler/sched-pelt.c', 'HALFLIFE'),\n",
       " ('Documentation/scheduler/sched-pelt.c', 'SHIFT'),\n",
       " ('Documentation/scheduler/sched-pelt.c', 'max'),\n",
       " ('Documentation/scheduler/sched-pelt.c', 'n'),\n",
       " ('Documentation/scheduler/sched-pelt.c', 'sum'),\n",
       " ('Documentation/scheduler/sched-pelt.c', 'y'),\n",
       " ('Documentation/usb/usbdevfs-drop-permissions.c',\n",
       "  'USBDEVFS_CAP_DROP_PRIVILEGES'),\n",
       " ('Documentation/usb/usbdevfs-drop-permissions.c', 'USBDEVFS_DROP_PRIVILEGES'),\n",
       " ('arch/alpha/boot/bootp.c', 'KERNEL_ORIGIN'),\n",
       " ('arch/alpha/boot/bootp.c', 'L1')]"
      ]
     },
     "execution_count": 92,
     "metadata": {},
     "output_type": "execute_result"
    }
   ],
   "source": [
    "head(cursor.execute(\n",
    "    \"SELECT file, name FROM ctags EXCEPT SELECT file, name FROM cregit_functions\"))"
   ]
  },
  {
   "cell_type": "code",
   "execution_count": 93,
   "metadata": {},
   "outputs": [
    {
     "data": {
      "text/plain": [
       "[('arch/arm/mach-omap2/powerdomain.c', 'pwrdm_lock'),\n",
       " ('arch/powerpc/kernel/irq.c', 'decrementer_check_overflow'),\n",
       " ('arch/riscv/kernel/ftrace.c', 'ftrace_arch_code_modify_prepare'),\n",
       " ('arch/s390/kvm/vsie.c', 'do_vsie_run'),\n",
       " ('arch/um/drivers/random.c', 'rng_dev_open'),\n",
       " ('arch/um/drivers/ubd_kern.c', 'queue_rw_req'),\n",
       " ('arch/um/drivers/ubd_kern.c', 'ubd_queue_one_vec'),\n",
       " ('arch/x86/kernel/cpu/mtrr/generic.c', 'post_set'),\n",
       " ('arch/x86/kernel/cpu/mtrr/generic.c', 'prepare_set'),\n",
       " ('arch/x86/kernel/cpu/resctrl/rdtgroup.c', 'move_myself')]"
      ]
     },
     "execution_count": 93,
     "metadata": {},
     "output_type": "execute_result"
    }
   ],
   "source": [
    "head(cursor.execute(\n",
    "    \"SELECT file, name FROM cregit_functions EXCEPT SELECT file, name FROM ctags\"))"
   ]
  },
  {
   "cell_type": "markdown",
   "metadata": {},
   "source": [
    "## Cscope"
   ]
  },
  {
   "cell_type": "code",
   "execution_count": 39,
   "metadata": {},
   "outputs": [],
   "source": [
    "def parse_cscope(filename):\n",
    "    expression = r\"(?P<path>^[^ ]+) (?P<funcname>[^ ]+) (?P<linenum>\\d+) (?P<usage_line>.*)\"\n",
    "    return parse(filename, expression)"
   ]
  },
  {
   "cell_type": "code",
   "execution_count": 14,
   "metadata": {},
   "outputs": [],
   "source": [
    "# get all function calls\n",
    "!cscope -RL2 \".*\" > {all_calls}\n",
    "# get all calls from a function with test in the name\n",
    "!cscope -RL2 \".*test.*\" > {test_targets}"
   ]
  },
  {
   "cell_type": "raw",
   "metadata": {},
   "source": [
    "Run cscope from root of kernel\n",
    "Use -2 \".*\" to find all functions called by any other function.\n",
    "Use -2 \".*test.*\" to find all functions called by any function with test in the name.\n",
    "Parse the names of these functions.\n",
    "\n",
    "# !cscope -RL1 \".*\" > {all_symbols}"
   ]
  },
  {
   "cell_type": "code",
   "execution_count": 15,
   "metadata": {},
   "outputs": [],
   "source": [
    "called_functions = set()\n",
    "called_function_names = set()\n",
    "for m in parse_cscope(all_calls):\n",
    "    called_functions.add((m[\"funcname\"], m[\"path\"]))\n",
    "    called_function_names.add(m[\"funcname\"])"
   ]
  },
  {
   "cell_type": "code",
   "execution_count": 16,
   "metadata": {},
   "outputs": [],
   "source": [
    "tested_functions = set()\n",
    "tested_function_names = set()     \n",
    "for m in parse_cscope(test_targets):\n",
    "    tested_functions.add((m[\"funcname\"], m[\"path\"]))\n",
    "    tested_function_names.add(m[\"funcname\"])"
   ]
  },
  {
   "cell_type": "code",
   "execution_count": 17,
   "metadata": {
    "collapsed": true
   },
   "outputs": [
    {
     "data": {
      "text/plain": [
       "(184,\n",
       " {'PCH_PCR_GPIO_ADDRESS',\n",
       "  'PPCSTRUCT',\n",
       "  'QLC_83XX_CURRENT_LINK_SPEED',\n",
       "  'QLC_83XX_LINK_STATE',\n",
       "  'QLC_83xx_FUNC_VAL',\n",
       "  'SSIP_PAYLOAD',\n",
       "  'TestClearPageYoung',\n",
       "  'VM86_ARG',\n",
       "  'VM86_TYPE',\n",
       "  '__comedi_get_user_chanlist',\n",
       "  '__comedi_get_user_cmd',\n",
       "  '__inorder_to_tree',\n",
       "  '__test_and_change_bit',\n",
       "  '__to_inorder',\n",
       "  '_rng_recvmsg',\n",
       "  'advance_polynomial',\n",
       "  'allocate_frame_data',\n",
       "  'an_exception',\n",
       "  'blinkm_test_run',\n",
       "  'bnxt_half_close_nic',\n",
       "  'bnxt_half_open_nic',\n",
       "  'bnxt_hwrm_mac_loopback',\n",
       "  'bnxt_hwrm_phy_loopback',\n",
       "  'bnxt_hwrm_selftest_irq',\n",
       "  'bnxt_run_fw_tests',\n",
       "  'bnxt_run_loopback',\n",
       "  'bnxt_test_irq',\n",
       "  'branch',\n",
       "  'chacha20poly1305_encrypt_bignonce',\n",
       "  'chacha20poly1305_selftest_encrypt',\n",
       "  'check_execveat',\n",
       "  'check_execveat_fail',\n",
       "  'check_execveat_pathmax',\n",
       "  'child_join_close',\n",
       "  'concat',\n",
       "  'config_copy_test_driver_name',\n",
       "  'config_copy_test_fs',\n",
       "  'copy_user_test',\n",
       "  'cpcap_battery_get_state',\n",
       "  'das16m1_ai_check_chanlist',\n",
       "  'deallocate_frame_data',\n",
       "  'debug_pci',\n",
       "  'decode_nlm4_holder',\n",
       "  'decode_nlm4_stat',\n",
       "  'decode_nlm4_testrply',\n",
       "  'decryption_success',\n",
       "  'destroy_bpf_tests',\n",
       "  'dma_resv_test_signaled_single',\n",
       "  'do_cmdtest',\n",
       "  'do_mult_aead_op',\n",
       "  'dp_link_bit_depth_to_bpp',\n",
       "  'dump_cr',\n",
       "  'early_boot_test_call_rcu',\n",
       "  'efi_runtime_get_nexthighmonocount',\n",
       "  'efi_runtime_get_nextvariablename',\n",
       "  'efi_runtime_get_time',\n",
       "  'efi_runtime_get_variable',\n",
       "  'efi_runtime_get_waketime',\n",
       "  'efi_runtime_query_capsulecaps',\n",
       "  'efi_runtime_query_variableinfo',\n",
       "  'efi_runtime_reset_system',\n",
       "  'efi_runtime_set_time',\n",
       "  'efi_runtime_set_variable',\n",
       "  'efi_runtime_set_waketime',\n",
       "  'efx_farch_interrupts',\n",
       "  'enable_syncookie',\n",
       "  'encode_nlm4_holder',\n",
       "  'encode_nlm4_lock',\n",
       "  'encode_nlm4_stat',\n",
       "  'exclude_test',\n",
       "  'f0',\n",
       "  'f7',\n",
       "  'f8',\n",
       "  'find_revoke_record',\n",
       "  'find_test_index',\n",
       "  'ftrace_check_record',\n",
       "  'generate_filter',\n",
       "  'get_kmod_umh_limit',\n",
       "  'get_lock_depth',\n",
       "  'gpio_debugfs_get',\n",
       "  'gpio_pin_test',\n",
       "  'gpiotools_release_linehandle',\n",
       "  'gpiotools_request_linehandle',\n",
       "  'hns3_lb_check_rx_ring',\n",
       "  'hns3_lb_clear_tx_ring',\n",
       "  'hns3_lp_setup_skb',\n",
       "  'hns3_nic_net_xmit',\n",
       "  'igb_check_lbtest_frame',\n",
       "  'igb_clean_test_rings',\n",
       "  'igb_create_lbtest_frame',\n",
       "  'igb_set_phy_loopback',\n",
       "  'init_phase2',\n",
       "  'init_phase3',\n",
       "  'invert_key',\n",
       "  'ioat_dma_self_test',\n",
       "  'ioat_xor_val_self_test',\n",
       "  'is_chain_u16',\n",
       "  'is_unusable_idx',\n",
       "  'is_unusable_idx_u32',\n",
       "  'kasan_rcu_uaf',\n",
       "  'kvm_tdp_mmu_test_age_hva',\n",
       "  'mlx4_en_test_interrupts',\n",
       "  'mlx4_en_test_link',\n",
       "  'mlx4_en_test_loopback',\n",
       "  'mlx4_en_test_loopback_xmit',\n",
       "  'mlx4_en_test_registers',\n",
       "  'mlx4_en_test_speed',\n",
       "  'mlx4_en_xmit',\n",
       "  'mlx4_test_async',\n",
       "  'mlx4_test_interrupt',\n",
       "  'mlxsw_reg_mfgd_trigger_test_set',\n",
       "  'multiblock_erase',\n",
       "  'n2rng_check_selftest_buffer',\n",
       "  'n2rng_dump_test_buffer',\n",
       "  'n2rng_entropy_diag_read',\n",
       "  'n2rng_test_buffer_find',\n",
       "  'nlm_decode_cookie',\n",
       "  'nlm_decode_lock',\n",
       "  'nlm_encode_cookie',\n",
       "  'nlm_encode_testres',\n",
       "  'octeon_i2c_ctl_read',\n",
       "  'omapfb_write_first_pixel',\n",
       "  'on_all_cpus',\n",
       "  'pcnet32_loopback_test',\n",
       "  'pcnet32_netif_stop',\n",
       "  'perf_evlist__new_dummy',\n",
       "  'perf_hooks__get_hook',\n",
       "  'perf_hooks__invoke_test',\n",
       "  'perf_hooks__set_hook',\n",
       "  'pfect_lru_destroy',\n",
       "  'pfect_lru_init',\n",
       "  'pfect_lru_lookup_or_insert',\n",
       "  'prepare_bpf_tests',\n",
       "  'print_geo',\n",
       "  'print_lock_class_header',\n",
       "  'print_size',\n",
       "  'pte_hole',\n",
       "  'qman_test_api',\n",
       "  'qman_test_stash',\n",
       "  'rcu_test_sync_prims',\n",
       "  'read_eraseblock',\n",
       "  'read_eraseblock_by_2pages',\n",
       "  'read_first_pixel',\n",
       "  'regress',\n",
       "  'req_firmware',\n",
       "  'reset_ntp_error',\n",
       "  'rng_reset_addtl',\n",
       "  'sched__get_first_possible_cpu',\n",
       "  'send_first_frame',\n",
       "  'set_death_signal',\n",
       "  'sigtimedwait',\n",
       "  'sun_pci_fd_out_byte',\n",
       "  'sun_pci_fd_sensei',\n",
       "  'test_bpf',\n",
       "  'test_scalars',\n",
       "  'test_send_signal_common',\n",
       "  'test_send_signal_kern__attach',\n",
       "  'test_send_signal_kern__destroy',\n",
       "  'test_send_signal_kern__open_and_load',\n",
       "  'test_send_signal_nmi',\n",
       "  'test_send_signal_perf',\n",
       "  'test_send_signal_tracepoint',\n",
       "  'test_signal_pending_by_type',\n",
       "  'test_skb_segment',\n",
       "  'test_skb_segment_single',\n",
       "  'test_structs',\n",
       "  'test_switch_1_none',\n",
       "  'test_switch_2_none',\n",
       "  'test_sync',\n",
       "  'test_user',\n",
       "  'test_wakealarm',\n",
       "  'test_walk',\n",
       "  'trigger_uevent',\n",
       "  'uevent_listener',\n",
       "  'uv_nmi_test_hubless',\n",
       "  'uv_nmi_test_mmr',\n",
       "  'vfs_get_fsid',\n",
       "  'vhost_test_stop_vq',\n",
       "  'vm86',\n",
       "  'write_eraseblock_by_2pages',\n",
       "  'write_eraseblock_by_page',\n",
       "  'write_sysfs_val',\n",
       "  'zfcp_fc_adisc',\n",
       "  'zfcp_scsi_rport_work'})"
      ]
     },
     "execution_count": 17,
     "metadata": {},
     "output_type": "execute_result"
    }
   ],
   "source": [
    "len(tested_function_names - called_function_names), tested_function_names - called_function_names\n",
    "# before the math.c fix, there were 187 functions in this set"
   ]
  },
  {
   "cell_type": "code",
   "execution_count": 9,
   "metadata": {},
   "outputs": [
    {
     "ename": "NameError",
     "evalue": "name 'func_names' is not defined",
     "output_type": "error",
     "traceback": [
      "\u001b[0;31m---------------------------------------------------------------------------\u001b[0m",
      "\u001b[0;31mNameError\u001b[0m                                 Traceback (most recent call last)",
      "\u001b[0;32m<ipython-input-9-1eb0caf3b0a6>\u001b[0m in \u001b[0;36m<module>\u001b[0;34m\u001b[0m\n\u001b[1;32m      1\u001b[0m \u001b[0;31m# functions detected by cscope (getting called by the tests) but not by ctags\u001b[0m\u001b[0;34m\u001b[0m\u001b[0;34m\u001b[0m\u001b[0;34m\u001b[0m\u001b[0m\n\u001b[0;32m----> 2\u001b[0;31m \u001b[0mlen\u001b[0m\u001b[0;34m(\u001b[0m\u001b[0mtested_function_names\u001b[0m \u001b[0;34m-\u001b[0m \u001b[0mfunc_names\u001b[0m\u001b[0;34m)\u001b[0m\u001b[0;34m,\u001b[0m \u001b[0mlen\u001b[0m\u001b[0;34m(\u001b[0m\u001b[0mtested_functions\u001b[0m \u001b[0;34m-\u001b[0m \u001b[0mfunctions\u001b[0m\u001b[0;34m)\u001b[0m\u001b[0;34m\u001b[0m\u001b[0;34m\u001b[0m\u001b[0m\n\u001b[0m",
      "\u001b[0;31mNameError\u001b[0m: name 'func_names' is not defined"
     ]
    }
   ],
   "source": [
    "# functions detected by cscope (getting called by the tests) but not by ctags\n",
    "len(tested_function_names - func_names), len(tested_functions - functions)"
   ]
  },
  {
   "cell_type": "code",
   "execution_count": null,
   "metadata": {},
   "outputs": [],
   "source": [
    "target = KERNEL\n",
    "\n",
    "!(cd {target}; cscope -RL0 \".*\")"
   ]
  },
  {
   "cell_type": "code",
   "execution_count": null,
   "metadata": {},
   "outputs": [],
   "source": []
  },
  {
   "cell_type": "code",
   "execution_count": 12,
   "metadata": {
    "collapsed": true
   },
   "outputs": [
    {
     "name": "stdout",
     "output_type": "stream",
     "text": [
      ".ipynb_checkpoints\n",
      "drivers\n",
      "sound\n",
      "samples\n",
      "virt\n",
      "LICENSES\n",
      "arch\n",
      "certs\n",
      "lib\n",
      "mm\n",
      "block\n",
      "scripts\n",
      "net\n",
      "include\n",
      "security\n",
      "kernel\n",
      "tools\n",
      "crypto\n",
      "usr\n",
      "Documentation\n",
      "fs\n",
      "init\n",
      "ipc\n"
     ]
    }
   ],
   "source": [
    "# the results of this cell seem to indicate that a single directory (arch/sh/math-emu) is tripping up cscope.\n",
    "# removeing that file lets cscope run unimpeded,\n",
    "def test_cscope(path):\n",
    "    if not path.is_dir():\n",
    "        print(\"fail on file:\",path)\n",
    "        return\n",
    "    for p in path.iterdir():\n",
    "        if p.is_dir():\n",
    "            print(p)\n",
    "            result = run('cscope -RL0 \".*\"',cwd=p, capture_output=True, shell=True)\n",
    "            # return code is a better way to identify if errors\n",
    "            # could just list all dirs/files in kernel, and echo stderr to each\n",
    "            # find -d (gives list of directories)\n",
    "            if result.stderr not in {b'', b'cscope: no source files found\\n'}:\n",
    "                print(p, repr(result.stderr))\n",
    "                test_cscope(p)\n",
    "\n",
    "test_cscope(KERNEL)"
   ]
  },
  {
   "cell_type": "code",
   "execution_count": null,
   "metadata": {},
   "outputs": [],
   "source": [
    "result = run('cscope -RL0 \".*\"', capture_output=True, shell=True)\n",
    "result"
   ]
  },
  {
   "cell_type": "raw",
   "metadata": {},
   "source": [
    "Check standard for function declarations, semicolon at the end indicates.\n",
    "\n",
    "Look for function names in the bodies of other functions.\n",
    "Track duplicated identifiers, ignore them for now."
   ]
  }
 ],
 "metadata": {
  "kernelspec": {
   "display_name": "Python 3",
   "language": "python",
   "name": "python3"
  },
  "language_info": {
   "codemirror_mode": {
    "name": "ipython",
    "version": 3
   },
   "file_extension": ".py",
   "mimetype": "text/x-python",
   "name": "python",
   "nbconvert_exporter": "python",
   "pygments_lexer": "ipython3",
   "version": "3.8.5"
  }
 },
 "nbformat": 4,
 "nbformat_minor": 4
}
