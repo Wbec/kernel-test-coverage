{
 "cells": [
  {
   "cell_type": "markdown",
   "metadata": {},
   "source": [
    "Analysis pinned to Kernel version 5.10"
   ]
  },
  {
   "cell_type": "code",
   "execution_count": null,
   "metadata": {},
   "outputs": [],
   "source": [
    "import re\n",
    "import itertools\n",
    "from itertools import islice\n",
    "from subprocess import run\n",
    "\n",
    "from pathlib import Path\n",
    "import sqlite3\n",
    "\n",
    "KERNEL = Path(\".\")\n",
    "OUTDIR = Path(\"../function_survey/output/\")\n",
    "all_calls = OUTDIR/\"cscope_all_calls.txt\"\n",
    "kernel_tags = OUTDIR/\"kernel_tags\"\n",
    "test_targets = OUTDIR/\"cscope_test_targets\"\n",
    "all_c_code = OUTDIR/\"all_c_code.txt\"\n",
    "blame_files = Path(\"../blame\")\n",
    "\n",
    "\n",
    "connection = sqlite3.connect(OUTDIR/\"function_survey.db\")\n",
    "cursor = connection.cursor()\n",
    "\n",
    "def head(iterable, n=10):\n",
    "    return list(islice(iterable, n))"
   ]
  },
  {
   "cell_type": "markdown",
   "metadata": {},
   "source": [
    "# Comparing Ctags and Cregit"
   ]
  },
  {
   "cell_type": "code",
   "execution_count": null,
   "metadata": {},
   "outputs": [],
   "source": [
    "[(table_name, [x[1] for x in cursor.execute(\"PRAGMA table_info([%s])\" % table_name)])\n",
    " for table_name in (\"ctags\", \"cregit_functions\", \"cregit_calls\")]"
   ]
  },
  {
   "cell_type": "code",
   "execution_count": null,
   "metadata": {},
   "outputs": [],
   "source": [
    "head(cursor.execute(\"SELECT COUNT(*) FROM ctags WHERE token_type='function'\")) # includes variables, macros etc."
   ]
  },
  {
   "cell_type": "code",
   "execution_count": null,
   "metadata": {},
   "outputs": [],
   "source": [
    "head(cursor.execute(\"SELECT COUNT(*) FROM cregit_functions\"))"
   ]
  },
  {
   "cell_type": "code",
   "execution_count": null,
   "metadata": {},
   "outputs": [],
   "source": [
    "head(cursor.execute(\"\"\"\n",
    "SELECT COUNT(*) FROM ctags JOIN cregit_functions ON\n",
    "ctags.file = cregit_functions.file\n",
    "AND ctags.name = cregit_functions.name\n",
    "\"\"\"))"
   ]
  },
  {
   "cell_type": "code",
   "execution_count": null,
   "metadata": {},
   "outputs": [],
   "source": [
    "head(cursor.execute(\"\"\"\n",
    "SELECT file, name FROM cregit_functions\n",
    "EXCEPT SELECT file, name FROM ctags\"\"\"))"
   ]
  },
  {
   "cell_type": "code",
   "execution_count": null,
   "metadata": {
    "scrolled": true
   },
   "outputs": [],
   "source": [
    "head(cursor.execute(\n",
    "    \"SELECT file, name FROM cregit_functions\"))"
   ]
  },
  {
   "cell_type": "code",
   "execution_count": null,
   "metadata": {},
   "outputs": [],
   "source": [
    "head(cursor.execute(\n",
    "    \"SELECT file, name FROM ctags EXCEPT SELECT file, name FROM cregit_functions\"))"
   ]
  },
  {
   "cell_type": "code",
   "execution_count": null,
   "metadata": {},
   "outputs": [],
   "source": [
    "head(cursor.execute(\n",
    "    \"SELECT file, name FROM cregit_functions EXCEPT SELECT file, name FROM ctags\"))"
   ]
  },
  {
   "cell_type": "markdown",
   "metadata": {},
   "source": [
    "## Cscope"
   ]
  },
  {
   "cell_type": "code",
   "execution_count": null,
   "metadata": {},
   "outputs": [],
   "source": [
    "def parse_cscope(filename):\n",
    "    expression = r\"(?P<path>^[^ ]+) (?P<funcname>[^ ]+) (?P<linenum>\\d+) (?P<usage_line>.*)\"\n",
    "    return parse(filename, expression)"
   ]
  },
  {
   "cell_type": "code",
   "execution_count": null,
   "metadata": {},
   "outputs": [],
   "source": [
    "# get all function calls\n",
    "!cscope -RL2 \".*\" > {all_calls}\n",
    "# get all calls from a function with test in the name\n",
    "!cscope -RL2 \".*test.*\" > {test_targets}"
   ]
  },
  {
   "cell_type": "raw",
   "metadata": {},
   "source": [
    "Run cscope from root of kernel\n",
    "Use -2 \".*\" to find all functions called by any other function.\n",
    "Use -2 \".*test.*\" to find all functions called by any function with test in the name.\n",
    "Parse the names of these functions.\n",
    "\n",
    "# !cscope -RL1 \".*\" > {all_symbols}"
   ]
  },
  {
   "cell_type": "code",
   "execution_count": null,
   "metadata": {},
   "outputs": [],
   "source": [
    "called_functions = set()\n",
    "called_function_names = set()\n",
    "for m in parse_cscope(all_calls):\n",
    "    called_functions.add((m[\"funcname\"], m[\"path\"]))\n",
    "    called_function_names.add(m[\"funcname\"])"
   ]
  },
  {
   "cell_type": "code",
   "execution_count": null,
   "metadata": {},
   "outputs": [],
   "source": [
    "tested_functions = set()\n",
    "tested_function_names = set()     \n",
    "for m in parse_cscope(test_targets):\n",
    "    tested_functions.add((m[\"funcname\"], m[\"path\"]))\n",
    "    tested_function_names.add(m[\"funcname\"])"
   ]
  },
  {
   "cell_type": "code",
   "execution_count": null,
   "metadata": {},
   "outputs": [],
   "source": [
    "len(tested_function_names - called_function_names), tested_function_names - called_function_names\n",
    "# before the math.c fix, there were 187 functions in this set"
   ]
  },
  {
   "cell_type": "code",
   "execution_count": null,
   "metadata": {},
   "outputs": [],
   "source": [
    "# functions detected by cscope (getting called by the tests) but not by ctags\n",
    "len(tested_function_names - func_names), len(tested_functions - functions)"
   ]
  },
  {
   "cell_type": "code",
   "execution_count": null,
   "metadata": {},
   "outputs": [],
   "source": [
    "target = KERNEL\n",
    "\n",
    "!(cd {target}; cscope -RL0 \".*\")"
   ]
  },
  {
   "cell_type": "code",
   "execution_count": null,
   "metadata": {},
   "outputs": [],
   "source": []
  },
  {
   "cell_type": "code",
   "execution_count": null,
   "metadata": {},
   "outputs": [],
   "source": [
    "# the results of this cell seem to indicate that a single directory (arch/sh/math-emu) is tripping up cscope.\n",
    "# removeing that file lets cscope run unimpeded,\n",
    "def test_cscope(path):\n",
    "    if not path.is_dir():\n",
    "        print(\"fail on file:\",path)\n",
    "        return\n",
    "    for p in path.iterdir():\n",
    "        if p.is_dir():\n",
    "            print(p)\n",
    "            result = run('cscope -RL0 \".*\"',cwd=p, capture_output=True, shell=True)\n",
    "            # return code is a better way to identify if errors\n",
    "            # could just list all dirs/files in kernel, and echo stderr to each\n",
    "            # find -d (gives list of directories)\n",
    "            if result.stderr not in {b'', b'cscope: no source files found\\n'}:\n",
    "                print(p, repr(result.stderr))\n",
    "                test_cscope(p)\n",
    "\n",
    "test_cscope(KERNEL)"
   ]
  },
  {
   "cell_type": "code",
   "execution_count": null,
   "metadata": {},
   "outputs": [],
   "source": [
    "result = run('cscope -RL0 \".*\"', capture_output=True, shell=True)\n",
    "result"
   ]
  },
  {
   "cell_type": "raw",
   "metadata": {},
   "source": [
    "Check standard for function declarations, semicolon at the end indicates.\n",
    "\n",
    "Look for function names in the bodies of other functions.\n",
    "Track duplicated identifiers, ignore them for now."
   ]
  }
 ],
 "metadata": {
  "kernelspec": {
   "display_name": "Python 3",
   "language": "python",
   "name": "python3"
  },
  "language_info": {
   "codemirror_mode": {
    "name": "ipython",
    "version": 3
   },
   "file_extension": ".py",
   "mimetype": "text/x-python",
   "name": "python",
   "nbconvert_exporter": "python",
   "pygments_lexer": "ipython3",
   "version": "3.8.5"
  }
 },
 "nbformat": 4,
 "nbformat_minor": 4
}
