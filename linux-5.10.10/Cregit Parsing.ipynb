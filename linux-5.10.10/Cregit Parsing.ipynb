{
 "cells": [
  {
   "cell_type": "markdown",
   "metadata": {},
   "source": [
    "Analysis pinned to Kernel version 5.10"
   ]
  },
  {
   "cell_type": "code",
   "execution_count": 7,
   "metadata": {},
   "outputs": [],
   "source": [
    "#todo: make the regexes more strict."
   ]
  },
  {
   "cell_type": "code",
   "execution_count": 8,
   "metadata": {},
   "outputs": [],
   "source": [
    "import re\n",
    "import itertools\n",
    "from itertools import islice\n",
    "from subprocess import run\n",
    "\n",
    "from pathlib import Path\n",
    "import sqlite3\n",
    "\n",
    "KERNEL = Path(\".\")\n",
    "OUTDIR = Path(\"../function_survey/output/\")\n",
    "all_calls = OUTDIR/\"cscope_all_calls.txt\"\n",
    "kernel_tags = OUTDIR/\"kernel_tags\"\n",
    "test_targets = OUTDIR/\"cscope_test_targets\"\n",
    "all_c_code = OUTDIR/\"all_c_code.txt\"\n",
    "blame_files = Path(\"../blame\")\n",
    "\n",
    "\n",
    "connection = sqlite3.connect(OUTDIR/\"function_survey.db\")\n",
    "cursor = connection.cursor()"
   ]
  },
  {
   "cell_type": "code",
   "execution_count": 9,
   "metadata": {},
   "outputs": [],
   "source": [
    "def parse(filename, expression):\n",
    "    with open(filename) as f:\n",
    "        return [re.match(expression, line) for line in f]\n",
    "    \n",
    "def head(iterable, n=10):\n",
    "    return list(islice(iterable, n))"
   ]
  },
  {
   "cell_type": "markdown",
   "metadata": {},
   "source": [
    "## Blame-Parser"
   ]
  },
  {
   "cell_type": "code",
   "execution_count": null,
   "metadata": {},
   "outputs": [],
   "source": [
    "def strict_match(pattern, line, flags=0):\n",
    "    m = re.match(pattern, line, flags=0)\n",
    "    if m:\n",
    "        return m\n",
    "    raise(ValueError, f\"{pattern} did not match {line}\")\n",
    "\n",
    "def blame_contents(match):\n",
    "    return match[\"contents\"].split(\"|\")\n",
    "\n",
    "def parse_blame_file(filename):\n",
    "    expression = (r\"^(?P<hash>\\w{40});\"\n",
    "                  r\"(?P<previous_file_name>[^\\s;]*);\"\n",
    "                  r\"\\t(?P<contents>.*)$\"\n",
    "                 )\n",
    "    with open(filename) as f:\n",
    "        yield from (blame_contents(strict_match(expression, line)) for line in f)"
   ]
  },
  {
   "cell_type": "code",
   "execution_count": null,
   "metadata": {},
   "outputs": [],
   "source": [
    "def parse_file(filename):\n",
    "    functions = {}\n",
    "    state = \"Not in function\" # switch to enum\n",
    "    for i,contents in enumerate(\n",
    "        parse_blame_file(filename)\n",
    "    ):\n",
    "        if state == \"Not in function\":\n",
    "            if contents[0] == \"begin_function\":\n",
    "                contained_names = []\n",
    "                called_functions = []\n",
    "                function_name = None\n",
    "                state = \"Function declaration\"\n",
    "            # else: ignore current line\n",
    "        elif state == \"Function declaration\":\n",
    "            if (contents[0] == \"DECL\"\n",
    "                and contents[1] == \"function\"\n",
    "               ):\n",
    "                function_name = contents[2].split()[0]\n",
    "                state = \"Function declaration breakdown\"\n",
    "            # else: some functions have specifiers/names on the line(s) before the declaration\n",
    "            # for example find_pa in arch/alpha/boot/bootp.c, line 41\n",
    "        elif state == \"Function declaration breakdown\":\n",
    "            if contents[0] == \"block\":\n",
    "                state = \"Function Body\"\n",
    "            # else: ignore specifiers/arguments\n",
    "        elif state == \"Function Body\":\n",
    "            if contents[0] == \"end_function\":\n",
    "                functions[function_name] = called_functions#, contained_names\n",
    "                state = \"Not in function\"\n",
    "            elif contents[0] == \"name\":\n",
    "                contained_names.append(contents[1])\n",
    "                current_name = contents[1]\n",
    "                state = \"Identifying Name\"\n",
    "            # else: ignore anything that is not a call/end of function\n",
    "        elif state == \"Identifying Name\":\n",
    "            # this state is the most likely to be incorrect.\n",
    "            # TODO: figure out what can be after a name token\n",
    "            if contents[0] == \"argument_list\" and contents[1] == \"(\": #this will probably break on no arg functions\n",
    "                # assume that the name is a function\n",
    "                called_functions.append(current_name)\n",
    "                current_name = None\n",
    "                state = \"Function Body\"\n",
    "            elif contents[0] == \"name\":\n",
    "                contained_names.append(contents[1])\n",
    "                current_name = contents[1]\n",
    "                state = \"Identifying Name\"\n",
    "            else:\n",
    "                # assume name is not a function\n",
    "                current_name = None\n",
    "                state = \"Function Body\"\n",
    "        else:\n",
    "            assert False, f\"invalid state {state}\"\n",
    "        \n",
    "    return functions\n",
    "\n",
    "def parse_kernel():\n",
    "    kernel_files = {}\n",
    "    for filename in blame_files.rglob(\"*.c.blame\"):\n",
    "        kernel_files[filename] = parse_file(filename)\n",
    "    return kernel_files"
   ]
  },
  {
   "cell_type": "code",
   "execution_count": null,
   "metadata": {},
   "outputs": [],
   "source": [
    "# How does cregit handle ifdefs in functions?"
   ]
  },
  {
   "cell_type": "code",
   "execution_count": null,
   "metadata": {},
   "outputs": [],
   "source": [
    "# file (path), item_type (function/include/ifdef/etc), name\n",
    "\n",
    "# Call table\n",
    "# caller_id, callee_name\n",
    "\n",
    "# Functions table\n",
    "# function_id, function_name\n",
    "\n",
    "# file contents\n",
    "# file, item_type, item_id\n",
    "\n",
    "\n",
    "def parse_whole(filename):\n",
    "    lines = parse_blame_file(filename)\n",
    "        \n",
    "    for start, *rest in lines:\n",
    "        if (start in (\"begin_unit\", \"end_unit\", \"\")):\n",
    "            pass\n",
    "        elif start.startswith(\"begin_\"):\n",
    "            item = start[len(\"begin_\"):]\n",
    "            if item == \"function\":\n",
    "                yield (\"function\", *parse_function(lines_in_item(lines, item)))\n",
    "            elif item == \"include\":\n",
    "                yield (\"include\", *parse_include(lines_in_item(lines, item)))\n",
    "            else:\n",
    "                yield skip(lines, item)\n",
    "\n",
    "def parse_function(lines):\n",
    "    lines = iter(lines)\n",
    "    function_name, specifiers = parse_function_decl(lines)\n",
    "    callees = parse_function_body(lines)\n",
    "    return (function_name, specifiers, callees)\n",
    "\n",
    "def parse_function_decl(lines):\n",
    "    specifiers = []\n",
    "    function_name = None\n",
    "    for start, *rest in lines:\n",
    "        if start == \"specifier\":\n",
    "            assert len(rest) == 1\n",
    "            specifiers += rest\n",
    "            # are there other specifiers than static\n",
    "        elif start == \"DECL\":\n",
    "            assert rest[0] == \"function\", (start, rest)\n",
    "            function_name = rest[1].split()[0]\n",
    "        elif start == \"name\":\n",
    "            pass # we may be able to weed out the function name, and get the types if that is usefull\n",
    "        elif start == \"parameter_list\" and rest == [\")\"]:\n",
    "            break  # this marks the end of the function header\n",
    "        else:\n",
    "            pass # TODO: check what other declaration parts end up here\n",
    "    assert function_name is not None\n",
    "    return function_name, specifiers\n",
    "\n",
    "def parse_function_body(lines):\n",
    "    names = []\n",
    "    callees = []\n",
    "    \n",
    "    contents = next(lines)\n",
    "    # check if this holds for empty blocks\n",
    "    assert (contents == [\"block\", \"{\"]), \"function body must start with block\"\n",
    "    \n",
    "    prev_name = None\n",
    "    for start, *rest in lines:\n",
    "        if start == \"name\":\n",
    "            assert len(rest) == 1\n",
    "            names += rest\n",
    "            prev_name = rest[0]\n",
    "        elif start == \"argument_list\":\n",
    "            if rest in [[\"(\"], [\"()\"]]:\n",
    "                callees.append(prev_name)\n",
    "            prev_name = None\n",
    "        else:\n",
    "            prev_name = None # assume that argument lists always follow function names directly\n",
    "    return callees\n",
    "            \n",
    "def parse_include(lines):\n",
    "    assert len(lines) == 3, lines\n",
    "    lines = iter(lines)\n",
    "    assert next(lines) == [\"include\", \"#\"]\n",
    "    assert next(lines) == [\"directive\", \"include\"]\n",
    "    start, *rest = next(lines)\n",
    "    assert start == \"file\" and len(rest) == 1\n",
    "    return rest\n",
    "    \n",
    "def skip(lines, item):\n",
    "    \"\"\"Skips to the end of a begin/end pair\"\"\"\n",
    "    lines_in_item(lines, item)\n",
    "    return (item, \"skipped\")\n",
    "        \n",
    "def lines_in_item(lines, item):\n",
    "    \"\"\"Returns a list of all lines between the begin_? and end_? markers\"\"\"\n",
    "    result = []\n",
    "    \n",
    "    start, *rest = contents = next(lines)\n",
    "    while start != f\"end_{item}\":\n",
    "        assert not start.startswith(\"end_\"), \"end of different item found\"\n",
    "        assert not start.startswith(\"begin_\"), \"start of different item found\"\n",
    "        result.append(contents)\n",
    "        start, *rest = contents = next(lines)\n",
    "    return result\n",
    "            \n",
    "\n",
    "def parse_kernel_2():\n",
    "    for filename in blame_files.rglob(\"*.c.blame\"):\n",
    "        yield filename, parse_file(filename)"
   ]
  },
  {
   "cell_type": "code",
   "execution_count": null,
   "metadata": {},
   "outputs": [],
   "source": [
    "list(parse_whole(\n",
    "    blame_files/\"arch/alpha/kernel/bugs.c.blame\")\n",
    ")"
   ]
  },
  {
   "cell_type": "code",
   "execution_count": null,
   "metadata": {
    "scrolled": true
   },
   "outputs": [],
   "source": [
    "kernel_files_2 = dict(parse_kernel_2())\n",
    "dict(islice(kernel_files.items(), 10))"
   ]
  },
  {
   "cell_type": "code",
   "execution_count": null,
   "metadata": {},
   "outputs": [],
   "source": [
    "len(kernel_files_2)"
   ]
  },
  {
   "cell_type": "code",
   "execution_count": null,
   "metadata": {},
   "outputs": [],
   "source": [
    "len([func for file in kernel_files_2.values() for func in file]) #529075 same number of functions found"
   ]
  },
  {
   "cell_type": "code",
   "execution_count": null,
   "metadata": {},
   "outputs": [],
   "source": [
    "def reset_cregit_db():\n",
    "    # all functions\n",
    "    cursor.execute(\"CREATE TABLE IF NOT EXISTS cregit_functions (file, name)\")\n",
    "    # all calls from one function to annother\n",
    "    cursor.execute(\"CREATE TABLE IF NOT EXISTS cregit_calls (file, caller, callee)\")\n",
    "    # clear tables\n",
    "    cursor.execute(\"DELETE FROM cregit_functions\")\n",
    "    cursor.execute(\"DELETE FROM cregit_calls\")"
   ]
  },
  {
   "cell_type": "code",
   "execution_count": null,
   "metadata": {},
   "outputs": [],
   "source": [
    "kernel_files = parse_kernel()\n",
    "reset_cregit_db()\n",
    "# trim ../blame/ and .blame from ends of path so that paths can be compared between methods\n",
    "cursor.executemany(\"INSERT INTO cregit_calls VALUES (?,?,?)\", (\n",
    "    (str(file)[len(\"../blame/\"):-len(\".blame\")], caller, callee)\n",
    "    for file, functions in kernel_files.items()\n",
    "    for caller, callees in functions.items()\n",
    "    for callee in set(callees))\n",
    ")\n",
    "cursor.executemany(\"INSERT INTO cregit_functions VALUES (?,?)\", (\n",
    "    (str(file)[len(\"../blame/\"):-len(\".blame\")], function_name)\n",
    "    for file, file_functions in kernel_files.items()\n",
    "    for function_name in file_functions\n",
    "))"
   ]
  },
  {
   "cell_type": "code",
   "execution_count": null,
   "metadata": {},
   "outputs": [],
   "source": [
    "# get test functions (based on name, case insensitive)\n",
    "print(head(cursor.execute(\"SELECT caller FROM cregit_calls WHERE caller LIKE '%test%'\")))\n",
    "# get tested functions\n",
    "head(cursor.execute(\"SELECT COUNT(DISTINCT callee) FROM cregit_calls WHERE caller LIKE '%test%'\"))"
   ]
  },
  {
   "cell_type": "code",
   "execution_count": null,
   "metadata": {},
   "outputs": [],
   "source": [
    "tested_functions = set(x[0] for x in cursor.execute(\"SELECT callee FROM cregit_calls WHERE caller LIKE '%test%'\"))"
   ]
  },
  {
   "cell_type": "code",
   "execution_count": null,
   "metadata": {},
   "outputs": [],
   "source": [
    "# Total number of functions\n",
    "print(head(cursor.execute(\"SELECT COUNT(*) FROM cregit_functions\")))"
   ]
  },
  {
   "cell_type": "code",
   "execution_count": null,
   "metadata": {},
   "outputs": [],
   "source": [
    "print(head(cursor.execute(\"SELECT COUNT(DISTINCT name)*1.0/COUNT(*) FROM cregit_functions\")))"
   ]
  },
  {
   "cell_type": "code",
   "execution_count": null,
   "metadata": {},
   "outputs": [],
   "source": [
    "list(cursor.execute(\n",
    "    \"WITH A AS (SELECT name FROM cregit_functions GROUP BY name HAVING COUNT(name)>3) SELECT COUNT(*) FROM A\"))"
   ]
  },
  {
   "cell_type": "code",
   "execution_count": null,
   "metadata": {},
   "outputs": [],
   "source": [
    "list(cursor.execute(\n",
    "    \"SELECT name, COUNT(name) FROM cregit_functions GROUP BY name ORDER BY COUNT(name) DESC LIMIT 20\"))"
   ]
  },
  {
   "cell_type": "code",
   "execution_count": null,
   "metadata": {},
   "outputs": [],
   "source": [
    "connection.commit()"
   ]
  },
  {
   "cell_type": "markdown",
   "metadata": {},
   "source": [
    "# Comparing Ctags and Cregit"
   ]
  },
  {
   "cell_type": "code",
   "execution_count": null,
   "metadata": {},
   "outputs": [],
   "source": [
    "[(table_name, [x[1] for x in cursor.execute(\"PRAGMA table_info([%s])\" % table_name)])\n",
    " for table_name in (\"ctags\", \"cregit_functions\", \"cregit_calls\")]"
   ]
  },
  {
   "cell_type": "code",
   "execution_count": null,
   "metadata": {},
   "outputs": [],
   "source": [
    "head(cursor.execute(\"SELECT COUNT(*) FROM ctags WHERE token_type='function'\")) # includes variables, macros etc."
   ]
  },
  {
   "cell_type": "code",
   "execution_count": null,
   "metadata": {},
   "outputs": [],
   "source": [
    "head(cursor.execute(\"SELECT COUNT(*) FROM cregit_functions\"))"
   ]
  },
  {
   "cell_type": "code",
   "execution_count": null,
   "metadata": {},
   "outputs": [],
   "source": [
    "head(cursor.execute(\"\"\"\n",
    "SELECT COUNT(*) FROM ctags JOIN cregit_functions ON\n",
    "ctags.file = cregit_functions.file\n",
    "AND ctags.name = cregit_functions.name\n",
    "\"\"\"))"
   ]
  },
  {
   "cell_type": "code",
   "execution_count": null,
   "metadata": {},
   "outputs": [],
   "source": [
    "head(cursor.execute(\"\"\"\n",
    "SELECT file, name FROM cregit_functions\n",
    "EXCEPT SELECT file, name FROM ctags\"\"\"))"
   ]
  },
  {
   "cell_type": "code",
   "execution_count": null,
   "metadata": {
    "scrolled": true
   },
   "outputs": [],
   "source": [
    "head(cursor.execute(\n",
    "    \"SELECT file, name FROM cregit_functions\"))"
   ]
  },
  {
   "cell_type": "code",
   "execution_count": null,
   "metadata": {},
   "outputs": [],
   "source": [
    "head(cursor.execute(\n",
    "    \"SELECT file, name FROM ctags EXCEPT SELECT file, name FROM cregit_functions\"))"
   ]
  },
  {
   "cell_type": "code",
   "execution_count": null,
   "metadata": {},
   "outputs": [],
   "source": [
    "head(cursor.execute(\n",
    "    \"SELECT file, name FROM cregit_functions EXCEPT SELECT file, name FROM ctags\"))"
   ]
  },
  {
   "cell_type": "markdown",
   "metadata": {},
   "source": [
    "## Cscope"
   ]
  },
  {
   "cell_type": "code",
   "execution_count": null,
   "metadata": {},
   "outputs": [],
   "source": [
    "def parse_cscope(filename):\n",
    "    expression = r\"(?P<path>^[^ ]+) (?P<funcname>[^ ]+) (?P<linenum>\\d+) (?P<usage_line>.*)\"\n",
    "    return parse(filename, expression)"
   ]
  },
  {
   "cell_type": "code",
   "execution_count": null,
   "metadata": {},
   "outputs": [],
   "source": [
    "# get all function calls\n",
    "!cscope -RL2 \".*\" > {all_calls}\n",
    "# get all calls from a function with test in the name\n",
    "!cscope -RL2 \".*test.*\" > {test_targets}"
   ]
  },
  {
   "cell_type": "raw",
   "metadata": {},
   "source": [
    "Run cscope from root of kernel\n",
    "Use -2 \".*\" to find all functions called by any other function.\n",
    "Use -2 \".*test.*\" to find all functions called by any function with test in the name.\n",
    "Parse the names of these functions.\n",
    "\n",
    "# !cscope -RL1 \".*\" > {all_symbols}"
   ]
  },
  {
   "cell_type": "code",
   "execution_count": null,
   "metadata": {},
   "outputs": [],
   "source": [
    "called_functions = set()\n",
    "called_function_names = set()\n",
    "for m in parse_cscope(all_calls):\n",
    "    called_functions.add((m[\"funcname\"], m[\"path\"]))\n",
    "    called_function_names.add(m[\"funcname\"])"
   ]
  },
  {
   "cell_type": "code",
   "execution_count": null,
   "metadata": {},
   "outputs": [],
   "source": [
    "tested_functions = set()\n",
    "tested_function_names = set()     \n",
    "for m in parse_cscope(test_targets):\n",
    "    tested_functions.add((m[\"funcname\"], m[\"path\"]))\n",
    "    tested_function_names.add(m[\"funcname\"])"
   ]
  },
  {
   "cell_type": "code",
   "execution_count": null,
   "metadata": {},
   "outputs": [],
   "source": [
    "len(tested_function_names - called_function_names), tested_function_names - called_function_names\n",
    "# before the math.c fix, there were 187 functions in this set"
   ]
  },
  {
   "cell_type": "code",
   "execution_count": null,
   "metadata": {},
   "outputs": [],
   "source": [
    "# functions detected by cscope (getting called by the tests) but not by ctags\n",
    "len(tested_function_names - func_names), len(tested_functions - functions)"
   ]
  },
  {
   "cell_type": "code",
   "execution_count": null,
   "metadata": {},
   "outputs": [],
   "source": [
    "target = KERNEL\n",
    "\n",
    "!(cd {target}; cscope -RL0 \".*\")"
   ]
  },
  {
   "cell_type": "code",
   "execution_count": null,
   "metadata": {},
   "outputs": [],
   "source": []
  },
  {
   "cell_type": "code",
   "execution_count": null,
   "metadata": {},
   "outputs": [],
   "source": [
    "# the results of this cell seem to indicate that a single directory (arch/sh/math-emu) is tripping up cscope.\n",
    "# removeing that file lets cscope run unimpeded,\n",
    "def test_cscope(path):\n",
    "    if not path.is_dir():\n",
    "        print(\"fail on file:\",path)\n",
    "        return\n",
    "    for p in path.iterdir():\n",
    "        if p.is_dir():\n",
    "            print(p)\n",
    "            result = run('cscope -RL0 \".*\"',cwd=p, capture_output=True, shell=True)\n",
    "            # return code is a better way to identify if errors\n",
    "            # could just list all dirs/files in kernel, and echo stderr to each\n",
    "            # find -d (gives list of directories)\n",
    "            if result.stderr not in {b'', b'cscope: no source files found\\n'}:\n",
    "                print(p, repr(result.stderr))\n",
    "                test_cscope(p)\n",
    "\n",
    "test_cscope(KERNEL)"
   ]
  },
  {
   "cell_type": "code",
   "execution_count": null,
   "metadata": {},
   "outputs": [],
   "source": [
    "result = run('cscope -RL0 \".*\"', capture_output=True, shell=True)\n",
    "result"
   ]
  },
  {
   "cell_type": "raw",
   "metadata": {},
   "source": [
    "Check standard for function declarations, semicolon at the end indicates.\n",
    "\n",
    "Look for function names in the bodies of other functions.\n",
    "Track duplicated identifiers, ignore them for now."
   ]
  }
 ],
 "metadata": {
  "kernelspec": {
   "display_name": "Python 3",
   "language": "python",
   "name": "python3"
  },
  "language_info": {
   "codemirror_mode": {
    "name": "ipython",
    "version": 3
   },
   "file_extension": ".py",
   "mimetype": "text/x-python",
   "name": "python",
   "nbconvert_exporter": "python",
   "pygments_lexer": "ipython3",
   "version": "3.8.5"
  }
 },
 "nbformat": 4,
 "nbformat_minor": 4
}
