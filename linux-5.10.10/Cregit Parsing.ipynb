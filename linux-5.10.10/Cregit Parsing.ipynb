{
 "cells": [
  {
   "cell_type": "markdown",
   "metadata": {},
   "source": [
    "Analysis pinned to Kernel version 5.10"
   ]
  },
  {
   "cell_type": "code",
   "execution_count": 1,
   "metadata": {},
   "outputs": [],
   "source": [
    "#todo: make the regexes more strict."
   ]
  },
  {
   "cell_type": "code",
   "execution_count": 2,
   "metadata": {},
   "outputs": [],
   "source": [
    "import re\n",
    "import itertools\n",
    "from itertools import islice\n",
    "from subprocess import run\n",
    "import csv\n",
    "\n",
    "from pathlib import Path\n",
    "import sqlite3\n",
    "\n",
    "KERNEL = Path(\".\")\n",
    "OUTDIR = Path(\"../function_survey/output/\")\n",
    "all_calls = OUTDIR/\"cscope_all_calls.txt\"\n",
    "kernel_tags = OUTDIR/\"kernel_tags\"\n",
    "test_targets = OUTDIR/\"cscope_test_targets\"\n",
    "all_c_code = OUTDIR/\"all_c_code.txt\"\n",
    "blame_files = Path(\"../blame\")\n",
    "blame_parsed = Path(OUTDIR/\"blame_parsed\")\n",
    "\n",
    "\n",
    "connection = sqlite3.connect(OUTDIR/\"function_survey.db\")\n",
    "cursor = connection.cursor()"
   ]
  },
  {
   "cell_type": "code",
   "execution_count": 3,
   "metadata": {},
   "outputs": [],
   "source": [
    "def parse(filename, expression):\n",
    "    with open(filename) as f:\n",
    "        return [re.match(expression, line) for line in f]\n",
    "    \n",
    "def head(iterable, n=10):\n",
    "    return list(islice(iterable, n))"
   ]
  },
  {
   "cell_type": "markdown",
   "metadata": {},
   "source": [
    "## Blame-Parser"
   ]
  },
  {
   "cell_type": "code",
   "execution_count": 6,
   "metadata": {},
   "outputs": [],
   "source": [
    "# How does cregit handle ifdefs in functions?"
   ]
  },
  {
   "cell_type": "code",
   "execution_count": 7,
   "metadata": {},
   "outputs": [],
   "source": [
    "def strict_match(pattern, line, flags=0):\n",
    "    m = re.match(pattern, line, flags=0)\n",
    "    if m:\n",
    "        return m\n",
    "    raise(ValueError, f\"{pattern} did not match {line}\")\n",
    "\n",
    "def blame_contents(match):\n",
    "    return match[\"contents\"].split(\"|\")\n",
    "\n",
    "def parse_blame_file(filename):\n",
    "    expression = (r\"^(?P<hash>\\w{40});\"\n",
    "                  r\"(?P<previous_file_name>[^\\s;]*);\"\n",
    "                  r\"\\t(?P<contents>.*)$\"\n",
    "                 )\n",
    "    with open(filename) as f:\n",
    "        yield from (blame_contents(strict_match(expression, line)) for line in f)"
   ]
  },
  {
   "cell_type": "code",
   "execution_count": 8,
   "metadata": {},
   "outputs": [],
   "source": [
    "def parse_whole(filename):\n",
    "    lines = parse_blame_file(filename)\n",
    "\n",
    "    for start, *rest in lines:\n",
    "        if (start in (\"begin_unit\", \"end_unit\", \"\")):\n",
    "            pass\n",
    "        elif start.startswith(\"begin_\"):\n",
    "            item = start[len(\"begin_\"):]\n",
    "            if item == \"function\":\n",
    "                yield (\"function\", *parse_function(lines_in_item(lines, item)))\n",
    "            elif item == \"include\":\n",
    "                yield (\"include\", *parse_include(lines_in_item(lines, item)))\n",
    "            else:\n",
    "                # function_decl will be skipped\n",
    "                yield skip(lines, item)\n",
    "\n",
    "def parse_function(lines):\n",
    "    lines = iter(lines)\n",
    "    function_name, specifiers = parse_function_decl(lines)\n",
    "    callees = parse_function_body(lines)\n",
    "    return (function_name, specifiers, callees)\n",
    "\n",
    "def parse_function_decl(lines):\n",
    "    specifiers = []\n",
    "    function_name = None\n",
    "    for start, *rest in lines:\n",
    "        if start == \"specifier\":\n",
    "            assert len(rest) == 1, rest\n",
    "            specifiers += rest\n",
    "            # are there other specifiers than static\n",
    "        elif start == \"DECL\":\n",
    "            assert rest[0] == \"function\", (start, rest)\n",
    "            function_name = rest[1].split()[0]\n",
    "        elif start == \"name\":\n",
    "            pass # we may be able to weed out the function name, and get the types if that is usefull\n",
    "        elif start == \"parameter_list\" and rest == [\")\"]:\n",
    "            break  # this marks the end of the function header\n",
    "        else:\n",
    "            pass # TODO: check what other declaration parts end up here\n",
    "    # assert function_name is not None \n",
    "    # in blame/drivers/ssb/main.c the function name_show\n",
    "    # does not have it's declaration detected\n",
    "    # by the blame file parser\n",
    "    # This might be correctible by using the name directly before the function parameters as the function name\n",
    "    # I will be ignoring this edge case for now.\n",
    "    return function_name, specifiers\n",
    "\n",
    "def parse_function_body(lines):\n",
    "    names = []\n",
    "    callees = []\n",
    "    \n",
    "    contents = next(lines)\n",
    "    # check if this holds for empty blocks\n",
    "    # extend to handle function declarations\n",
    "#     assert (contents == [\"block\", \"{\"] or contents == [\"block\", \"{}\"]), \"function body must start with block\"\n",
    "    \n",
    "    prev_name = None\n",
    "    for start, *rest in lines:\n",
    "        if start == \"name\":\n",
    "            assert len(rest) == 1\n",
    "            names += rest\n",
    "            prev_name = rest[0]\n",
    "        elif start == \"argument_list\":\n",
    "            if rest in [[\"(\"], [\"()\"]]:\n",
    "                if prev_name is not None:\n",
    "                    callees.append(prev_name)\n",
    "            prev_name = None\n",
    "        else:\n",
    "            prev_name = None # assume that argument lists always follow function names directly\n",
    "    return callees\n",
    "            \n",
    "def parse_include(lines):\n",
    "    assert len(lines) == 3, lines\n",
    "    lines = iter(lines)\n",
    "    assert next(lines) == [\"include\", \"#\"], lines\n",
    "    assert next(lines) == [\"directive\", \"include\"], lines\n",
    "    start, *rest = next(lines)\n",
    "    assert start == \"file\" and len(rest) == 1, lines\n",
    "    return rest\n",
    "    \n",
    "def skip(lines, item):\n",
    "    \"\"\"Skips to the end of a begin/end pair\"\"\"\n",
    "    lines_in_item(lines, item)\n",
    "    return (item, \"skipped\")\n",
    "        \n",
    "def lines_in_item(lines, item):\n",
    "    \"\"\"Returns a list of all lines between the begin_? and end_? markers\"\"\"\n",
    "    result = []\n",
    "    \n",
    "    start, *rest = contents = next(lines)\n",
    "    while start != f\"end_{item}\":\n",
    "        assert not start.startswith(\"end_\"), \"end of different item found\"\n",
    "        assert not start.startswith(\"begin_\"), \"start of different item found\"\n",
    "        result.append(contents)\n",
    "        start, *rest = contents = next(lines)\n",
    "    return result\n",
    "            \n",
    "\n",
    "def output_location(input_path):\n",
    "    output_path = blame_parsed/input_path.relative_to(blame_files)\n",
    "    output_path.parent.mkdir(parents=True, exist_ok=True)\n",
    "    return output_path\n",
    "\n",
    "def parse_to_file(filename):\n",
    "    parsed = list(parse_whole(filename))\n",
    "    output_path = output_location(filename)\n",
    "    with open(output_path.with_suffix(\".all_items\"), \"w\") as all_items,\\\n",
    "         open(output_path.with_suffix(\".functions\"), \"w\") as functions,\\\n",
    "         open(output_path.with_suffix(\".specifiers\"), \"w\") as specifiers,\\\n",
    "         open(output_path.with_suffix(\".calls\"), \"w\") as calls,\\\n",
    "         open(output_path.with_suffix(\".includes\"), \"w\") as includes:\n",
    "        all_items.writelines(str(x)+\"\\n\" for x in parsed) # not csv formatted\n",
    "        all_items, functions, specifiers, calls, includes = (\n",
    "            csv.writer(f) for f in (all_items, functions, specifiers, calls, includes))\n",
    "        for line in parsed:\n",
    "            if line[0] == \"function\":\n",
    "                function_name = line[1]\n",
    "                functions.writerow([function_name])\n",
    "                for specifier in line[2]:\n",
    "                    specifiers.writerow([function_name, specifier])\n",
    "                for callee in line[3]:\n",
    "                    calls.writerow([function_name,callee])\n",
    "            elif line[0] == \"include\":\n",
    "                includes.writerow([line[1]])\n",
    "            else:\n",
    "                assert line[1] == \"skipped\"\n",
    "    \n",
    "def parse_kernel():\n",
    "    for filename in blame_files.rglob(\"*.c.blame\"):\n",
    "        yield filename, parse_whole(filename)\n"
   ]
  },
  {
   "cell_type": "code",
   "execution_count": 9,
   "metadata": {},
   "outputs": [],
   "source": [
    "faillures = []\n",
    "for filename in blame_files.rglob(\"*.c.blame\"):\n",
    "    try:\n",
    "        parse_to_file(filename)\n",
    "    except Exception as e:\n",
    "        faillures.append((filename,e))"
   ]
  },
  {
   "cell_type": "code",
   "execution_count": 10,
   "metadata": {},
   "outputs": [
    {
     "data": {
      "text/plain": [
       "73"
      ]
     },
     "execution_count": 10,
     "metadata": {},
     "output_type": "execute_result"
    }
   ],
   "source": [
    "len(faillures)"
   ]
  },
  {
   "cell_type": "code",
   "execution_count": null,
   "metadata": {},
   "outputs": [],
   "source": []
  },
  {
   "cell_type": "code",
   "execution_count": null,
   "metadata": {},
   "outputs": [],
   "source": []
  },
  {
   "cell_type": "code",
   "execution_count": 101,
   "metadata": {},
   "outputs": [],
   "source": []
  },
  {
   "cell_type": "code",
   "execution_count": 11,
   "metadata": {},
   "outputs": [],
   "source": [
    "# regenerate sql database\n",
    "\n",
    "def read_csv(filename):\n",
    "    with open(filename) as f:\n",
    "        reader = csv.reader(f)\n",
    "        for row in reader:\n",
    "            yield row\n",
    "    \n",
    "def corresponding_kernel_file(filename):\n",
    "    return str(filename.relative_to(blame_parsed).with_suffix(\"\"))\n",
    "    \n",
    "def reset_table(table_name, suffix, column_names):\n",
    "    cursor.execute(f\"DROP TABLE IF EXISTS {table_name}\")\n",
    "    cursor.execute(f\"CREATE TABLE {table_name} ({','.join(column_names)})\")\n",
    "    placeholder = \", \".join(['?'] * len(column_names))\n",
    "    cursor.executemany(f\"INSERT INTO {table_name} VALUES ({placeholder})\", (\n",
    "        (corresponding_kernel_file(filename), *row)\n",
    "           # assumes no exta commas in file contents. Will error if this is not true.\n",
    "         for filename in blame_parsed.rglob(f\"*.c.{suffix}\")\n",
    "         for row in read_csv(filename)))\n",
    "    connection.commit()"
   ]
  },
  {
   "cell_type": "code",
   "execution_count": 15,
   "metadata": {},
   "outputs": [],
   "source": [
    "reset_table(\"cregit_functions\", \"functions\", (\"file\",\"name\"))\n",
    "reset_table(\"cregit_calls\", \"calls\", (\"file\", \"caller\", \"callee\"))\n",
    "reset_table(\"cregit_includes\", \"includes\", (\"file\", \"include\"))\n",
    "reset_table(\"cregit_specifiers\", \"specifiers\", (\"file\", \"name\", \"specifier\"))"
   ]
  },
  {
   "cell_type": "code",
   "execution_count": 14,
   "metadata": {},
   "outputs": [
    {
     "data": {
      "text/plain": [
       "[]"
      ]
     },
     "execution_count": 14,
     "metadata": {},
     "output_type": "execute_result"
    }
   ],
   "source": [
    "[(filename, row)\n",
    " for filename in blame_parsed.rglob(f\"*.c.specifiers\")\n",
    " for row in read_csv(filename) if len(row) != 2]"
   ]
  },
  {
   "cell_type": "code",
   "execution_count": null,
   "metadata": {},
   "outputs": [],
   "source": [
    "head(cursor.execute(\"SELECT COUNT(*) FROM cregit_functions\"))"
   ]
  },
  {
   "cell_type": "code",
   "execution_count": null,
   "metadata": {},
   "outputs": [],
   "source": []
  }
 ],
 "metadata": {
  "kernelspec": {
   "display_name": "Python 3",
   "language": "python",
   "name": "python3"
  },
  "language_info": {
   "codemirror_mode": {
    "name": "ipython",
    "version": 3
   },
   "file_extension": ".py",
   "mimetype": "text/x-python",
   "name": "python",
   "nbconvert_exporter": "python",
   "pygments_lexer": "ipython3",
   "version": "3.8.5"
  }
 },
 "nbformat": 4,
 "nbformat_minor": 4
}
