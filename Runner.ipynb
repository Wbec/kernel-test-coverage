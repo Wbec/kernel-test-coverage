{
 "cells": [
  {
   "cell_type": "code",
   "execution_count": 1,
   "metadata": {},
   "outputs": [],
   "source": [
    "import subprocess\n",
    "import re\n",
    "import random\n",
    "\n",
    "\n",
    "import locations\n",
    "import parse_cregit"
   ]
  },
  {
   "cell_type": "code",
   "execution_count": 2,
   "metadata": {},
   "outputs": [],
   "source": [
    "def all_tags():\n",
    "    result = subprocess.run(\"git tag\", cwd=locations.tokenized_kernel, capture_output=True, shell=True)\n",
    "    return str(result.stdout, 'utf-8').strip().split(\"\\n\")\n",
    "\n",
    "def tags():\n",
    "    result = []\n",
    "    for tag in all_tags():\n",
    "        m = re.match(r'^v(\\d+)\\.(\\d+)$', tag)\n",
    "        if m:\n",
    "            major, minor = m.groups()\n",
    "            result.append((tag, int(major), int(minor)))\n",
    "    return result"
   ]
  },
  {
   "cell_type": "code",
   "execution_count": 3,
   "metadata": {},
   "outputs": [],
   "source": [
    "for tag, major, minor in tags()[:1]:\n",
    "    subprocess.run(f\"git checkout {tag}\", cwd=locations.tokenized_kernel, shell=True, check=True)\n",
    "    outdir = locations.by_tag/tag\n",
    "    outdir.mkdir(exist_ok=True)\n",
    "    parse_cregit.parse(\n",
    "        random.sample(list(locations.tokenized_kernel.rglob(\"*.c\")), 20),\n",
    "        outdir                       \n",
    "    )\n",
    "#     parse_cregit.parse_all()"
   ]
  },
  {
   "cell_type": "code",
   "execution_count": null,
   "metadata": {},
   "outputs": [],
   "source": []
  }
 ],
 "metadata": {
  "kernelspec": {
   "display_name": "Python 3",
   "language": "python",
   "name": "python3"
  },
  "language_info": {
   "codemirror_mode": {
    "name": "ipython",
    "version": 3
   },
   "file_extension": ".py",
   "mimetype": "text/x-python",
   "name": "python",
   "nbconvert_exporter": "python",
   "pygments_lexer": "ipython3",
   "version": "3.8.5"
  }
 },
 "nbformat": 4,
 "nbformat_minor": 4
}
