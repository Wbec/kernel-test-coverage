{
 "cells": [
  {
   "cell_type": "markdown",
   "metadata": {},
   "source": [
    "# Mapping Test Coverage in the Linux Kernel\n",
    "\n",
    "\n",
    "## Will Beckett CSC 499 Honours Project\n",
    "\n",
    "## Advised by Prof Daniel German\n"
   ]
  },
  {
   "cell_type": "code",
   "execution_count": 1,
   "metadata": {},
   "outputs": [],
   "source": [
    "import pandas as pd\n",
    "from pathlib import Path\n",
    "import re\n",
    "import subprocess\n",
    "import numpy as np\n",
    "\n",
    "import locations\n",
    "from runner import tags\n",
    "\n",
    "from ipywidgets import widgets, Layout, fixed\n",
    "import plotly.express as px"
   ]
  },
  {
   "cell_type": "code",
   "execution_count": 2,
   "metadata": {},
   "outputs": [],
   "source": [
    "non_static_df = pd.read_csv(locations.OUTDIR/\"coverage_by_tag_ns_nt_i.csv\").rename(\n",
    "    columns={\"non_static\": \"functions\"}).fillna('')\n",
    "static_df = pd.read_csv(locations.OUTDIR/\"coverage_by_tag_s_nt_i.csv\").fillna('')\n",
    "non_static_df[\"ratio\"] = non_static_df[\"tested\"]/non_static_df[\"functions\"]\n",
    "static_df[\"ratio\"] = static_df[\"tested\"]/static_df[\"functions\"]"
   ]
  },
  {
   "cell_type": "code",
   "execution_count": 3,
   "metadata": {},
   "outputs": [],
   "source": [
    "def make_plot(df, directory):\n",
    "    directory=directory.rstrip(\"/\")\n",
    "    ax = df[df[\"directory\"] == directory].plot(\n",
    "        x=\"tag\", y=[\"functions\", \"tested\", \"ratio\"], secondary_y=\"ratio\", title=directory or 'whole kernel',\n",
    "        figsize=(10, 10), fontsize=16\n",
    "    )\n",
    "    ax.set_xlabel(\"Version Number\", fontdict={'fontsize':16})\n",
    "    ax.set_ylabel(\"Number of Functions\", fontdict={'fontsize':16})\n",
    "    ax.right_ax.set_ylabel(\"Coverage Ratio\", fontdict={'fontsize':16})\n",
    "    bottom, top = ax.get_ylim()\n",
    "    ax.set_ylim(0, top)\n",
    "    bottom, top = ax.right_ax.get_ylim()\n",
    "    ax.right_ax.set_ylim(0, top)\n",
    "    \n",
    "def interactive_plot(df):\n",
    "    selector = widgets.Combobox(options=list(set(df[\"directory\"])), description=\"directory\",\n",
    "                        layout=Layout(width=\"500px\"))\n",
    "    plot = widgets.interactive_output(make_plot, {'df': fixed(df), 'directory':selector})\n",
    "    display(plot, selector)"
   ]
  },
  {
   "cell_type": "code",
   "execution_count": 4,
   "metadata": {},
   "outputs": [
    {
     "data": {
      "application/vnd.jupyter.widget-view+json": {
       "model_id": "aecfb64ded95450bbab49128e212a156",
       "version_major": 2,
       "version_minor": 0
      },
      "text/plain": [
       "Output()"
      ]
     },
     "metadata": {},
     "output_type": "display_data"
    },
    {
     "data": {
      "application/vnd.jupyter.widget-view+json": {
       "model_id": "8ea0fcc294ff4779a49aa9f772ddbed9",
       "version_major": 2,
       "version_minor": 0
      },
      "text/plain": [
       "Combobox(value='', description='directory', layout=Layout(width='500px'), options=('', 'drivers/staging/rtlwif…"
      ]
     },
     "metadata": {},
     "output_type": "display_data"
    }
   ],
   "source": [
    "interactive_plot(non_static_df)"
   ]
  },
  {
   "cell_type": "code",
   "execution_count": 5,
   "metadata": {},
   "outputs": [
    {
     "data": {
      "application/vnd.jupyter.widget-view+json": {
       "model_id": "25a2448d96fa4d48928e6cf3f56fdc62",
       "version_major": 2,
       "version_minor": 0
      },
      "text/plain": [
       "Output()"
      ]
     },
     "metadata": {},
     "output_type": "display_data"
    },
    {
     "data": {
      "application/vnd.jupyter.widget-view+json": {
       "model_id": "138d6fa36050401489d8ece50386e6c3",
       "version_major": 2,
       "version_minor": 0
      },
      "text/plain": [
       "Combobox(value='', description='directory', layout=Layout(width='500px'), options=('', 'drivers/net/ethernet/a…"
      ]
     },
     "metadata": {},
     "output_type": "display_data"
    }
   ],
   "source": [
    "interactive_plot(static_df)"
   ]
  },
  {
   "cell_type": "markdown",
   "metadata": {},
   "source": [
    "Transitive tests are not counted."
   ]
  },
  {
   "cell_type": "code",
   "execution_count": null,
   "metadata": {},
   "outputs": [],
   "source": [
    "def test():\n",
    "    function_a()\n",
    "    \n",
    "def function_a(): # this counts as tested\n",
    "    funtion_b() \n",
    "    \n",
    "def function_b(): # this does not count as tested\n",
    "    pass "
   ]
  },
  {
   "cell_type": "code",
   "execution_count": 6,
   "metadata": {},
   "outputs": [],
   "source": [
    "def prep_treedf(df, version):\n",
    "    treedf = df.copy()\n",
    "    treedf = treedf[treedf.tag == version]\n",
    "    treedf[\"directory\"].replace(\"\", \"kernel root\", inplace=True)\n",
    "\n",
    "    treedf[\"parent\"] = treedf[\"directory\"].apply(get_parent)\n",
    "    treedf[\"count excluding subdirectories\"] = treedf[\"functions\"]\n",
    "\n",
    "    rows = treedf.copy().iterrows()\n",
    "    for parent,value in treedf.groupby(\"parent\")[\"functions\"].sum().iteritems():\n",
    "        treedf.loc[treedf[\"directory\"] == parent,[\"count excluding subdirectories\"]] -= value\n",
    "\n",
    "    assert len(treedf[treedf[\"count excluding subdirectories\"] < 0]) == 0\n",
    "    return treedf\n",
    "\n",
    "def treemap(df, version):\n",
    "    treedf = prep_treedf(df, version)\n",
    "    color = treedf[\"ratio\"].replace(0, np.nan)\n",
    "    fig = px.treemap(treedf, names=\"directory\", parents=\"parent\",\n",
    "                     values=\"count excluding subdirectories\", color=color,\n",
    "                     color_continuous_scale=[\"red\", \"yellow\", \"green\"],\n",
    "                     height=600,\n",
    "                     range_color=(0,0.1), # we can cap the max ratio colour\n",
    "                     hover_data=[\"ratio\", \"functions\"]\n",
    "                    )\n",
    "    return fig\n",
    "\n",
    "def show_treemap(df, version):\n",
    "    treemap(df, version).show()\n",
    "    \n",
    "def get_parent(p):\n",
    "    if p == \"kernel root\":\n",
    "        return \"\"\n",
    "    if \"/\" not in p:\n",
    "        return \"kernel root\"\n",
    "    return \"/\".join(p.split(\"/\")[:-1])\n",
    "\n",
    "\n",
    "def treemap_with_selector(df):\n",
    "    selector = widgets.Dropdown(options=[x for x,_,_ in tags()], description=\"Kernel Version\")\n",
    "    plot = widgets.interactive_output(show_treemap, {'df': fixed(df), 'version':selector})\n",
    "    return (selector, plot)"
   ]
  },
  {
   "cell_type": "code",
   "execution_count": 8,
   "metadata": {},
   "outputs": [
    {
     "data": {
      "application/vnd.jupyter.widget-view+json": {
       "model_id": "124fab397d0b4fcc8336c9a1617b82a4",
       "version_major": 2,
       "version_minor": 0
      },
      "text/plain": [
       "Dropdown(description='Kernel Version', options=('v3.0', 'v3.1', 'v3.2', 'v3.3', 'v3.4', 'v3.5', 'v3.6', 'v3.7'…"
      ]
     },
     "metadata": {},
     "output_type": "display_data"
    },
    {
     "data": {
      "application/vnd.jupyter.widget-view+json": {
       "model_id": "02f4d2594e194fbfbac252b0ebaab797",
       "version_major": 2,
       "version_minor": 0
      },
      "text/plain": [
       "Output()"
      ]
     },
     "metadata": {},
     "output_type": "display_data"
    }
   ],
   "source": [
    "display(*treemap_with_selector(non_static_df))"
   ]
  },
  {
   "cell_type": "code",
   "execution_count": 9,
   "metadata": {
    "scrolled": false
   },
   "outputs": [
    {
     "data": {
      "application/vnd.jupyter.widget-view+json": {
       "model_id": "c11b14c13dff44a08697ed81f47fbc3c",
       "version_major": 2,
       "version_minor": 0
      },
      "text/plain": [
       "Dropdown(description='Kernel Version', options=('v3.0', 'v3.1', 'v3.2', 'v3.3', 'v3.4', 'v3.5', 'v3.6', 'v3.7'…"
      ]
     },
     "metadata": {},
     "output_type": "display_data"
    },
    {
     "data": {
      "application/vnd.jupyter.widget-view+json": {
       "model_id": "e94e308fab7e4d9cbb3c4deb2a9c9c02",
       "version_major": 2,
       "version_minor": 0
      },
      "text/plain": [
       "Output()"
      ]
     },
     "metadata": {},
     "output_type": "display_data"
    }
   ],
   "source": [
    "display(*treemap_with_selector(non_static_df))"
   ]
  },
  {
   "cell_type": "markdown",
   "metadata": {},
   "source": [
    "# https://github.com/Wbec/kernel-test-coverage"
   ]
  },
  {
   "cell_type": "code",
   "execution_count": null,
   "metadata": {},
   "outputs": [],
   "source": []
  }
 ],
 "metadata": {
  "kernelspec": {
   "display_name": "venv",
   "language": "python",
   "name": "venv"
  },
  "language_info": {
   "codemirror_mode": {
    "name": "ipython",
    "version": 3
   },
   "file_extension": ".py",
   "mimetype": "text/x-python",
   "name": "python",
   "nbconvert_exporter": "python",
   "pygments_lexer": "ipython3",
   "version": "3.8.5"
  }
 },
 "nbformat": 4,
 "nbformat_minor": 4
}
